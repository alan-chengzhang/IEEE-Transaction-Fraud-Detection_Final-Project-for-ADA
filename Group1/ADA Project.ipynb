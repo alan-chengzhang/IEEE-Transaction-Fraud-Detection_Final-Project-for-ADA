{
 "cells": [
  {
   "cell_type": "code",
   "execution_count": 56,
   "metadata": {},
   "outputs": [],
   "source": [
    "import numpy as np\n",
    "import pandas as pd \n",
    "import seaborn as sns\n",
    "import matplotlib.pyplot as plt\n",
    "from sklearn import preprocessing\n",
    "from sklearn.linear_model import LogisticRegression\n",
    "from sklearn.ensemble import RandomForestClassifier\n",
    "import statsmodels.api as sm\n",
    "from scipy import stats\n",
    "from sklearn.metrics import roc_auc_score\n",
    "from sklearn.metrics import roc_curve\n",
    "from sklearn.model_selection import train_test_split\n",
    "from xgboost import XGBClassifier\n",
    "from xgboost import plot_importance"
   ]
  },
  {
   "cell_type": "markdown",
   "metadata": {},
   "source": [
    "# Data Preprocessing"
   ]
  },
  {
   "cell_type": "code",
   "execution_count": 2,
   "metadata": {},
   "outputs": [],
   "source": [
    "\n",
    "train_transaction = pd.read_csv(\"/Users/lizhiying/Desktop/ADA/ieee-fraud-detection/train_transaction.csv\", index_col='TransactionID')\n",
    "test_transaction = pd.read_csv(\"/Users/lizhiying/Desktop/ADA/ieee-fraud-detection/test_transaction.csv\", index_col='TransactionID')\n",
    "\n",
    "train_identity = pd.read_csv(\"/Users/lizhiying/Desktop/ADA/ieee-fraud-detection/train_identity.csv\", index_col='TransactionID')\n",
    "test_identity = pd.read_csv(\"/Users/lizhiying/Desktop/ADA/ieee-fraud-detection/test_identity.csv\", index_col='TransactionID')"
   ]
  },
  {
   "cell_type": "code",
   "execution_count": 3,
   "metadata": {},
   "outputs": [],
   "source": [
    "train = train_transaction.merge(train_identity, how='left', left_index=True, right_index=True)\n",
    "test = test_transaction.merge(test_identity, how='left', left_index=True, right_index=True)"
   ]
  },
  {
   "cell_type": "code",
   "execution_count": 4,
   "metadata": {},
   "outputs": [],
   "source": [
    "raw = train.copy()"
   ]
  },
  {
   "cell_type": "code",
   "execution_count": 5,
   "metadata": {},
   "outputs": [
    {
     "data": {
      "text/plain": [
       "(590540, 433)"
      ]
     },
     "execution_count": 5,
     "metadata": {},
     "output_type": "execute_result"
    }
   ],
   "source": [
    "raw.shape"
   ]
  },
  {
   "cell_type": "code",
   "execution_count": 6,
   "metadata": {},
   "outputs": [
    {
     "data": {
      "text/html": [
       "<div>\n",
       "<style scoped>\n",
       "    .dataframe tbody tr th:only-of-type {\n",
       "        vertical-align: middle;\n",
       "    }\n",
       "\n",
       "    .dataframe tbody tr th {\n",
       "        vertical-align: top;\n",
       "    }\n",
       "\n",
       "    .dataframe thead th {\n",
       "        text-align: right;\n",
       "    }\n",
       "</style>\n",
       "<table border=\"1\" class=\"dataframe\">\n",
       "  <thead>\n",
       "    <tr style=\"text-align: right;\">\n",
       "      <th></th>\n",
       "      <th>isFraud</th>\n",
       "      <th>TransactionDT</th>\n",
       "      <th>TransactionAmt</th>\n",
       "      <th>ProductCD</th>\n",
       "      <th>card1</th>\n",
       "      <th>card2</th>\n",
       "      <th>card3</th>\n",
       "      <th>card4</th>\n",
       "      <th>card5</th>\n",
       "      <th>card6</th>\n",
       "      <th>...</th>\n",
       "      <th>id_31</th>\n",
       "      <th>id_32</th>\n",
       "      <th>id_33</th>\n",
       "      <th>id_34</th>\n",
       "      <th>id_35</th>\n",
       "      <th>id_36</th>\n",
       "      <th>id_37</th>\n",
       "      <th>id_38</th>\n",
       "      <th>DeviceType</th>\n",
       "      <th>DeviceInfo</th>\n",
       "    </tr>\n",
       "    <tr>\n",
       "      <th>TransactionID</th>\n",
       "      <th></th>\n",
       "      <th></th>\n",
       "      <th></th>\n",
       "      <th></th>\n",
       "      <th></th>\n",
       "      <th></th>\n",
       "      <th></th>\n",
       "      <th></th>\n",
       "      <th></th>\n",
       "      <th></th>\n",
       "      <th></th>\n",
       "      <th></th>\n",
       "      <th></th>\n",
       "      <th></th>\n",
       "      <th></th>\n",
       "      <th></th>\n",
       "      <th></th>\n",
       "      <th></th>\n",
       "      <th></th>\n",
       "      <th></th>\n",
       "      <th></th>\n",
       "    </tr>\n",
       "  </thead>\n",
       "  <tbody>\n",
       "    <tr>\n",
       "      <th>2987000</th>\n",
       "      <td>0</td>\n",
       "      <td>86400</td>\n",
       "      <td>68.5</td>\n",
       "      <td>W</td>\n",
       "      <td>13926</td>\n",
       "      <td>NaN</td>\n",
       "      <td>150.0</td>\n",
       "      <td>discover</td>\n",
       "      <td>142.0</td>\n",
       "      <td>credit</td>\n",
       "      <td>...</td>\n",
       "      <td>NaN</td>\n",
       "      <td>NaN</td>\n",
       "      <td>NaN</td>\n",
       "      <td>NaN</td>\n",
       "      <td>NaN</td>\n",
       "      <td>NaN</td>\n",
       "      <td>NaN</td>\n",
       "      <td>NaN</td>\n",
       "      <td>NaN</td>\n",
       "      <td>NaN</td>\n",
       "    </tr>\n",
       "    <tr>\n",
       "      <th>2987001</th>\n",
       "      <td>0</td>\n",
       "      <td>86401</td>\n",
       "      <td>29.0</td>\n",
       "      <td>W</td>\n",
       "      <td>2755</td>\n",
       "      <td>404.0</td>\n",
       "      <td>150.0</td>\n",
       "      <td>mastercard</td>\n",
       "      <td>102.0</td>\n",
       "      <td>credit</td>\n",
       "      <td>...</td>\n",
       "      <td>NaN</td>\n",
       "      <td>NaN</td>\n",
       "      <td>NaN</td>\n",
       "      <td>NaN</td>\n",
       "      <td>NaN</td>\n",
       "      <td>NaN</td>\n",
       "      <td>NaN</td>\n",
       "      <td>NaN</td>\n",
       "      <td>NaN</td>\n",
       "      <td>NaN</td>\n",
       "    </tr>\n",
       "    <tr>\n",
       "      <th>2987002</th>\n",
       "      <td>0</td>\n",
       "      <td>86469</td>\n",
       "      <td>59.0</td>\n",
       "      <td>W</td>\n",
       "      <td>4663</td>\n",
       "      <td>490.0</td>\n",
       "      <td>150.0</td>\n",
       "      <td>visa</td>\n",
       "      <td>166.0</td>\n",
       "      <td>debit</td>\n",
       "      <td>...</td>\n",
       "      <td>NaN</td>\n",
       "      <td>NaN</td>\n",
       "      <td>NaN</td>\n",
       "      <td>NaN</td>\n",
       "      <td>NaN</td>\n",
       "      <td>NaN</td>\n",
       "      <td>NaN</td>\n",
       "      <td>NaN</td>\n",
       "      <td>NaN</td>\n",
       "      <td>NaN</td>\n",
       "    </tr>\n",
       "    <tr>\n",
       "      <th>2987003</th>\n",
       "      <td>0</td>\n",
       "      <td>86499</td>\n",
       "      <td>50.0</td>\n",
       "      <td>W</td>\n",
       "      <td>18132</td>\n",
       "      <td>567.0</td>\n",
       "      <td>150.0</td>\n",
       "      <td>mastercard</td>\n",
       "      <td>117.0</td>\n",
       "      <td>debit</td>\n",
       "      <td>...</td>\n",
       "      <td>NaN</td>\n",
       "      <td>NaN</td>\n",
       "      <td>NaN</td>\n",
       "      <td>NaN</td>\n",
       "      <td>NaN</td>\n",
       "      <td>NaN</td>\n",
       "      <td>NaN</td>\n",
       "      <td>NaN</td>\n",
       "      <td>NaN</td>\n",
       "      <td>NaN</td>\n",
       "    </tr>\n",
       "    <tr>\n",
       "      <th>2987004</th>\n",
       "      <td>0</td>\n",
       "      <td>86506</td>\n",
       "      <td>50.0</td>\n",
       "      <td>H</td>\n",
       "      <td>4497</td>\n",
       "      <td>514.0</td>\n",
       "      <td>150.0</td>\n",
       "      <td>mastercard</td>\n",
       "      <td>102.0</td>\n",
       "      <td>credit</td>\n",
       "      <td>...</td>\n",
       "      <td>samsung browser 6.2</td>\n",
       "      <td>32.0</td>\n",
       "      <td>2220x1080</td>\n",
       "      <td>match_status:2</td>\n",
       "      <td>T</td>\n",
       "      <td>F</td>\n",
       "      <td>T</td>\n",
       "      <td>T</td>\n",
       "      <td>mobile</td>\n",
       "      <td>SAMSUNG SM-G892A Build/NRD90M</td>\n",
       "    </tr>\n",
       "  </tbody>\n",
       "</table>\n",
       "<p>5 rows × 433 columns</p>\n",
       "</div>"
      ],
      "text/plain": [
       "               isFraud  TransactionDT  TransactionAmt ProductCD  card1  card2  \\\n",
       "TransactionID                                                                   \n",
       "2987000              0          86400            68.5         W  13926    NaN   \n",
       "2987001              0          86401            29.0         W   2755  404.0   \n",
       "2987002              0          86469            59.0         W   4663  490.0   \n",
       "2987003              0          86499            50.0         W  18132  567.0   \n",
       "2987004              0          86506            50.0         H   4497  514.0   \n",
       "\n",
       "               card3       card4  card5   card6  \\\n",
       "TransactionID                                     \n",
       "2987000        150.0    discover  142.0  credit   \n",
       "2987001        150.0  mastercard  102.0  credit   \n",
       "2987002        150.0        visa  166.0   debit   \n",
       "2987003        150.0  mastercard  117.0   debit   \n",
       "2987004        150.0  mastercard  102.0  credit   \n",
       "\n",
       "                           ...                              id_31  id_32  \\\n",
       "TransactionID              ...                                             \n",
       "2987000                    ...                                NaN    NaN   \n",
       "2987001                    ...                                NaN    NaN   \n",
       "2987002                    ...                                NaN    NaN   \n",
       "2987003                    ...                                NaN    NaN   \n",
       "2987004                    ...                samsung browser 6.2   32.0   \n",
       "\n",
       "                   id_33           id_34 id_35 id_36  id_37  id_38  \\\n",
       "TransactionID                                                        \n",
       "2987000              NaN             NaN   NaN   NaN    NaN    NaN   \n",
       "2987001              NaN             NaN   NaN   NaN    NaN    NaN   \n",
       "2987002              NaN             NaN   NaN   NaN    NaN    NaN   \n",
       "2987003              NaN             NaN   NaN   NaN    NaN    NaN   \n",
       "2987004        2220x1080  match_status:2     T     F      T      T   \n",
       "\n",
       "               DeviceType                     DeviceInfo  \n",
       "TransactionID                                             \n",
       "2987000               NaN                            NaN  \n",
       "2987001               NaN                            NaN  \n",
       "2987002               NaN                            NaN  \n",
       "2987003               NaN                            NaN  \n",
       "2987004            mobile  SAMSUNG SM-G892A Build/NRD90M  \n",
       "\n",
       "[5 rows x 433 columns]"
      ]
     },
     "execution_count": 6,
     "metadata": {},
     "output_type": "execute_result"
    }
   ],
   "source": [
    "raw.head()"
   ]
  },
  {
   "cell_type": "code",
   "execution_count": 7,
   "metadata": {
    "scrolled": true
   },
   "outputs": [
    {
     "data": {
      "text/plain": [
       "isFraud           False\n",
       "TransactionDT     False\n",
       "TransactionAmt    False\n",
       "ProductCD         False\n",
       "card1             False\n",
       "card2              True\n",
       "card3              True\n",
       "card4              True\n",
       "card5              True\n",
       "card6              True\n",
       "addr1              True\n",
       "addr2              True\n",
       "dist1              True\n",
       "dist2              True\n",
       "P_emaildomain      True\n",
       "R_emaildomain      True\n",
       "C1                False\n",
       "C2                False\n",
       "C3                False\n",
       "C4                False\n",
       "C5                False\n",
       "C6                False\n",
       "C7                False\n",
       "C8                False\n",
       "C9                False\n",
       "C10               False\n",
       "C11               False\n",
       "C12               False\n",
       "C13               False\n",
       "C14               False\n",
       "                  ...  \n",
       "id_11              True\n",
       "id_12              True\n",
       "id_13              True\n",
       "id_14              True\n",
       "id_15              True\n",
       "id_16              True\n",
       "id_17              True\n",
       "id_18              True\n",
       "id_19              True\n",
       "id_20              True\n",
       "id_21              True\n",
       "id_22              True\n",
       "id_23              True\n",
       "id_24              True\n",
       "id_25              True\n",
       "id_26              True\n",
       "id_27              True\n",
       "id_28              True\n",
       "id_29              True\n",
       "id_30              True\n",
       "id_31              True\n",
       "id_32              True\n",
       "id_33              True\n",
       "id_34              True\n",
       "id_35              True\n",
       "id_36              True\n",
       "id_37              True\n",
       "id_38              True\n",
       "DeviceType         True\n",
       "DeviceInfo         True\n",
       "Length: 433, dtype: bool"
      ]
     },
     "execution_count": 7,
     "metadata": {},
     "output_type": "execute_result"
    }
   ],
   "source": [
    "raw.isna().any()"
   ]
  },
  {
   "cell_type": "code",
   "execution_count": 8,
   "metadata": {},
   "outputs": [],
   "source": [
    "mis = raw.isna().sum()"
   ]
  },
  {
   "cell_type": "markdown",
   "metadata": {},
   "source": [
    "### Histogram of Missing value"
   ]
  },
  {
   "cell_type": "code",
   "execution_count": 9,
   "metadata": {},
   "outputs": [
    {
     "data": {
      "text/plain": [
       "Text(0, 0.5, '#of Attributes')"
      ]
     },
     "execution_count": 9,
     "metadata": {},
     "output_type": "execute_result"
    },
    {
     "data": {
      "image/png": "[encoded data removed]",
      "text/plain": [
       "<Figure size 720x720 with 1 Axes>"
      ]
     },
     "metadata": {
      "needs_background": "light"
     },
     "output_type": "display_data"
    }
   ],
   "source": [
    "\n",
    "f, ax = plt.subplots(figsize=(10, 10))\n",
    "sns.distplot(mis, kde=False, color=\"b\",bins = 100)\n",
    "plt.xlabel(\"#of missing samples\")\n",
    "plt.ylabel(\"#of Attributes\")"
   ]
  },
  {
   "cell_type": "code",
   "execution_count": 10,
   "metadata": {},
   "outputs": [
    {
     "data": {
      "text/plain": [
       "19"
      ]
     },
     "execution_count": 10,
     "metadata": {},
     "output_type": "execute_result"
    }
   ],
   "source": [
    "sum(mis == 0)"
   ]
  },
  {
   "cell_type": "code",
   "execution_count": 11,
   "metadata": {},
   "outputs": [
    {
     "data": {
      "text/plain": [
       "isFraud           0\n",
       "TransactionDT     0\n",
       "TransactionAmt    0\n",
       "ProductCD         0\n",
       "card1             0\n",
       "C1                0\n",
       "C2                0\n",
       "C3                0\n",
       "C4                0\n",
       "C5                0\n",
       "C6                0\n",
       "C7                0\n",
       "C8                0\n",
       "C9                0\n",
       "C10               0\n",
       "C11               0\n",
       "C12               0\n",
       "C13               0\n",
       "C14               0\n",
       "dtype: int64"
      ]
     },
     "execution_count": 11,
     "metadata": {},
     "output_type": "execute_result"
    }
   ],
   "source": [
    "mis[mis==0]"
   ]
  },
  {
   "cell_type": "markdown",
   "metadata": {},
   "source": [
    "Only 19 attributes are not missing "
   ]
  },
  {
   "cell_type": "code",
   "execution_count": 12,
   "metadata": {},
   "outputs": [
    {
     "data": {
      "text/plain": [
       "dist2    552913\n",
       "D6       517353\n",
       "D7       551623\n",
       "D8       515614\n",
       "D9       515614\n",
       "D12      525823\n",
       "D13      528588\n",
       "D14      528353\n",
       "V138     508595\n",
       "V139     508595\n",
       "V140     508595\n",
       "V141     508595\n",
       "V142     508595\n",
       "V143     508589\n",
       "V144     508589\n",
       "V145     508589\n",
       "V146     508595\n",
       "V147     508595\n",
       "V148     508595\n",
       "V149     508595\n",
       "V150     508589\n",
       "V151     508589\n",
       "V152     508589\n",
       "V153     508595\n",
       "V154     508595\n",
       "V155     508595\n",
       "V156     508595\n",
       "V157     508595\n",
       "V158     508595\n",
       "V159     508589\n",
       "          ...  \n",
       "V329     508189\n",
       "V330     508189\n",
       "V331     508189\n",
       "V332     508189\n",
       "V333     508189\n",
       "V334     508189\n",
       "V335     508189\n",
       "V336     508189\n",
       "V337     508189\n",
       "V338     508189\n",
       "V339     508189\n",
       "id_03    524216\n",
       "id_04    524216\n",
       "id_07    585385\n",
       "id_08    585385\n",
       "id_09    515614\n",
       "id_10    515614\n",
       "id_14    510496\n",
       "id_18    545427\n",
       "id_21    585381\n",
       "id_22    585371\n",
       "id_23    585371\n",
       "id_24    585793\n",
       "id_25    585408\n",
       "id_26    585377\n",
       "id_27    585371\n",
       "id_30    512975\n",
       "id_32    512954\n",
       "id_33    517251\n",
       "id_34    512735\n",
       "Length: 74, dtype: int64"
      ]
     },
     "execution_count": 12,
     "metadata": {},
     "output_type": "execute_result"
    }
   ],
   "source": [
    "mis[mis > 500000]"
   ]
  },
  {
   "cell_type": "code",
   "execution_count": 13,
   "metadata": {},
   "outputs": [
    {
     "data": {
      "text/plain": [
       "array([569877,  20663])"
      ]
     },
     "execution_count": 13,
     "metadata": {},
     "output_type": "execute_result"
    }
   ],
   "source": [
    "np.bincount(raw['isFraud'])"
   ]
  },
  {
   "cell_type": "code",
   "execution_count": 14,
   "metadata": {},
   "outputs": [
    {
     "data": {
      "text/plain": [
       "569877"
      ]
     },
     "execution_count": 14,
     "metadata": {},
     "output_type": "execute_result"
    }
   ],
   "source": [
    "len(raw[raw['isFraud']==0 & pd.isna(raw['V338'])])"
   ]
  },
  {
   "cell_type": "code",
   "execution_count": 15,
   "metadata": {},
   "outputs": [],
   "source": [
    "def count_unique(x):\n",
    "    return len(x.unique())\n",
    "\n",
    "def typeof(x):\n",
    "    return type(x[2987000])"
   ]
  },
  {
   "cell_type": "code",
   "execution_count": 16,
   "metadata": {},
   "outputs": [],
   "source": [
    "NUM_UNIQUE = raw.apply(count_unique,axis = 0)"
   ]
  },
  {
   "cell_type": "code",
   "execution_count": 17,
   "metadata": {},
   "outputs": [],
   "source": [
    "Att_type = []\n",
    "for items in raw.columns:\n",
    "    Att_type.append(raw[items].dtype)"
   ]
  },
  {
   "cell_type": "code",
   "execution_count": 18,
   "metadata": {},
   "outputs": [
    {
     "name": "stdout",
     "output_type": "stream",
     "text": [
      "isFraud Missing value: 0 unique: 2 Type int64\n",
      "TransactionDT Missing value: 0 unique: 573349 Type int64\n",
      "TransactionAmt Missing value: 0 unique: 20902 Type float64\n",
      "ProductCD Missing value: 0 unique: 5 Type object\n",
      "card1 Missing value: 0 unique: 13553 Type int64\n",
      "card2 Missing value: 8933 unique: 501 Type float64\n",
      "card3 Missing value: 1565 unique: 115 Type float64\n",
      "card4 Missing value: 1577 unique: 5 Type object\n",
      "card5 Missing value: 4259 unique: 120 Type float64\n",
      "card6 Missing value: 1571 unique: 5 Type object\n",
      "addr1 Missing value: 65706 unique: 333 Type float64\n",
      "addr2 Missing value: 65706 unique: 75 Type float64\n",
      "dist1 Missing value: 352271 unique: 2652 Type float64\n",
      "dist2 Missing value: 552913 unique: 1752 Type float64\n",
      "P_emaildomain Missing value: 94456 unique: 60 Type object\n",
      "R_emaildomain Missing value: 453249 unique: 61 Type object\n",
      "C1 Missing value: 0 unique: 1657 Type float64\n",
      "C2 Missing value: 0 unique: 1216 Type float64\n",
      "C3 Missing value: 0 unique: 27 Type float64\n",
      "C4 Missing value: 0 unique: 1260 Type float64\n",
      "C5 Missing value: 0 unique: 319 Type float64\n",
      "C6 Missing value: 0 unique: 1328 Type float64\n",
      "C7 Missing value: 0 unique: 1103 Type float64\n",
      "C8 Missing value: 0 unique: 1253 Type float64\n",
      "C9 Missing value: 0 unique: 205 Type float64\n",
      "C10 Missing value: 0 unique: 1231 Type float64\n",
      "C11 Missing value: 0 unique: 1476 Type float64\n",
      "C12 Missing value: 0 unique: 1199 Type float64\n",
      "C13 Missing value: 0 unique: 1597 Type float64\n",
      "C14 Missing value: 0 unique: 1108 Type float64\n",
      "D1 Missing value: 1269 unique: 642 Type float64\n",
      "D2 Missing value: 280797 unique: 642 Type float64\n",
      "D3 Missing value: 262878 unique: 650 Type float64\n",
      "D4 Missing value: 168922 unique: 809 Type float64\n",
      "D5 Missing value: 309841 unique: 689 Type float64\n",
      "D6 Missing value: 517353 unique: 830 Type float64\n",
      "D7 Missing value: 551623 unique: 598 Type float64\n",
      "D8 Missing value: 515614 unique: 12354 Type float64\n",
      "D9 Missing value: 515614 unique: 25 Type float64\n",
      "D10 Missing value: 76022 unique: 819 Type float64\n",
      "D11 Missing value: 279287 unique: 677 Type float64\n",
      "D12 Missing value: 525823 unique: 636 Type float64\n",
      "D13 Missing value: 528588 unique: 578 Type float64\n",
      "D14 Missing value: 528353 unique: 803 Type float64\n",
      "D15 Missing value: 89113 unique: 860 Type float64\n",
      "M1 Missing value: 271100 unique: 3 Type object\n",
      "M2 Missing value: 271100 unique: 3 Type object\n",
      "M3 Missing value: 271100 unique: 3 Type object\n",
      "M4 Missing value: 281444 unique: 4 Type object\n",
      "M5 Missing value: 350482 unique: 3 Type object\n",
      "M6 Missing value: 169360 unique: 3 Type object\n",
      "M7 Missing value: 346265 unique: 3 Type object\n",
      "M8 Missing value: 346252 unique: 3 Type object\n",
      "M9 Missing value: 346252 unique: 3 Type object\n",
      "V1 Missing value: 279287 unique: 3 Type float64\n",
      "V2 Missing value: 279287 unique: 10 Type float64\n",
      "V3 Missing value: 279287 unique: 11 Type float64\n",
      "V4 Missing value: 279287 unique: 8 Type float64\n",
      "V5 Missing value: 279287 unique: 8 Type float64\n",
      "V6 Missing value: 279287 unique: 11 Type float64\n",
      "V7 Missing value: 279287 unique: 11 Type float64\n",
      "V8 Missing value: 279287 unique: 10 Type float64\n",
      "V9 Missing value: 279287 unique: 10 Type float64\n",
      "V10 Missing value: 279287 unique: 6 Type float64\n",
      "V11 Missing value: 279287 unique: 7 Type float64\n",
      "V12 Missing value: 76073 unique: 5 Type float64\n",
      "V13 Missing value: 76073 unique: 8 Type float64\n",
      "V14 Missing value: 76073 unique: 3 Type float64\n",
      "V15 Missing value: 76073 unique: 9 Type float64\n",
      "V16 Missing value: 76073 unique: 16 Type float64\n",
      "V17 Missing value: 76073 unique: 17 Type float64\n",
      "V18 Missing value: 76073 unique: 17 Type float64\n",
      "V19 Missing value: 76073 unique: 9 Type float64\n",
      "V20 Missing value: 76073 unique: 16 Type float64\n",
      "V21 Missing value: 76073 unique: 7 Type float64\n",
      "V22 Missing value: 76073 unique: 10 Type float64\n",
      "V23 Missing value: 76073 unique: 15 Type float64\n",
      "V24 Missing value: 76073 unique: 15 Type float64\n",
      "V25 Missing value: 76073 unique: 8 Type float64\n",
      "V26 Missing value: 76073 unique: 14 Type float64\n",
      "V27 Missing value: 76073 unique: 5 Type float64\n",
      "V28 Missing value: 76073 unique: 5 Type float64\n",
      "V29 Missing value: 76073 unique: 7 Type float64\n",
      "V30 Missing value: 76073 unique: 9 Type float64\n",
      "V31 Missing value: 76073 unique: 9 Type float64\n",
      "V32 Missing value: 76073 unique: 16 Type float64\n",
      "V33 Missing value: 76073 unique: 8 Type float64\n",
      "V34 Missing value: 76073 unique: 14 Type float64\n",
      "V35 Missing value: 168969 unique: 5 Type float64\n",
      "V36 Missing value: 168969 unique: 7 Type float64\n",
      "V37 Missing value: 168969 unique: 56 Type float64\n",
      "V38 Missing value: 168969 unique: 56 Type float64\n",
      "V39 Missing value: 168969 unique: 17 Type float64\n",
      "V40 Missing value: 168969 unique: 19 Type float64\n",
      "V41 Missing value: 168969 unique: 3 Type float64\n",
      "V42 Missing value: 168969 unique: 10 Type float64\n",
      "V43 Missing value: 168969 unique: 10 Type float64\n",
      "V44 Missing value: 168969 unique: 50 Type float64\n",
      "V45 Missing value: 168969 unique: 50 Type float64\n",
      "V46 Missing value: 168969 unique: 8 Type float64\n",
      "V47 Missing value: 168969 unique: 10 Type float64\n",
      "V48 Missing value: 168969 unique: 7 Type float64\n",
      "V49 Missing value: 168969 unique: 7 Type float64\n",
      "V50 Missing value: 168969 unique: 7 Type float64\n",
      "V51 Missing value: 168969 unique: 8 Type float64\n",
      "V52 Missing value: 168969 unique: 10 Type float64\n",
      "V53 Missing value: 77096 unique: 7 Type float64\n",
      "V54 Missing value: 77096 unique: 8 Type float64\n",
      "V55 Missing value: 77096 unique: 19 Type float64\n",
      "V56 Missing value: 77096 unique: 53 Type float64\n",
      "V57 Missing value: 77096 unique: 8 Type float64\n",
      "V58 Missing value: 77096 unique: 12 Type float64\n",
      "V59 Missing value: 77096 unique: 18 Type float64\n",
      "V60 Missing value: 77096 unique: 18 Type float64\n",
      "V61 Missing value: 77096 unique: 8 Type float64\n",
      "V62 Missing value: 77096 unique: 12 Type float64\n",
      "V63 Missing value: 77096 unique: 9 Type float64\n",
      "V64 Missing value: 77096 unique: 9 Type float64\n",
      "V65 Missing value: 77096 unique: 3 Type float64\n",
      "V66 Missing value: 77096 unique: 9 Type float64\n",
      "V67 Missing value: 77096 unique: 10 Type float64\n",
      "V68 Missing value: 77096 unique: 4 Type float64\n",
      "V69 Missing value: 77096 unique: 7 Type float64\n",
      "V70 Missing value: 77096 unique: 8 Type float64\n",
      "V71 Missing value: 77096 unique: 8 Type float64\n",
      "V72 Missing value: 77096 unique: 12 Type float64\n",
      "V73 Missing value: 77096 unique: 9 Type float64\n",
      "V74 Missing value: 77096 unique: 10 Type float64\n",
      "V75 Missing value: 89164 unique: 6 Type float64\n",
      "V76 Missing value: 89164 unique: 8 Type float64\n",
      "V77 Missing value: 89164 unique: 32 Type float64\n",
      "V78 Missing value: 89164 unique: 33 Type float64\n",
      "V79 Missing value: 89164 unique: 9 Type float64\n",
      "V80 Missing value: 89164 unique: 21 Type float64\n",
      "V81 Missing value: 89164 unique: 21 Type float64\n",
      "V82 Missing value: 89164 unique: 9 Type float64\n",
      "V83 Missing value: 89164 unique: 9 Type float64\n",
      "V84 Missing value: 89164 unique: 9 Type float64\n",
      "V85 Missing value: 89164 unique: 9 Type float64\n",
      "V86 Missing value: 89164 unique: 32 Type float64\n",
      "V87 Missing value: 89164 unique: 32 Type float64\n",
      "V88 Missing value: 89164 unique: 3 Type float64\n",
      "V89 Missing value: 89164 unique: 4 Type float64\n",
      "V90 Missing value: 89164 unique: 7 Type float64\n",
      "V91 Missing value: 89164 unique: 8 Type float64\n",
      "V92 Missing value: 89164 unique: 9 Type float64\n",
      "V93 Missing value: 89164 unique: 9 Type float64\n",
      "V94 Missing value: 89164 unique: 4 Type float64\n",
      "V95 Missing value: 314 unique: 882 Type float64\n",
      "V96 Missing value: 314 unique: 1411 Type float64\n",
      "V97 Missing value: 314 unique: 977 Type float64\n",
      "V98 Missing value: 314 unique: 14 Type float64\n",
      "V99 Missing value: 314 unique: 90 Type float64\n",
      "V100 Missing value: 314 unique: 30 Type float64\n",
      "V101 Missing value: 314 unique: 871 Type float64\n",
      "V102 Missing value: 314 unique: 1286 Type float64\n",
      "V103 Missing value: 314 unique: 929 Type float64\n",
      "V104 Missing value: 314 unique: 17 Type float64\n",
      "V105 Missing value: 314 unique: 101 Type float64\n",
      "V106 Missing value: 314 unique: 57 Type float64\n",
      "V107 Missing value: 314 unique: 3 Type float64\n",
      "V108 Missing value: 314 unique: 9 Type float64\n",
      "V109 Missing value: 314 unique: 9 Type float64\n",
      "V110 Missing value: 314 unique: 9 Type float64\n",
      "V111 Missing value: 314 unique: 11 Type float64\n",
      "V112 Missing value: 314 unique: 11 Type float64\n",
      "V113 Missing value: 314 unique: 11 Type float64\n",
      "V114 Missing value: 314 unique: 8 Type float64\n",
      "V115 Missing value: 314 unique: 8 Type float64\n",
      "V116 Missing value: 314 unique: 8 Type float64\n",
      "V117 Missing value: 314 unique: 5 Type float64\n",
      "V118 Missing value: 314 unique: 5 Type float64\n",
      "V119 Missing value: 314 unique: 5 Type float64\n",
      "V120 Missing value: 314 unique: 5 Type float64\n",
      "V121 Missing value: 314 unique: 5 Type float64\n",
      "V122 Missing value: 314 unique: 5 Type float64\n",
      "V123 Missing value: 314 unique: 15 Type float64\n",
      "V124 Missing value: 314 unique: 15 Type float64\n",
      "V125 Missing value: 314 unique: 15 Type float64\n",
      "V126 Missing value: 314 unique: 10300 Type float64\n",
      "V127 Missing value: 314 unique: 24415 Type float64\n",
      "V128 Missing value: 314 unique: 14508 Type float64\n",
      "V129 Missing value: 314 unique: 1969 Type float64\n",
      "V130 Missing value: 314 unique: 12333 Type float64\n",
      "V131 Missing value: 314 unique: 4445 Type float64\n",
      "V132 Missing value: 314 unique: 6561 Type float64\n",
      "V133 Missing value: 314 unique: 9950 Type float64\n",
      "V134 Missing value: 314 unique: 8179 Type float64\n",
      "V135 Missing value: 314 unique: 3725 Type float64\n",
      "V136 Missing value: 314 unique: 4853 Type float64\n",
      "V137 Missing value: 314 unique: 4253 Type float64\n",
      "V138 Missing value: 508595 unique: 24 Type float64\n",
      "V139 Missing value: 508595 unique: 35 Type float64\n",
      "V140 Missing value: 508595 unique: 35 Type float64\n",
      "V141 Missing value: 508595 unique: 7 Type float64\n",
      "V142 Missing value: 508595 unique: 11 Type float64\n",
      "V143 Missing value: 508589 unique: 871 Type float64\n",
      "V144 Missing value: 508589 unique: 64 Type float64\n",
      "V145 Missing value: 508589 unique: 261 Type float64\n",
      "V146 Missing value: 508595 unique: 26 Type float64\n",
      "V147 Missing value: 508595 unique: 28 Type float64\n",
      "V148 Missing value: 508595 unique: 22 Type float64\n",
      "V149 Missing value: 508595 unique: 22 Type float64\n",
      "V150 Missing value: 508589 unique: 1997 Type float64\n",
      "V151 Missing value: 508589 unique: 57 Type float64\n",
      "V152 Missing value: 508589 unique: 40 Type float64\n",
      "V153 Missing value: 508595 unique: 20 Type float64\n",
      "V154 Missing value: 508595 unique: 20 Type float64\n",
      "V155 Missing value: 508595 unique: 26 Type float64\n",
      "V156 Missing value: 508595 unique: 26 Type float64\n",
      "V157 Missing value: 508595 unique: 26 Type float64\n",
      "V158 Missing value: 508595 unique: 26 Type float64\n",
      "V159 Missing value: 508589 unique: 6664 Type float64\n",
      "V160 Missing value: 508589 unique: 9622 Type float64\n",
      "V161 Missing value: 508595 unique: 80 Type float64\n",
      "V162 Missing value: 508595 unique: 186 Type float64\n",
      "V163 Missing value: 508595 unique: 107 Type float64\n",
      "V164 Missing value: 508589 unique: 1979 Type float64\n",
      "V165 Missing value: 508589 unique: 2548 Type float64\n",
      "V166 Missing value: 508589 unique: 988 Type float64\n",
      "V167 Missing value: 450909 unique: 874 Type float64\n",
      "V168 Missing value: 450909 unique: 966 Type float64\n",
      "V169 Missing value: 450721 unique: 21 Type float64\n",
      "V170 Missing value: 450721 unique: 50 Type float64\n",
      "V171 Missing value: 450721 unique: 63 Type float64\n",
      "V172 Missing value: 450909 unique: 33 Type float64\n",
      "V173 Missing value: 450909 unique: 9 Type float64\n",
      "V174 Missing value: 450721 unique: 10 Type float64\n",
      "V175 Missing value: 450721 unique: 16 Type float64\n",
      "V176 Missing value: 450909 unique: 50 Type float64\n",
      "V177 Missing value: 450909 unique: 863 Type float64\n",
      "V178 Missing value: 450909 unique: 1237 Type float64\n",
      "V179 Missing value: 450909 unique: 922 Type float64\n",
      "V180 Missing value: 450721 unique: 85 Type float64\n",
      "V181 Missing value: 450909 unique: 26 Type float64\n",
      "V182 Missing value: 450909 unique: 85 Type float64\n",
      "V183 Missing value: 450909 unique: 43 Type float64\n",
      "V184 Missing value: 450721 unique: 18 Type float64\n",
      "V185 Missing value: 450721 unique: 33 Type float64\n",
      "V186 Missing value: 450909 unique: 40 Type float64\n",
      "V187 Missing value: 450909 unique: 216 Type float64\n",
      "V188 Missing value: 450721 unique: 32 Type float64\n",
      "V189 Missing value: 450721 unique: 32 Type float64\n",
      "V190 Missing value: 450909 unique: 44 Type float64\n",
      "V191 Missing value: 450909 unique: 23 Type float64\n",
      "V192 Missing value: 450909 unique: 46 Type float64\n",
      "V193 Missing value: 450909 unique: 39 Type float64\n",
      "V194 Missing value: 450721 unique: 9 Type float64\n",
      "V195 Missing value: 450721 unique: 18 Type float64\n",
      "V196 Missing value: 450909 unique: 40 Type float64\n",
      "V197 Missing value: 450721 unique: 16 Type float64\n",
      "V198 Missing value: 450721 unique: 23 Type float64\n",
      "V199 Missing value: 450909 unique: 47 Type float64\n",
      "V200 Missing value: 450721 unique: 47 Type float64\n",
      "V201 Missing value: 450721 unique: 57 Type float64\n",
      "V202 Missing value: 450909 unique: 10971 Type float64\n",
      "V203 Missing value: 450909 unique: 14952 Type float64\n",
      "V204 Missing value: 450909 unique: 12859 Type float64\n",
      "V205 Missing value: 450909 unique: 2241 Type float64\n",
      "V206 Missing value: 450909 unique: 1781 Type float64\n",
      "V207 Missing value: 450909 unique: 3247 Type float64\n",
      "V208 Missing value: 450721 unique: 2553 Type float64\n",
      "V209 Missing value: 450721 unique: 3452 Type float64\n",
      "V210 Missing value: 450721 unique: 2837 Type float64\n",
      "V211 Missing value: 450909 unique: 7625 Type float64\n",
      "V212 Missing value: 450909 unique: 8869 Type float64\n",
      "V213 Missing value: 450909 unique: 8318 Type float64\n",
      "V214 Missing value: 450909 unique: 2283 Type float64\n",
      "V215 Missing value: 450909 unique: 2748 Type float64\n",
      "V216 Missing value: 450909 unique: 2533 Type float64\n",
      "V217 Missing value: 460110 unique: 305 Type float64\n",
      "V218 Missing value: 460110 unique: 402 Type float64\n",
      "V219 Missing value: 460110 unique: 380 Type float64\n",
      "V220 Missing value: 449124 unique: 27 Type float64\n",
      "V221 Missing value: 449124 unique: 78 Type float64\n",
      "V222 Missing value: 449124 unique: 77 Type float64\n",
      "V223 Missing value: 460110 unique: 18 Type float64\n",
      "V224 Missing value: 460110 unique: 80 Type float64\n",
      "V225 Missing value: 460110 unique: 36 Type float64\n",
      "V226 Missing value: 460110 unique: 82 Type float64\n",
      "V227 Missing value: 449124 unique: 51 Type float64\n",
      "V228 Missing value: 460110 unique: 56 Type float64\n",
      "V229 Missing value: 460110 unique: 92 Type float64\n",
      "V230 Missing value: 460110 unique: 67 Type float64\n",
      "V231 Missing value: 460110 unique: 295 Type float64\n",
      "V232 Missing value: 460110 unique: 339 Type float64\n",
      "V233 Missing value: 460110 unique: 334 Type float64\n",
      "V234 Missing value: 449124 unique: 123 Type float64\n",
      "V235 Missing value: 460110 unique: 25 Type float64\n",
      "V236 Missing value: 460110 unique: 47 Type float64\n",
      "V237 Missing value: 460110 unique: 41 Type float64\n",
      "V238 Missing value: 449124 unique: 25 Type float64\n",
      "V239 Missing value: 449124 unique: 25 Type float64\n",
      "V240 Missing value: 460110 unique: 7 Type float64\n",
      "V241 Missing value: 460110 unique: 6 Type float64\n",
      "V242 Missing value: 460110 unique: 22 Type float64\n",
      "V243 Missing value: 460110 unique: 44 Type float64\n",
      "V244 Missing value: 460110 unique: 24 Type float64\n",
      "V245 Missing value: 449124 unique: 59 Type float64\n",
      "V246 Missing value: 460110 unique: 47 Type float64\n",
      "V247 Missing value: 460110 unique: 20 Type float64\n",
      "V248 Missing value: 460110 unique: 24 Type float64\n",
      "V249 Missing value: 460110 unique: 24 Type float64\n",
      "V250 Missing value: 449124 unique: 20 Type float64\n",
      "V251 Missing value: 449124 unique: 20 Type float64\n",
      "V252 Missing value: 460110 unique: 26 Type float64\n",
      "V253 Missing value: 460110 unique: 67 Type float64\n",
      "V254 Missing value: 460110 unique: 46 Type float64\n",
      "V255 Missing value: 449124 unique: 47 Type float64\n",
      "V256 Missing value: 449124 unique: 49 Type float64\n",
      "V257 Missing value: 460110 unique: 50 Type float64\n",
      "V258 Missing value: 460110 unique: 68 Type float64\n",
      "V259 Missing value: 449124 unique: 69 Type float64\n",
      "V260 Missing value: 460110 unique: 10 Type float64\n",
      "V261 Missing value: 460110 unique: 42 Type float64\n"
     ]
    },
    {
     "name": "stdout",
     "output_type": "stream",
     "text": [
      "V262 Missing value: 460110 unique: 22 Type float64\n",
      "V263 Missing value: 460110 unique: 10423 Type float64\n",
      "V264 Missing value: 460110 unique: 13359 Type float64\n",
      "V265 Missing value: 460110 unique: 11758 Type float64\n",
      "V266 Missing value: 460110 unique: 2179 Type float64\n",
      "V267 Missing value: 460110 unique: 3617 Type float64\n",
      "V268 Missing value: 460110 unique: 2757 Type float64\n",
      "V269 Missing value: 460110 unique: 152 Type float64\n",
      "V270 Missing value: 449124 unique: 2341 Type float64\n",
      "V271 Missing value: 449124 unique: 2788 Type float64\n",
      "V272 Missing value: 449124 unique: 2508 Type float64\n",
      "V273 Missing value: 460110 unique: 7178 Type float64\n",
      "V274 Missing value: 460110 unique: 8316 Type float64\n",
      "V275 Missing value: 460110 unique: 7777 Type float64\n",
      "V276 Missing value: 460110 unique: 2264 Type float64\n",
      "V277 Missing value: 460110 unique: 2541 Type float64\n",
      "V278 Missing value: 460110 unique: 2399 Type float64\n",
      "V279 Missing value: 12 unique: 882 Type float64\n",
      "V280 Missing value: 12 unique: 976 Type float64\n",
      "V281 Missing value: 1269 unique: 24 Type float64\n",
      "V282 Missing value: 1269 unique: 34 Type float64\n",
      "V283 Missing value: 1269 unique: 63 Type float64\n",
      "V284 Missing value: 12 unique: 14 Type float64\n",
      "V285 Missing value: 12 unique: 97 Type float64\n",
      "V286 Missing value: 12 unique: 10 Type float64\n",
      "V287 Missing value: 12 unique: 33 Type float64\n",
      "V288 Missing value: 1269 unique: 12 Type float64\n",
      "V289 Missing value: 1269 unique: 14 Type float64\n",
      "V290 Missing value: 12 unique: 59 Type float64\n",
      "V291 Missing value: 12 unique: 220 Type float64\n",
      "V292 Missing value: 12 unique: 174 Type float64\n",
      "V293 Missing value: 12 unique: 871 Type float64\n",
      "V294 Missing value: 12 unique: 1287 Type float64\n",
      "V295 Missing value: 12 unique: 929 Type float64\n",
      "V296 Missing value: 1269 unique: 95 Type float64\n",
      "V297 Missing value: 12 unique: 14 Type float64\n",
      "V298 Missing value: 12 unique: 95 Type float64\n",
      "V299 Missing value: 12 unique: 51 Type float64\n",
      "V300 Missing value: 1269 unique: 13 Type float64\n",
      "V301 Missing value: 1269 unique: 15 Type float64\n",
      "V302 Missing value: 12 unique: 18 Type float64\n",
      "V303 Missing value: 12 unique: 22 Type float64\n",
      "V304 Missing value: 12 unique: 18 Type float64\n",
      "V305 Missing value: 12 unique: 3 Type float64\n",
      "V306 Missing value: 12 unique: 16211 Type float64\n",
      "V307 Missing value: 12 unique: 37368 Type float64\n",
      "V308 Missing value: 12 unique: 23065 Type float64\n",
      "V309 Missing value: 12 unique: 4237 Type float64\n",
      "V310 Missing value: 12 unique: 19137 Type float64\n",
      "V311 Missing value: 12 unique: 3099 Type float64\n",
      "V312 Missing value: 12 unique: 8069 Type float64\n",
      "V313 Missing value: 1269 unique: 5530 Type float64\n",
      "V314 Missing value: 1269 unique: 11378 Type float64\n",
      "V315 Missing value: 1269 unique: 6974 Type float64\n",
      "V316 Missing value: 12 unique: 9815 Type float64\n",
      "V317 Missing value: 12 unique: 15185 Type float64\n",
      "V318 Missing value: 12 unique: 12310 Type float64\n",
      "V319 Missing value: 12 unique: 4800 Type float64\n",
      "V320 Missing value: 12 unique: 6440 Type float64\n",
      "V321 Missing value: 12 unique: 5561 Type float64\n",
      "V322 Missing value: 508189 unique: 882 Type float64\n",
      "V323 Missing value: 508189 unique: 1412 Type float64\n",
      "V324 Missing value: 508189 unique: 977 Type float64\n",
      "V325 Missing value: 508189 unique: 14 Type float64\n",
      "V326 Missing value: 508189 unique: 46 Type float64\n",
      "V327 Missing value: 508189 unique: 20 Type float64\n",
      "V328 Missing value: 508189 unique: 17 Type float64\n",
      "V329 Missing value: 508189 unique: 101 Type float64\n",
      "V330 Missing value: 508189 unique: 57 Type float64\n",
      "V331 Missing value: 508189 unique: 1759 Type float64\n",
      "V332 Missing value: 508189 unique: 2454 Type float64\n",
      "V333 Missing value: 508189 unique: 1972 Type float64\n",
      "V334 Missing value: 508189 unique: 144 Type float64\n",
      "V335 Missing value: 508189 unique: 673 Type float64\n",
      "V336 Missing value: 508189 unique: 357 Type float64\n",
      "V337 Missing value: 508189 unique: 255 Type float64\n",
      "V338 Missing value: 508189 unique: 381 Type float64\n",
      "V339 Missing value: 508189 unique: 335 Type float64\n",
      "id_01 Missing value: 446307 unique: 78 Type float64\n",
      "id_02 Missing value: 449668 unique: 115656 Type float64\n",
      "id_03 Missing value: 524216 unique: 25 Type float64\n",
      "id_04 Missing value: 524216 unique: 16 Type float64\n",
      "id_05 Missing value: 453675 unique: 94 Type float64\n",
      "id_06 Missing value: 453675 unique: 102 Type float64\n",
      "id_07 Missing value: 585385 unique: 85 Type float64\n",
      "id_08 Missing value: 585385 unique: 95 Type float64\n",
      "id_09 Missing value: 515614 unique: 47 Type float64\n",
      "id_10 Missing value: 515614 unique: 63 Type float64\n",
      "id_11 Missing value: 449562 unique: 366 Type float64\n",
      "id_12 Missing value: 446307 unique: 3 Type object\n",
      "id_13 Missing value: 463220 unique: 55 Type float64\n",
      "id_14 Missing value: 510496 unique: 26 Type float64\n",
      "id_15 Missing value: 449555 unique: 4 Type object\n",
      "id_16 Missing value: 461200 unique: 3 Type object\n",
      "id_17 Missing value: 451171 unique: 105 Type float64\n",
      "id_18 Missing value: 545427 unique: 19 Type float64\n",
      "id_19 Missing value: 451222 unique: 523 Type float64\n",
      "id_20 Missing value: 451279 unique: 395 Type float64\n",
      "id_21 Missing value: 585381 unique: 491 Type float64\n",
      "id_22 Missing value: 585371 unique: 26 Type float64\n",
      "id_23 Missing value: 585371 unique: 4 Type object\n",
      "id_24 Missing value: 585793 unique: 13 Type float64\n",
      "id_25 Missing value: 585408 unique: 342 Type float64\n",
      "id_26 Missing value: 585377 unique: 96 Type float64\n",
      "id_27 Missing value: 585371 unique: 3 Type object\n",
      "id_28 Missing value: 449562 unique: 3 Type object\n",
      "id_29 Missing value: 449562 unique: 3 Type object\n",
      "id_30 Missing value: 512975 unique: 76 Type object\n",
      "id_31 Missing value: 450258 unique: 131 Type object\n",
      "id_32 Missing value: 512954 unique: 5 Type float64\n",
      "id_33 Missing value: 517251 unique: 261 Type object\n",
      "id_34 Missing value: 512735 unique: 5 Type object\n",
      "id_35 Missing value: 449555 unique: 3 Type object\n",
      "id_36 Missing value: 449555 unique: 3 Type object\n",
      "id_37 Missing value: 449555 unique: 3 Type object\n",
      "id_38 Missing value: 449555 unique: 3 Type object\n",
      "DeviceType Missing value: 449730 unique: 3 Type object\n",
      "DeviceInfo Missing value: 471874 unique: 1787 Type object\n"
     ]
    }
   ],
   "source": [
    "for i in range(len(NUM_UNIQUE)):\n",
    "    print(NUM_UNIQUE.index[i],'Missing value:',mis[i],\"unique:\",NUM_UNIQUE[i],'Type',Att_type[i])"
   ]
  },
  {
   "cell_type": "code",
   "execution_count": 19,
   "metadata": {},
   "outputs": [
    {
     "data": {
      "text/plain": [
       "True"
      ]
     },
     "execution_count": 19,
     "metadata": {},
     "output_type": "execute_result"
    }
   ],
   "source": [
    "train['ProductCD'].dtype ==  object"
   ]
  },
  {
   "cell_type": "code",
   "execution_count": 20,
   "metadata": {},
   "outputs": [],
   "source": [
    "train = raw[mis[mis<400000].index]"
   ]
  },
  {
   "cell_type": "code",
   "execution_count": 21,
   "metadata": {},
   "outputs": [
    {
     "data": {
      "text/plain": [
       "(590540, 225)"
      ]
     },
     "execution_count": 21,
     "metadata": {},
     "output_type": "execute_result"
    }
   ],
   "source": [
    "train.shape"
   ]
  },
  {
   "cell_type": "code",
   "execution_count": 22,
   "metadata": {},
   "outputs": [],
   "source": [
    "col_names = train.columns"
   ]
  },
  {
   "cell_type": "markdown",
   "metadata": {},
   "source": [
    "## 填充missing value可以有很多method之后可以讨论一下，我这里用众数填充missing < 10000)"
   ]
  },
  {
   "cell_type": "code",
   "execution_count": 23,
   "metadata": {
    "scrolled": true
   },
   "outputs": [
    {
     "name": "stderr",
     "output_type": "stream",
     "text": [
      "/anaconda3/lib/python3.7/site-packages/pandas/core/generic.py:5434: SettingWithCopyWarning: \n",
      "A value is trying to be set on a copy of a slice from a DataFrame\n",
      "\n",
      "See the caveats in the documentation: http://pandas.pydata.org/pandas-docs/stable/indexing.html#indexing-view-versus-copy\n",
      "  self._update_inplace(new_data)\n"
     ]
    }
   ],
   "source": [
    "### For the missing values < 10000 use mode to fill \n",
    "\n",
    "### Otherwise:\n",
    "\n",
    "### Use mode to fill NA of numeric varaibels \n",
    "\n",
    "### Use Missing to fill NA of strs\n",
    "\n",
    "for item in col_names:\n",
    "\n",
    "    if train[item].dtype == object:\n",
    "        \n",
    "        if mis[item] < 10000:\n",
    "            train[item].fillna(train[item].mode().iloc[0], inplace=True)\n",
    "        else:\n",
    "            train[item].fillna('missing',inplace = True)\n",
    "\n",
    "    else:\n",
    "        train[item].fillna(train[item].mode().iloc[0], inplace=True)\n"
   ]
  },
  {
   "cell_type": "code",
   "execution_count": 24,
   "metadata": {},
   "outputs": [],
   "source": [
    "corr = train.corr()"
   ]
  },
  {
   "cell_type": "code",
   "execution_count": 25,
   "metadata": {},
   "outputs": [],
   "source": [
    "att = corr[abs(corr['isFraud']) > 0.1].index"
   ]
  },
  {
   "cell_type": "code",
   "execution_count": 26,
   "metadata": {},
   "outputs": [],
   "source": [
    "corr1 = train[att].corr()"
   ]
  },
  {
   "cell_type": "markdown",
   "metadata": {},
   "source": [
    "## Plot the correlation with abs value > 0.1 of isFraud"
   ]
  },
  {
   "cell_type": "code",
   "execution_count": 27,
   "metadata": {
    "scrolled": true
   },
   "outputs": [
    {
     "data": {
      "text/plain": [
       "<matplotlib.axes._subplots.AxesSubplot at 0x1c1a1dd0b8>"
      ]
     },
     "execution_count": 27,
     "metadata": {},
     "output_type": "execute_result"
    },
    {
     "data": {
      "image/png": "[encoded data removed]",
      "text/plain": [
       "<Figure size 1440x1440 with 2 Axes>"
      ]
     },
     "metadata": {
      "needs_background": "light"
     },
     "output_type": "display_data"
    }
   ],
   "source": [
    "\n",
    "# Generate a mask for the upper triangle\n",
    "mask = np.zeros_like(corr1, dtype=np.bool)\n",
    "mask[np.triu_indices_from(mask)] = True\n",
    "\n",
    "# Set up the matplotlib figure\n",
    "f, ax = plt.subplots(figsize=(20, 20))\n",
    "\n",
    "# Generate a custom diverging colormap\n",
    "cmap = sns.diverging_palette(220, 10, as_cmap=True)\n",
    "\n",
    "# Draw the heatmap with the mask and correct aspect ratio\n",
    "sns.heatmap(corr1, mask=mask, cmap=cmap, vmax=.3, center=0,\n",
    "            square=True, linewidths=.5, cbar_kws={\"shrink\": .5})"
   ]
  },
  {
   "cell_type": "markdown",
   "metadata": {},
   "source": [
    "### We can see a strong correlation between isFraud with V44,V45, V90"
   ]
  },
  {
   "cell_type": "markdown",
   "metadata": {},
   "source": [
    "## Encoding labels"
   ]
  },
  {
   "cell_type": "markdown",
   "metadata": {},
   "source": [
    "### 对于所有categorical 的变量 one-hot encoding "
   ]
  },
  {
   "cell_type": "code",
   "execution_count": 28,
   "metadata": {
    "scrolled": true
   },
   "outputs": [],
   "source": [
    "y_train = train['isFraud'].copy()\n",
    "\n",
    "X_train = train.drop('isFraud', axis=1)\n",
    "\n",
    "for f in X_train.columns:\n",
    "    if X_train[f].dtype=='object': \n",
    "        dummies = pd.get_dummies(X_train[f])\n",
    "        dummies = dummies.add_prefix(\"{}#\".format(f))\n",
    "        X_train.drop(f,axis = 1,inplace = True)\n",
    "        X_train = X_train.join(dummies)\n",
    "        "
   ]
  },
  {
   "cell_type": "code",
   "execution_count": 29,
   "metadata": {},
   "outputs": [
    {
     "data": {
      "text/plain": [
       "(590540, 312)"
      ]
     },
     "execution_count": 29,
     "metadata": {},
     "output_type": "execute_result"
    }
   ],
   "source": [
    "X_train.shape"
   ]
  },
  {
   "cell_type": "code",
   "execution_count": 30,
   "metadata": {},
   "outputs": [
    {
     "data": {
      "text/html": [
       "<div>\n",
       "<style scoped>\n",
       "    .dataframe tbody tr th:only-of-type {\n",
       "        vertical-align: middle;\n",
       "    }\n",
       "\n",
       "    .dataframe tbody tr th {\n",
       "        vertical-align: top;\n",
       "    }\n",
       "\n",
       "    .dataframe thead th {\n",
       "        text-align: right;\n",
       "    }\n",
       "</style>\n",
       "<table border=\"1\" class=\"dataframe\">\n",
       "  <thead>\n",
       "    <tr style=\"text-align: right;\">\n",
       "      <th></th>\n",
       "      <th>TransactionDT</th>\n",
       "      <th>TransactionAmt</th>\n",
       "      <th>card1</th>\n",
       "      <th>card2</th>\n",
       "      <th>card3</th>\n",
       "      <th>card5</th>\n",
       "      <th>addr1</th>\n",
       "      <th>addr2</th>\n",
       "      <th>dist1</th>\n",
       "      <th>C1</th>\n",
       "      <th>...</th>\n",
       "      <th>M6#missing</th>\n",
       "      <th>M7#F</th>\n",
       "      <th>M7#T</th>\n",
       "      <th>M7#missing</th>\n",
       "      <th>M8#F</th>\n",
       "      <th>M8#T</th>\n",
       "      <th>M8#missing</th>\n",
       "      <th>M9#F</th>\n",
       "      <th>M9#T</th>\n",
       "      <th>M9#missing</th>\n",
       "    </tr>\n",
       "    <tr>\n",
       "      <th>TransactionID</th>\n",
       "      <th></th>\n",
       "      <th></th>\n",
       "      <th></th>\n",
       "      <th></th>\n",
       "      <th></th>\n",
       "      <th></th>\n",
       "      <th></th>\n",
       "      <th></th>\n",
       "      <th></th>\n",
       "      <th></th>\n",
       "      <th></th>\n",
       "      <th></th>\n",
       "      <th></th>\n",
       "      <th></th>\n",
       "      <th></th>\n",
       "      <th></th>\n",
       "      <th></th>\n",
       "      <th></th>\n",
       "      <th></th>\n",
       "      <th></th>\n",
       "      <th></th>\n",
       "    </tr>\n",
       "  </thead>\n",
       "  <tbody>\n",
       "    <tr>\n",
       "      <th>2987000</th>\n",
       "      <td>86400</td>\n",
       "      <td>68.5</td>\n",
       "      <td>13926</td>\n",
       "      <td>321.0</td>\n",
       "      <td>150.0</td>\n",
       "      <td>142.0</td>\n",
       "      <td>315.0</td>\n",
       "      <td>87.0</td>\n",
       "      <td>19.0</td>\n",
       "      <td>1.0</td>\n",
       "      <td>...</td>\n",
       "      <td>0</td>\n",
       "      <td>0</td>\n",
       "      <td>0</td>\n",
       "      <td>1</td>\n",
       "      <td>0</td>\n",
       "      <td>0</td>\n",
       "      <td>1</td>\n",
       "      <td>0</td>\n",
       "      <td>0</td>\n",
       "      <td>1</td>\n",
       "    </tr>\n",
       "    <tr>\n",
       "      <th>2987001</th>\n",
       "      <td>86401</td>\n",
       "      <td>29.0</td>\n",
       "      <td>2755</td>\n",
       "      <td>404.0</td>\n",
       "      <td>150.0</td>\n",
       "      <td>102.0</td>\n",
       "      <td>325.0</td>\n",
       "      <td>87.0</td>\n",
       "      <td>0.0</td>\n",
       "      <td>1.0</td>\n",
       "      <td>...</td>\n",
       "      <td>0</td>\n",
       "      <td>0</td>\n",
       "      <td>0</td>\n",
       "      <td>1</td>\n",
       "      <td>0</td>\n",
       "      <td>0</td>\n",
       "      <td>1</td>\n",
       "      <td>0</td>\n",
       "      <td>0</td>\n",
       "      <td>1</td>\n",
       "    </tr>\n",
       "    <tr>\n",
       "      <th>2987002</th>\n",
       "      <td>86469</td>\n",
       "      <td>59.0</td>\n",
       "      <td>4663</td>\n",
       "      <td>490.0</td>\n",
       "      <td>150.0</td>\n",
       "      <td>166.0</td>\n",
       "      <td>330.0</td>\n",
       "      <td>87.0</td>\n",
       "      <td>287.0</td>\n",
       "      <td>1.0</td>\n",
       "      <td>...</td>\n",
       "      <td>0</td>\n",
       "      <td>1</td>\n",
       "      <td>0</td>\n",
       "      <td>0</td>\n",
       "      <td>1</td>\n",
       "      <td>0</td>\n",
       "      <td>0</td>\n",
       "      <td>1</td>\n",
       "      <td>0</td>\n",
       "      <td>0</td>\n",
       "    </tr>\n",
       "    <tr>\n",
       "      <th>2987003</th>\n",
       "      <td>86499</td>\n",
       "      <td>50.0</td>\n",
       "      <td>18132</td>\n",
       "      <td>567.0</td>\n",
       "      <td>150.0</td>\n",
       "      <td>117.0</td>\n",
       "      <td>476.0</td>\n",
       "      <td>87.0</td>\n",
       "      <td>0.0</td>\n",
       "      <td>2.0</td>\n",
       "      <td>...</td>\n",
       "      <td>0</td>\n",
       "      <td>0</td>\n",
       "      <td>0</td>\n",
       "      <td>1</td>\n",
       "      <td>0</td>\n",
       "      <td>0</td>\n",
       "      <td>1</td>\n",
       "      <td>0</td>\n",
       "      <td>0</td>\n",
       "      <td>1</td>\n",
       "    </tr>\n",
       "    <tr>\n",
       "      <th>2987004</th>\n",
       "      <td>86506</td>\n",
       "      <td>50.0</td>\n",
       "      <td>4497</td>\n",
       "      <td>514.0</td>\n",
       "      <td>150.0</td>\n",
       "      <td>102.0</td>\n",
       "      <td>420.0</td>\n",
       "      <td>87.0</td>\n",
       "      <td>0.0</td>\n",
       "      <td>1.0</td>\n",
       "      <td>...</td>\n",
       "      <td>1</td>\n",
       "      <td>0</td>\n",
       "      <td>0</td>\n",
       "      <td>1</td>\n",
       "      <td>0</td>\n",
       "      <td>0</td>\n",
       "      <td>1</td>\n",
       "      <td>0</td>\n",
       "      <td>0</td>\n",
       "      <td>1</td>\n",
       "    </tr>\n",
       "    <tr>\n",
       "      <th>2987005</th>\n",
       "      <td>86510</td>\n",
       "      <td>49.0</td>\n",
       "      <td>5937</td>\n",
       "      <td>555.0</td>\n",
       "      <td>150.0</td>\n",
       "      <td>226.0</td>\n",
       "      <td>272.0</td>\n",
       "      <td>87.0</td>\n",
       "      <td>36.0</td>\n",
       "      <td>1.0</td>\n",
       "      <td>...</td>\n",
       "      <td>0</td>\n",
       "      <td>0</td>\n",
       "      <td>0</td>\n",
       "      <td>1</td>\n",
       "      <td>0</td>\n",
       "      <td>0</td>\n",
       "      <td>1</td>\n",
       "      <td>0</td>\n",
       "      <td>0</td>\n",
       "      <td>1</td>\n",
       "    </tr>\n",
       "    <tr>\n",
       "      <th>2987006</th>\n",
       "      <td>86522</td>\n",
       "      <td>159.0</td>\n",
       "      <td>12308</td>\n",
       "      <td>360.0</td>\n",
       "      <td>150.0</td>\n",
       "      <td>166.0</td>\n",
       "      <td>126.0</td>\n",
       "      <td>87.0</td>\n",
       "      <td>0.0</td>\n",
       "      <td>1.0</td>\n",
       "      <td>...</td>\n",
       "      <td>0</td>\n",
       "      <td>0</td>\n",
       "      <td>1</td>\n",
       "      <td>0</td>\n",
       "      <td>0</td>\n",
       "      <td>1</td>\n",
       "      <td>0</td>\n",
       "      <td>0</td>\n",
       "      <td>1</td>\n",
       "      <td>0</td>\n",
       "    </tr>\n",
       "    <tr>\n",
       "      <th>2987007</th>\n",
       "      <td>86529</td>\n",
       "      <td>422.5</td>\n",
       "      <td>12695</td>\n",
       "      <td>490.0</td>\n",
       "      <td>150.0</td>\n",
       "      <td>226.0</td>\n",
       "      <td>325.0</td>\n",
       "      <td>87.0</td>\n",
       "      <td>0.0</td>\n",
       "      <td>1.0</td>\n",
       "      <td>...</td>\n",
       "      <td>0</td>\n",
       "      <td>0</td>\n",
       "      <td>0</td>\n",
       "      <td>1</td>\n",
       "      <td>0</td>\n",
       "      <td>0</td>\n",
       "      <td>1</td>\n",
       "      <td>0</td>\n",
       "      <td>0</td>\n",
       "      <td>1</td>\n",
       "    </tr>\n",
       "    <tr>\n",
       "      <th>2987008</th>\n",
       "      <td>86535</td>\n",
       "      <td>15.0</td>\n",
       "      <td>2803</td>\n",
       "      <td>100.0</td>\n",
       "      <td>150.0</td>\n",
       "      <td>226.0</td>\n",
       "      <td>337.0</td>\n",
       "      <td>87.0</td>\n",
       "      <td>0.0</td>\n",
       "      <td>1.0</td>\n",
       "      <td>...</td>\n",
       "      <td>1</td>\n",
       "      <td>0</td>\n",
       "      <td>0</td>\n",
       "      <td>1</td>\n",
       "      <td>0</td>\n",
       "      <td>0</td>\n",
       "      <td>1</td>\n",
       "      <td>0</td>\n",
       "      <td>0</td>\n",
       "      <td>1</td>\n",
       "    </tr>\n",
       "    <tr>\n",
       "      <th>2987009</th>\n",
       "      <td>86536</td>\n",
       "      <td>117.0</td>\n",
       "      <td>17399</td>\n",
       "      <td>111.0</td>\n",
       "      <td>150.0</td>\n",
       "      <td>224.0</td>\n",
       "      <td>204.0</td>\n",
       "      <td>87.0</td>\n",
       "      <td>19.0</td>\n",
       "      <td>2.0</td>\n",
       "      <td>...</td>\n",
       "      <td>0</td>\n",
       "      <td>0</td>\n",
       "      <td>0</td>\n",
       "      <td>1</td>\n",
       "      <td>0</td>\n",
       "      <td>0</td>\n",
       "      <td>1</td>\n",
       "      <td>0</td>\n",
       "      <td>0</td>\n",
       "      <td>1</td>\n",
       "    </tr>\n",
       "  </tbody>\n",
       "</table>\n",
       "<p>10 rows × 312 columns</p>\n",
       "</div>"
      ],
      "text/plain": [
       "               TransactionDT  TransactionAmt  card1  card2  card3  card5  \\\n",
       "TransactionID                                                              \n",
       "2987000                86400            68.5  13926  321.0  150.0  142.0   \n",
       "2987001                86401            29.0   2755  404.0  150.0  102.0   \n",
       "2987002                86469            59.0   4663  490.0  150.0  166.0   \n",
       "2987003                86499            50.0  18132  567.0  150.0  117.0   \n",
       "2987004                86506            50.0   4497  514.0  150.0  102.0   \n",
       "2987005                86510            49.0   5937  555.0  150.0  226.0   \n",
       "2987006                86522           159.0  12308  360.0  150.0  166.0   \n",
       "2987007                86529           422.5  12695  490.0  150.0  226.0   \n",
       "2987008                86535            15.0   2803  100.0  150.0  226.0   \n",
       "2987009                86536           117.0  17399  111.0  150.0  224.0   \n",
       "\n",
       "               addr1  addr2  dist1   C1     ...      M6#missing  M7#F  M7#T  \\\n",
       "TransactionID                               ...                               \n",
       "2987000        315.0   87.0   19.0  1.0     ...               0     0     0   \n",
       "2987001        325.0   87.0    0.0  1.0     ...               0     0     0   \n",
       "2987002        330.0   87.0  287.0  1.0     ...               0     1     0   \n",
       "2987003        476.0   87.0    0.0  2.0     ...               0     0     0   \n",
       "2987004        420.0   87.0    0.0  1.0     ...               1     0     0   \n",
       "2987005        272.0   87.0   36.0  1.0     ...               0     0     0   \n",
       "2987006        126.0   87.0    0.0  1.0     ...               0     0     1   \n",
       "2987007        325.0   87.0    0.0  1.0     ...               0     0     0   \n",
       "2987008        337.0   87.0    0.0  1.0     ...               1     0     0   \n",
       "2987009        204.0   87.0   19.0  2.0     ...               0     0     0   \n",
       "\n",
       "               M7#missing  M8#F  M8#T  M8#missing  M9#F  M9#T  M9#missing  \n",
       "TransactionID                                                              \n",
       "2987000                 1     0     0           1     0     0           1  \n",
       "2987001                 1     0     0           1     0     0           1  \n",
       "2987002                 0     1     0           0     1     0           0  \n",
       "2987003                 1     0     0           1     0     0           1  \n",
       "2987004                 1     0     0           1     0     0           1  \n",
       "2987005                 1     0     0           1     0     0           1  \n",
       "2987006                 0     0     1           0     0     1           0  \n",
       "2987007                 1     0     0           1     0     0           1  \n",
       "2987008                 1     0     0           1     0     0           1  \n",
       "2987009                 1     0     0           1     0     0           1  \n",
       "\n",
       "[10 rows x 312 columns]"
      ]
     },
     "execution_count": 30,
     "metadata": {},
     "output_type": "execute_result"
    }
   ],
   "source": [
    "X_train.head(10)"
   ]
  },
  {
   "cell_type": "markdown",
   "metadata": {},
   "source": [
    "## Machine Learning Techniques"
   ]
  },
  {
   "cell_type": "code",
   "execution_count": 42,
   "metadata": {},
   "outputs": [],
   "source": [
    "X = X_train.copy()\n",
    "y = y_train.copy()\n",
    "\n",
    "\n",
    "X_train, X_test, y_train, y_test = train_test_split(X, y, test_size=0.2, random_state= 88)\n"
   ]
  },
  {
   "cell_type": "markdown",
   "metadata": {},
   "source": [
    "### Logistic L1 norm"
   ]
  },
  {
   "cell_type": "code",
   "execution_count": null,
   "metadata": {},
   "outputs": [],
   "source": []
  },
  {
   "cell_type": "markdown",
   "metadata": {},
   "source": [
    "### Random Forest"
   ]
  },
  {
   "cell_type": "code",
   "execution_count": 43,
   "metadata": {},
   "outputs": [
    {
     "data": {
      "text/plain": [
       "RandomForestClassifier(bootstrap=True, class_weight=None, criterion='gini',\n",
       "            max_depth=10, max_features='auto', max_leaf_nodes=None,\n",
       "            min_impurity_decrease=0.0, min_impurity_split=None,\n",
       "            min_samples_leaf=1, min_samples_split=2,\n",
       "            min_weight_fraction_leaf=0.0, n_estimators=100, n_jobs=None,\n",
       "            oob_score=False, random_state=None, verbose=0,\n",
       "            warm_start=False)"
      ]
     },
     "execution_count": 43,
     "metadata": {},
     "output_type": "execute_result"
    }
   ],
   "source": [
    "rfc = RandomForestClassifier(n_estimators=100,max_depth=10)\n",
    "rfc.fit(X_train,y_train)\n",
    "\n"
   ]
  },
  {
   "cell_type": "code",
   "execution_count": 114,
   "metadata": {},
   "outputs": [
    {
     "data": {
      "text/plain": [
       "<matplotlib.axes._subplots.AxesSubplot at 0x1a355eed68>"
      ]
     },
     "execution_count": 114,
     "metadata": {},
     "output_type": "execute_result"
    },
    {
     "data": {
      "image/png": "[encoded data removed]",
      "text/plain": [
       "<Figure size 1080x1080 with 1 Axes>"
      ]
     },
     "metadata": {
      "needs_background": "light"
     },
     "output_type": "display_data"
    }
   ],
   "source": [
    "# Feature Importance\n",
    "feature_importances = pd.DataFrame(rfc.feature_importances_,index = X_train.columns,\n",
    "                                   columns=['importance']).sort_values('importance', ascending =False)\n",
    "\n",
    "feature_importances['features'] = feature_importances.index.values\n",
    "f,ax = plt.subplots(figsize=(15, 15))\n",
    "sns.set_context(\"poster\",font_scale = 2)\n",
    "sns.barplot(y=\"features\", x=\"importance\", data=feature_importances.iloc[0:10,:],\n",
    "            label=\"Feature Importance\", palette=\"Set2\")"
   ]
  },
  {
   "cell_type": "code",
   "execution_count": 119,
   "metadata": {},
   "outputs": [
    {
     "name": "stdout",
     "output_type": "stream",
     "text": [
      "r-squared: 1.4529774881311025e-06\n"
     ]
    }
   ],
   "source": [
    "slope, intercept, r_value, p_value, std_err = stats.linregress(y_train,y_pred)\n",
    "print(\"r-squared:\", r_value**2)"
   ]
  },
  {
   "cell_type": "code",
   "execution_count": 57,
   "metadata": {},
   "outputs": [
    {
     "name": "stderr",
     "output_type": "stream",
     "text": [
      "/anaconda3/lib/python3.7/site-packages/sklearn/linear_model/logistic.py:758: ConvergenceWarning: lbfgs failed to converge. Increase the number of iterations.\n",
      "  \"of iterations.\", ConvergenceWarning)\n"
     ]
    }
   ],
   "source": [
    "X_train, X_test, y_train, y_test = train_test_split(X, y, test_size=0.2, random_state=88)\n",
    "\n",
    "lr = LogisticRegression(solver = 'lbfgs',C = 10).fit(X_train,y_train)\n",
    "y_pred_lr = lr.predict_proba(X_test)[:,1]\n",
    "fpr_lr, tpr_lr, _ = roc_curve(y_test, y_pred_lr)\n",
    "auc_lr = roc_auc_score(y_test,y_pred_lr)\n",
    "\n",
    "\n",
    "\n",
    "rfc = RandomForestClassifier(n_estimators=100,max_depth = 10).fit(X_train,y_train)\n",
    "y_pred_rf = rfc.predict_proba(X_test)[:,1]\n",
    "fpr_rf, tpr_rf, _ = roc_curve(y_test, y_pred_rf)\n",
    "auc_rf = roc_auc_score(y_test,y_pred_rf)\n",
    "\n",
    "\n",
    "xgb = XGBClassifier().fit(X_train,y_train)\n",
    "y_pred_xgb = xgb.predict_proba(X_test)[:,1]\n",
    "fpr_xgb, tpr_xgb, _ = roc_curve(y_test, y_pred_xgb)\n",
    "auc_xgb = roc_auc_score(y_test,y_pred_xgb)\n",
    "\n"
   ]
  },
  {
   "cell_type": "code",
   "execution_count": 58,
   "metadata": {},
   "outputs": [
    {
     "data": {
      "image/png": "[encoded data removed]",
      "text/plain": [
       "<Figure size 1080x1080 with 1 Axes>"
      ]
     },
     "metadata": {
      "needs_background": "light"
     },
     "output_type": "display_data"
    }
   ],
   "source": [
    "# plot\n",
    "plt.subplots(figsize=(15, 15))\n",
    "plt.xlim(0, 1)\n",
    "plt.ylim(0, 1)\n",
    "\n",
    "plt.plot([0, 1], [0, 1], 'k--')\n",
    "plt.plot(fpr_rf, tpr_rf,color = 'green',label = 'Random Forest ROC curve (area = {0:0.2f})'\n",
    "               ''.format(auc_rf),lw=2)\n",
    "plt.plot(fpr_lr, tpr_lr,color = 'red',label = 'Logistic ROC curve (area = {0:0.2f})'''.format(auc_lr),lw=2)\n",
    "\n",
    "plt.plot(fpr_xgb, tpr_xgb ,color = 'darkorange',label = 'XGBoost ROC curve (area = {0:0.2f})'\n",
    "             ''.format(auc_xgb),lw=2)\n",
    "\n",
    "plt.xlabel('False positive rate')\n",
    "plt.ylabel('True positive rate')\n",
    "plt.title('ROC curve')\n",
    "plt.legend(loc='best',fontsize=15)\n",
    "ax.grid(True)\n",
    "plt.show()\n",
    "\n"
   ]
  },
  {
   "cell_type": "code",
   "execution_count": null,
   "metadata": {},
   "outputs": [],
   "source": []
  }
 ],
 "metadata": {
  "kernelspec": {
   "display_name": "Python 3",
   "language": "python",
   "name": "python3"
  },
  "language_info": {
   "codemirror_mode": {
    "name": "ipython",
    "version": 3
   },
   "file_extension": ".py",
   "mimetype": "text/x-python",
   "name": "python",
   "nbconvert_exporter": "python",
   "pygments_lexer": "ipython3",
   "version": "3.7.1"
  }
 },
 "nbformat": 4,
 "nbformat_minor": 2
}
