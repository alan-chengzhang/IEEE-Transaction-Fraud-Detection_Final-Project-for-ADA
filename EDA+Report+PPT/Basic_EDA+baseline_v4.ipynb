{
 "cells": [
  {
   "cell_type": "markdown",
   "metadata": {},
   "source": [
    "## Overall introduction and basic information about data"
   ]
  },
  {
   "cell_type": "markdown",
   "metadata": {},
   "source": [
    "https://www.kaggle.com/c/ieee-fraud-detection/data\n",
    "\n",
    "In this competition you are predicting the probability that an online transaction is fraudulent, as denoted by the binary target isFraud.\n",
    "\n",
    "The data is broken into two files identity and transaction, which are joined by TransactionID. Not all transactions have corresponding identity information.\n",
    "\n",
    "-------------------------------------------------------------------------------------------------------------------------\n",
    "Categorical Features - Transaction\n",
    "\n",
    "ProductCD\n",
    "\n",
    "card1 - card6\n",
    "\n",
    "addr1, addr2\n",
    "\n",
    "P_emaildomain\n",
    "\n",
    "R_emaildomain\n",
    "\n",
    "M1 - M9\n",
    "\n",
    "------------------------------------------------------------------------------------------------------\n",
    "Categorical Features - Identity\n",
    "\n",
    "DeviceType\n",
    "\n",
    "DeviceInfo\n",
    "\n",
    "id_12 - id_38\n",
    "\n",
    "----------------------------------------------------------------------------------------------------------\n",
    "\n",
    "The TransactionDT feature is a timedelta from a given reference datetime (not an actual timestamp).\n",
    "\n",
    "You can read more about the data from this post by the competition host.\n",
    "\n",
    "------------------------------------------------------------------------------------------------------------------\n",
    "\n",
    "Files\n",
    "train_{transaction, identity}.csv - the training set\n",
    "test_{transaction, identity}.csv - the test set (you must predict the isFraud value for these observations)\n",
    "sample_submission.csv - a sample submission file in the correct format"
   ]
  },
  {
   "cell_type": "code",
   "execution_count": 2,
   "metadata": {},
   "outputs": [],
   "source": [
    "import os \n",
    "import pandas as pd\n",
    "import numpy as np\n",
    "import matplotlib.pyplot as plt\n",
    "import seaborn as sns\n",
    "import collections\n",
    "import matplotlib\n",
    "from matplotlib.pyplot import MultipleLocator"
   ]
  },
  {
   "cell_type": "code",
   "execution_count": 4,
   "metadata": {
    "scrolled": false
   },
   "outputs": [
    {
     "data": {
      "text/plain": [
       "['Book1.twb',\n",
       " 'joined_test.csv',\n",
       " 'joined_train.csv',\n",
       " 'sample_submission.csv',\n",
       " 'tableau analysis.docx',\n",
       " 'test_identity.csv',\n",
       " 'test_transaction.csv',\n",
       " 'train_identity.csv',\n",
       " 'train_transaction.csv']"
      ]
     },
     "execution_count": 4,
     "metadata": {},
     "output_type": "execute_result"
    }
   ],
   "source": [
    "path = os.path.abspath('../data/')\n",
    "os.listdir(path)"
   ]
  },
  {
   "cell_type": "code",
   "execution_count": 3,
   "metadata": {},
   "outputs": [],
   "source": [
    "test_identity=pd.read_csv(path+'/test_identity.csv')\n",
    "test_transaction=pd.read_csv(path+'/test_transaction.csv')\n",
    "train_identity=pd.read_csv(path+'/train_identity.csv')\n",
    "train_transaction=pd.read_csv(path+'/train_transaction.csv')"
   ]
  },
  {
   "cell_type": "code",
   "execution_count": 4,
   "metadata": {
    "scrolled": true
   },
   "outputs": [
    {
     "name": "stdout",
     "output_type": "stream",
     "text": [
      "shape of test_identity is (141907, 41); shape of test_transaction is (506691, 393)\n",
      "shape of train_identity is (144233, 41); shape of train_transaction is (590540, 394)\n"
     ]
    }
   ],
   "source": [
    "print('shape of test_identity is {}; shape of test_transaction is {}'.format(test_identity.shape,test_transaction.shape))\n",
    "print('shape of train_identity is {}; shape of train_transaction is {}'.format(train_identity.shape,train_transaction.shape))"
   ]
  },
  {
   "cell_type": "code",
   "execution_count": 5,
   "metadata": {
    "scrolled": true
   },
   "outputs": [
    {
     "data": {
      "text/html": [
       "<div>\n",
       "<style scoped>\n",
       "    .dataframe tbody tr th:only-of-type {\n",
       "        vertical-align: middle;\n",
       "    }\n",
       "\n",
       "    .dataframe tbody tr th {\n",
       "        vertical-align: top;\n",
       "    }\n",
       "\n",
       "    .dataframe thead th {\n",
       "        text-align: right;\n",
       "    }\n",
       "</style>\n",
       "<table border=\"1\" class=\"dataframe\">\n",
       "  <thead>\n",
       "    <tr style=\"text-align: right;\">\n",
       "      <th></th>\n",
       "      <th>TransactionID</th>\n",
       "      <th>id_01</th>\n",
       "      <th>id_02</th>\n",
       "      <th>id_03</th>\n",
       "      <th>id_04</th>\n",
       "      <th>id_05</th>\n",
       "      <th>id_06</th>\n",
       "      <th>id_07</th>\n",
       "      <th>id_08</th>\n",
       "      <th>id_09</th>\n",
       "      <th>...</th>\n",
       "      <th>id_31</th>\n",
       "      <th>id_32</th>\n",
       "      <th>id_33</th>\n",
       "      <th>id_34</th>\n",
       "      <th>id_35</th>\n",
       "      <th>id_36</th>\n",
       "      <th>id_37</th>\n",
       "      <th>id_38</th>\n",
       "      <th>DeviceType</th>\n",
       "      <th>DeviceInfo</th>\n",
       "    </tr>\n",
       "  </thead>\n",
       "  <tbody>\n",
       "    <tr>\n",
       "      <th>0</th>\n",
       "      <td>3663586</td>\n",
       "      <td>-45.0</td>\n",
       "      <td>280290.0</td>\n",
       "      <td>NaN</td>\n",
       "      <td>NaN</td>\n",
       "      <td>0.0</td>\n",
       "      <td>0.0</td>\n",
       "      <td>NaN</td>\n",
       "      <td>NaN</td>\n",
       "      <td>NaN</td>\n",
       "      <td>...</td>\n",
       "      <td>chrome 67.0 for android</td>\n",
       "      <td>NaN</td>\n",
       "      <td>NaN</td>\n",
       "      <td>NaN</td>\n",
       "      <td>F</td>\n",
       "      <td>F</td>\n",
       "      <td>T</td>\n",
       "      <td>F</td>\n",
       "      <td>mobile</td>\n",
       "      <td>MYA-L13 Build/HUAWEIMYA-L13</td>\n",
       "    </tr>\n",
       "    <tr>\n",
       "      <th>1</th>\n",
       "      <td>3663588</td>\n",
       "      <td>0.0</td>\n",
       "      <td>3579.0</td>\n",
       "      <td>0.0</td>\n",
       "      <td>0.0</td>\n",
       "      <td>0.0</td>\n",
       "      <td>0.0</td>\n",
       "      <td>NaN</td>\n",
       "      <td>NaN</td>\n",
       "      <td>0.0</td>\n",
       "      <td>...</td>\n",
       "      <td>chrome 67.0 for android</td>\n",
       "      <td>24.0</td>\n",
       "      <td>1280x720</td>\n",
       "      <td>match_status:2</td>\n",
       "      <td>T</td>\n",
       "      <td>F</td>\n",
       "      <td>T</td>\n",
       "      <td>T</td>\n",
       "      <td>mobile</td>\n",
       "      <td>LGLS676 Build/MXB48T</td>\n",
       "    </tr>\n",
       "  </tbody>\n",
       "</table>\n",
       "<p>2 rows × 41 columns</p>\n",
       "</div>"
      ],
      "text/plain": [
       "   TransactionID  id_01     id_02  id_03  id_04  id_05  id_06  id_07  id_08  \\\n",
       "0        3663586  -45.0  280290.0    NaN    NaN    0.0    0.0    NaN    NaN   \n",
       "1        3663588    0.0    3579.0    0.0    0.0    0.0    0.0    NaN    NaN   \n",
       "\n",
       "   id_09             ...                                 id_31  id_32  \\\n",
       "0    NaN             ...               chrome 67.0 for android    NaN   \n",
       "1    0.0             ...               chrome 67.0 for android   24.0   \n",
       "\n",
       "      id_33           id_34  id_35 id_36 id_37  id_38  DeviceType  \\\n",
       "0       NaN             NaN      F     F     T      F      mobile   \n",
       "1  1280x720  match_status:2      T     F     T      T      mobile   \n",
       "\n",
       "                    DeviceInfo  \n",
       "0  MYA-L13 Build/HUAWEIMYA-L13  \n",
       "1         LGLS676 Build/MXB48T  \n",
       "\n",
       "[2 rows x 41 columns]"
      ]
     },
     "execution_count": 5,
     "metadata": {},
     "output_type": "execute_result"
    }
   ],
   "source": [
    "test_identity.head(2)"
   ]
  },
  {
   "cell_type": "code",
   "execution_count": 7,
   "metadata": {
    "scrolled": true
   },
   "outputs": [
    {
     "data": {
      "text/html": [
       "<div>\n",
       "<style scoped>\n",
       "    .dataframe tbody tr th:only-of-type {\n",
       "        vertical-align: middle;\n",
       "    }\n",
       "\n",
       "    .dataframe tbody tr th {\n",
       "        vertical-align: top;\n",
       "    }\n",
       "\n",
       "    .dataframe thead th {\n",
       "        text-align: right;\n",
       "    }\n",
       "</style>\n",
       "<table border=\"1\" class=\"dataframe\">\n",
       "  <thead>\n",
       "    <tr style=\"text-align: right;\">\n",
       "      <th></th>\n",
       "      <th>TransactionID</th>\n",
       "      <th>TransactionDT</th>\n",
       "      <th>TransactionAmt</th>\n",
       "      <th>ProductCD</th>\n",
       "      <th>card1</th>\n",
       "      <th>card2</th>\n",
       "      <th>card3</th>\n",
       "      <th>card4</th>\n",
       "      <th>card5</th>\n",
       "      <th>card6</th>\n",
       "      <th>...</th>\n",
       "      <th>V330</th>\n",
       "      <th>V331</th>\n",
       "      <th>V332</th>\n",
       "      <th>V333</th>\n",
       "      <th>V334</th>\n",
       "      <th>V335</th>\n",
       "      <th>V336</th>\n",
       "      <th>V337</th>\n",
       "      <th>V338</th>\n",
       "      <th>V339</th>\n",
       "    </tr>\n",
       "  </thead>\n",
       "  <tbody>\n",
       "    <tr>\n",
       "      <th>0</th>\n",
       "      <td>3663549</td>\n",
       "      <td>18403224</td>\n",
       "      <td>31.95</td>\n",
       "      <td>W</td>\n",
       "      <td>10409</td>\n",
       "      <td>111.0</td>\n",
       "      <td>150.0</td>\n",
       "      <td>visa</td>\n",
       "      <td>226.0</td>\n",
       "      <td>debit</td>\n",
       "      <td>...</td>\n",
       "      <td>NaN</td>\n",
       "      <td>NaN</td>\n",
       "      <td>NaN</td>\n",
       "      <td>NaN</td>\n",
       "      <td>NaN</td>\n",
       "      <td>NaN</td>\n",
       "      <td>NaN</td>\n",
       "      <td>NaN</td>\n",
       "      <td>NaN</td>\n",
       "      <td>NaN</td>\n",
       "    </tr>\n",
       "    <tr>\n",
       "      <th>1</th>\n",
       "      <td>3663550</td>\n",
       "      <td>18403263</td>\n",
       "      <td>49.00</td>\n",
       "      <td>W</td>\n",
       "      <td>4272</td>\n",
       "      <td>111.0</td>\n",
       "      <td>150.0</td>\n",
       "      <td>visa</td>\n",
       "      <td>226.0</td>\n",
       "      <td>debit</td>\n",
       "      <td>...</td>\n",
       "      <td>NaN</td>\n",
       "      <td>NaN</td>\n",
       "      <td>NaN</td>\n",
       "      <td>NaN</td>\n",
       "      <td>NaN</td>\n",
       "      <td>NaN</td>\n",
       "      <td>NaN</td>\n",
       "      <td>NaN</td>\n",
       "      <td>NaN</td>\n",
       "      <td>NaN</td>\n",
       "    </tr>\n",
       "  </tbody>\n",
       "</table>\n",
       "<p>2 rows × 393 columns</p>\n",
       "</div>"
      ],
      "text/plain": [
       "   TransactionID  TransactionDT  TransactionAmt ProductCD  card1  card2  \\\n",
       "0        3663549       18403224           31.95         W  10409  111.0   \n",
       "1        3663550       18403263           49.00         W   4272  111.0   \n",
       "\n",
       "   card3 card4  card5  card6  ...   V330  V331  V332  V333 V334 V335  V336  \\\n",
       "0  150.0  visa  226.0  debit  ...    NaN   NaN   NaN   NaN  NaN  NaN   NaN   \n",
       "1  150.0  visa  226.0  debit  ...    NaN   NaN   NaN   NaN  NaN  NaN   NaN   \n",
       "\n",
       "   V337  V338  V339  \n",
       "0   NaN   NaN   NaN  \n",
       "1   NaN   NaN   NaN  \n",
       "\n",
       "[2 rows x 393 columns]"
      ]
     },
     "execution_count": 7,
     "metadata": {},
     "output_type": "execute_result"
    }
   ],
   "source": [
    "test_transaction.head(2)"
   ]
  },
  {
   "cell_type": "code",
   "execution_count": 6,
   "metadata": {
    "scrolled": true
   },
   "outputs": [
    {
     "data": {
      "text/html": [
       "<div>\n",
       "<style scoped>\n",
       "    .dataframe tbody tr th:only-of-type {\n",
       "        vertical-align: middle;\n",
       "    }\n",
       "\n",
       "    .dataframe tbody tr th {\n",
       "        vertical-align: top;\n",
       "    }\n",
       "\n",
       "    .dataframe thead th {\n",
       "        text-align: right;\n",
       "    }\n",
       "</style>\n",
       "<table border=\"1\" class=\"dataframe\">\n",
       "  <thead>\n",
       "    <tr style=\"text-align: right;\">\n",
       "      <th></th>\n",
       "      <th>TransactionID</th>\n",
       "      <th>id_01</th>\n",
       "      <th>id_02</th>\n",
       "      <th>id_03</th>\n",
       "      <th>id_04</th>\n",
       "      <th>id_05</th>\n",
       "      <th>id_06</th>\n",
       "      <th>id_07</th>\n",
       "      <th>id_08</th>\n",
       "      <th>id_09</th>\n",
       "      <th>...</th>\n",
       "      <th>id_31</th>\n",
       "      <th>id_32</th>\n",
       "      <th>id_33</th>\n",
       "      <th>id_34</th>\n",
       "      <th>id_35</th>\n",
       "      <th>id_36</th>\n",
       "      <th>id_37</th>\n",
       "      <th>id_38</th>\n",
       "      <th>DeviceType</th>\n",
       "      <th>DeviceInfo</th>\n",
       "    </tr>\n",
       "  </thead>\n",
       "  <tbody>\n",
       "    <tr>\n",
       "      <th>0</th>\n",
       "      <td>2987004</td>\n",
       "      <td>0.0</td>\n",
       "      <td>70787.0</td>\n",
       "      <td>NaN</td>\n",
       "      <td>NaN</td>\n",
       "      <td>NaN</td>\n",
       "      <td>NaN</td>\n",
       "      <td>NaN</td>\n",
       "      <td>NaN</td>\n",
       "      <td>NaN</td>\n",
       "      <td>...</td>\n",
       "      <td>samsung browser 6.2</td>\n",
       "      <td>32.0</td>\n",
       "      <td>2220x1080</td>\n",
       "      <td>match_status:2</td>\n",
       "      <td>T</td>\n",
       "      <td>F</td>\n",
       "      <td>T</td>\n",
       "      <td>T</td>\n",
       "      <td>mobile</td>\n",
       "      <td>SAMSUNG SM-G892A Build/NRD90M</td>\n",
       "    </tr>\n",
       "    <tr>\n",
       "      <th>1</th>\n",
       "      <td>2987008</td>\n",
       "      <td>-5.0</td>\n",
       "      <td>98945.0</td>\n",
       "      <td>NaN</td>\n",
       "      <td>NaN</td>\n",
       "      <td>0.0</td>\n",
       "      <td>-5.0</td>\n",
       "      <td>NaN</td>\n",
       "      <td>NaN</td>\n",
       "      <td>NaN</td>\n",
       "      <td>...</td>\n",
       "      <td>mobile safari 11.0</td>\n",
       "      <td>32.0</td>\n",
       "      <td>1334x750</td>\n",
       "      <td>match_status:1</td>\n",
       "      <td>T</td>\n",
       "      <td>F</td>\n",
       "      <td>F</td>\n",
       "      <td>T</td>\n",
       "      <td>mobile</td>\n",
       "      <td>iOS Device</td>\n",
       "    </tr>\n",
       "  </tbody>\n",
       "</table>\n",
       "<p>2 rows × 41 columns</p>\n",
       "</div>"
      ],
      "text/plain": [
       "   TransactionID  id_01    id_02  id_03  id_04  id_05  id_06  id_07  id_08  \\\n",
       "0        2987004    0.0  70787.0    NaN    NaN    NaN    NaN    NaN    NaN   \n",
       "1        2987008   -5.0  98945.0    NaN    NaN    0.0   -5.0    NaN    NaN   \n",
       "\n",
       "   id_09              ...                              id_31  id_32  \\\n",
       "0    NaN              ...                samsung browser 6.2   32.0   \n",
       "1    NaN              ...                 mobile safari 11.0   32.0   \n",
       "\n",
       "       id_33           id_34  id_35 id_36 id_37  id_38  DeviceType  \\\n",
       "0  2220x1080  match_status:2      T     F     T      T      mobile   \n",
       "1   1334x750  match_status:1      T     F     F      T      mobile   \n",
       "\n",
       "                      DeviceInfo  \n",
       "0  SAMSUNG SM-G892A Build/NRD90M  \n",
       "1                     iOS Device  \n",
       "\n",
       "[2 rows x 41 columns]"
      ]
     },
     "execution_count": 6,
     "metadata": {},
     "output_type": "execute_result"
    }
   ],
   "source": [
    "train_identity.head(2)"
   ]
  },
  {
   "cell_type": "code",
   "execution_count": 13,
   "metadata": {
    "scrolled": false
   },
   "outputs": [
    {
     "data": {
      "text/html": [
       "<div>\n",
       "<style scoped>\n",
       "    .dataframe tbody tr th:only-of-type {\n",
       "        vertical-align: middle;\n",
       "    }\n",
       "\n",
       "    .dataframe tbody tr th {\n",
       "        vertical-align: top;\n",
       "    }\n",
       "\n",
       "    .dataframe thead th {\n",
       "        text-align: right;\n",
       "    }\n",
       "</style>\n",
       "<table border=\"1\" class=\"dataframe\">\n",
       "  <thead>\n",
       "    <tr style=\"text-align: right;\">\n",
       "      <th></th>\n",
       "      <th>TransactionID</th>\n",
       "      <th>isFraud</th>\n",
       "      <th>TransactionDT</th>\n",
       "      <th>TransactionAmt</th>\n",
       "      <th>ProductCD</th>\n",
       "      <th>card1</th>\n",
       "      <th>card2</th>\n",
       "      <th>card3</th>\n",
       "      <th>card4</th>\n",
       "      <th>card5</th>\n",
       "      <th>...</th>\n",
       "      <th>V330</th>\n",
       "      <th>V331</th>\n",
       "      <th>V332</th>\n",
       "      <th>V333</th>\n",
       "      <th>V334</th>\n",
       "      <th>V335</th>\n",
       "      <th>V336</th>\n",
       "      <th>V337</th>\n",
       "      <th>V338</th>\n",
       "      <th>V339</th>\n",
       "    </tr>\n",
       "  </thead>\n",
       "  <tbody>\n",
       "    <tr>\n",
       "      <th>0</th>\n",
       "      <td>2987000</td>\n",
       "      <td>0</td>\n",
       "      <td>86400</td>\n",
       "      <td>68.5</td>\n",
       "      <td>W</td>\n",
       "      <td>13926</td>\n",
       "      <td>NaN</td>\n",
       "      <td>150.0</td>\n",
       "      <td>discover</td>\n",
       "      <td>142.0</td>\n",
       "      <td>...</td>\n",
       "      <td>NaN</td>\n",
       "      <td>NaN</td>\n",
       "      <td>NaN</td>\n",
       "      <td>NaN</td>\n",
       "      <td>NaN</td>\n",
       "      <td>NaN</td>\n",
       "      <td>NaN</td>\n",
       "      <td>NaN</td>\n",
       "      <td>NaN</td>\n",
       "      <td>NaN</td>\n",
       "    </tr>\n",
       "    <tr>\n",
       "      <th>1</th>\n",
       "      <td>2987001</td>\n",
       "      <td>0</td>\n",
       "      <td>86401</td>\n",
       "      <td>29.0</td>\n",
       "      <td>W</td>\n",
       "      <td>2755</td>\n",
       "      <td>404.0</td>\n",
       "      <td>150.0</td>\n",
       "      <td>mastercard</td>\n",
       "      <td>102.0</td>\n",
       "      <td>...</td>\n",
       "      <td>NaN</td>\n",
       "      <td>NaN</td>\n",
       "      <td>NaN</td>\n",
       "      <td>NaN</td>\n",
       "      <td>NaN</td>\n",
       "      <td>NaN</td>\n",
       "      <td>NaN</td>\n",
       "      <td>NaN</td>\n",
       "      <td>NaN</td>\n",
       "      <td>NaN</td>\n",
       "    </tr>\n",
       "  </tbody>\n",
       "</table>\n",
       "<p>2 rows × 394 columns</p>\n",
       "</div>"
      ],
      "text/plain": [
       "   TransactionID  isFraud  TransactionDT  TransactionAmt ProductCD  card1  \\\n",
       "0        2987000        0          86400            68.5         W  13926   \n",
       "1        2987001        0          86401            29.0         W   2755   \n",
       "\n",
       "   card2  card3       card4  card5  ...  V330  V331  V332  V333  V334 V335  \\\n",
       "0    NaN  150.0    discover  142.0  ...   NaN   NaN   NaN   NaN   NaN  NaN   \n",
       "1  404.0  150.0  mastercard  102.0  ...   NaN   NaN   NaN   NaN   NaN  NaN   \n",
       "\n",
       "  V336  V337  V338  V339  \n",
       "0  NaN   NaN   NaN   NaN  \n",
       "1  NaN   NaN   NaN   NaN  \n",
       "\n",
       "[2 rows x 394 columns]"
      ]
     },
     "execution_count": 13,
     "metadata": {},
     "output_type": "execute_result"
    }
   ],
   "source": [
    "train_transaction.head(2)"
   ]
  },
  {
   "cell_type": "markdown",
   "metadata": {},
   "source": [
    "## Check for duplicate"
   ]
  },
  {
   "cell_type": "code",
   "execution_count": 14,
   "metadata": {},
   "outputs": [
    {
     "name": "stdout",
     "output_type": "stream",
     "text": [
      "shape of train_identity_unique is (144233, 41); shape of train_transaction_unique is (590540, 394)\n"
     ]
    }
   ],
   "source": [
    "# get trainning data with unique rows (keep the last row if there are duplicate):\n",
    "train_identity_unique = train_identity.drop_duplicates()\n",
    "train_transaction_unique = train_transaction.drop_duplicates()\n",
    "train_identity_unique = train_identity_unique.reindex()\n",
    "train_transaction_unique = train_transaction_unique.reindex()\n",
    "print('shape of train_identity_unique is {}; shape of train_transaction_unique is {}'.format(train_identity_unique.shape,train_transaction_unique.shape))"
   ]
  },
  {
   "cell_type": "code",
   "execution_count": 15,
   "metadata": {},
   "outputs": [
    {
     "name": "stdout",
     "output_type": "stream",
     "text": [
      "shape of train_identity_unique is (141907, 41); shape of train_transaction_unique is (506691, 393)\n"
     ]
    }
   ],
   "source": [
    "# check whether there are duplicate rows for test data\n",
    "# note: if there are, we still need to use original data sets in testing procedure.\n",
    "test_identity_unique = test_identity.drop_duplicates(keep='last')\n",
    "test_transaction_unique = test_transaction.drop_duplicates(keep='last')\n",
    "test_identity_unique = test_identity_unique.reindex()\n",
    "test_transaction_unique = test_transaction_unique.reindex()\n",
    "print('shape of train_identity_unique is {}; shape of train_transaction_unique is {}'.format(test_identity_unique.shape,test_transaction_unique.shape))"
   ]
  },
  {
   "cell_type": "markdown",
   "metadata": {},
   "source": [
    "shape of test_identity is (141907, 41); shape of test_transaction is (506691, 393)\n",
    "\n",
    "shape of train_identity is (144233, 41); shape of train_transaction is (590540, 394)\n",
    "\n",
    "So the good news is that, there are no dulicate rows. The original rows of the dataset is unique."
   ]
  },
  {
   "cell_type": "code",
   "execution_count": null,
   "metadata": {},
   "outputs": [],
   "source": []
  },
  {
   "cell_type": "markdown",
   "metadata": {},
   "source": [
    "## Join two data sets together"
   ]
  },
  {
   "cell_type": "markdown",
   "metadata": {},
   "source": [
    "If a TransactionID is in both data sets, we join all the imformation belongs to that ID to get new records."
   ]
  },
  {
   "cell_type": "code",
   "execution_count": 16,
   "metadata": {},
   "outputs": [],
   "source": [
    "train = pd.merge(train_transaction_unique, train_identity_unique, on='TransactionID', how='left')\n",
    "test = pd.merge(test_transaction_unique, test_identity_unique, on='TransactionID', how='left')"
   ]
  },
  {
   "cell_type": "code",
   "execution_count": 17,
   "metadata": {},
   "outputs": [
    {
     "name": "stdout",
     "output_type": "stream",
     "text": [
      "shape of train is (590540, 434); shape of test is (506691, 433)\n"
     ]
    }
   ],
   "source": [
    "print('shape of train is {}; shape of test is {}'.format(train.shape,test.shape))"
   ]
  },
  {
   "cell_type": "code",
   "execution_count": 42,
   "metadata": {},
   "outputs": [
    {
     "data": {
      "text/html": [
       "<div>\n",
       "<style scoped>\n",
       "    .dataframe tbody tr th:only-of-type {\n",
       "        vertical-align: middle;\n",
       "    }\n",
       "\n",
       "    .dataframe tbody tr th {\n",
       "        vertical-align: top;\n",
       "    }\n",
       "\n",
       "    .dataframe thead th {\n",
       "        text-align: right;\n",
       "    }\n",
       "</style>\n",
       "<table border=\"1\" class=\"dataframe\">\n",
       "  <thead>\n",
       "    <tr style=\"text-align: right;\">\n",
       "      <th></th>\n",
       "      <th>TransactionID</th>\n",
       "      <th>isFraud</th>\n",
       "      <th>TransactionDT</th>\n",
       "      <th>TransactionAmt</th>\n",
       "      <th>ProductCD</th>\n",
       "      <th>card1</th>\n",
       "      <th>card2</th>\n",
       "      <th>card3</th>\n",
       "      <th>card4</th>\n",
       "      <th>card5</th>\n",
       "      <th>...</th>\n",
       "      <th>id_31</th>\n",
       "      <th>id_32</th>\n",
       "      <th>id_33</th>\n",
       "      <th>id_34</th>\n",
       "      <th>id_35</th>\n",
       "      <th>id_36</th>\n",
       "      <th>id_37</th>\n",
       "      <th>id_38</th>\n",
       "      <th>DeviceType</th>\n",
       "      <th>DeviceInfo</th>\n",
       "    </tr>\n",
       "  </thead>\n",
       "  <tbody>\n",
       "    <tr>\n",
       "      <th>0</th>\n",
       "      <td>2987000</td>\n",
       "      <td>0</td>\n",
       "      <td>86400</td>\n",
       "      <td>68.5</td>\n",
       "      <td>W</td>\n",
       "      <td>13926</td>\n",
       "      <td>NaN</td>\n",
       "      <td>150.0</td>\n",
       "      <td>discover</td>\n",
       "      <td>142.0</td>\n",
       "      <td>...</td>\n",
       "      <td>NaN</td>\n",
       "      <td>NaN</td>\n",
       "      <td>NaN</td>\n",
       "      <td>NaN</td>\n",
       "      <td>NaN</td>\n",
       "      <td>NaN</td>\n",
       "      <td>NaN</td>\n",
       "      <td>NaN</td>\n",
       "      <td>NaN</td>\n",
       "      <td>NaN</td>\n",
       "    </tr>\n",
       "    <tr>\n",
       "      <th>1</th>\n",
       "      <td>2987001</td>\n",
       "      <td>0</td>\n",
       "      <td>86401</td>\n",
       "      <td>29.0</td>\n",
       "      <td>W</td>\n",
       "      <td>2755</td>\n",
       "      <td>404.0</td>\n",
       "      <td>150.0</td>\n",
       "      <td>mastercard</td>\n",
       "      <td>102.0</td>\n",
       "      <td>...</td>\n",
       "      <td>NaN</td>\n",
       "      <td>NaN</td>\n",
       "      <td>NaN</td>\n",
       "      <td>NaN</td>\n",
       "      <td>NaN</td>\n",
       "      <td>NaN</td>\n",
       "      <td>NaN</td>\n",
       "      <td>NaN</td>\n",
       "      <td>NaN</td>\n",
       "      <td>NaN</td>\n",
       "    </tr>\n",
       "  </tbody>\n",
       "</table>\n",
       "<p>2 rows × 434 columns</p>\n",
       "</div>"
      ],
      "text/plain": [
       "   TransactionID  isFraud  TransactionDT  TransactionAmt ProductCD  card1  \\\n",
       "0        2987000        0          86400            68.5         W  13926   \n",
       "1        2987001        0          86401            29.0         W   2755   \n",
       "\n",
       "   card2  card3       card4  card5     ...     id_31  id_32  id_33  id_34  \\\n",
       "0    NaN  150.0    discover  142.0     ...       NaN    NaN    NaN    NaN   \n",
       "1  404.0  150.0  mastercard  102.0     ...       NaN    NaN    NaN    NaN   \n",
       "\n",
       "   id_35 id_36 id_37  id_38  DeviceType  DeviceInfo  \n",
       "0    NaN   NaN   NaN    NaN         NaN         NaN  \n",
       "1    NaN   NaN   NaN    NaN         NaN         NaN  \n",
       "\n",
       "[2 rows x 434 columns]"
      ]
     },
     "execution_count": 42,
     "metadata": {},
     "output_type": "execute_result"
    }
   ],
   "source": [
    "train.head(2)"
   ]
  },
  {
   "cell_type": "code",
   "execution_count": 43,
   "metadata": {},
   "outputs": [
    {
     "data": {
      "text/html": [
       "<div>\n",
       "<style scoped>\n",
       "    .dataframe tbody tr th:only-of-type {\n",
       "        vertical-align: middle;\n",
       "    }\n",
       "\n",
       "    .dataframe tbody tr th {\n",
       "        vertical-align: top;\n",
       "    }\n",
       "\n",
       "    .dataframe thead th {\n",
       "        text-align: right;\n",
       "    }\n",
       "</style>\n",
       "<table border=\"1\" class=\"dataframe\">\n",
       "  <thead>\n",
       "    <tr style=\"text-align: right;\">\n",
       "      <th></th>\n",
       "      <th>TransactionID</th>\n",
       "      <th>TransactionDT</th>\n",
       "      <th>TransactionAmt</th>\n",
       "      <th>ProductCD</th>\n",
       "      <th>card1</th>\n",
       "      <th>card2</th>\n",
       "      <th>card3</th>\n",
       "      <th>card4</th>\n",
       "      <th>card5</th>\n",
       "      <th>card6</th>\n",
       "      <th>...</th>\n",
       "      <th>id_31</th>\n",
       "      <th>id_32</th>\n",
       "      <th>id_33</th>\n",
       "      <th>id_34</th>\n",
       "      <th>id_35</th>\n",
       "      <th>id_36</th>\n",
       "      <th>id_37</th>\n",
       "      <th>id_38</th>\n",
       "      <th>DeviceType</th>\n",
       "      <th>DeviceInfo</th>\n",
       "    </tr>\n",
       "  </thead>\n",
       "  <tbody>\n",
       "    <tr>\n",
       "      <th>0</th>\n",
       "      <td>3663549</td>\n",
       "      <td>18403224</td>\n",
       "      <td>31.95</td>\n",
       "      <td>W</td>\n",
       "      <td>10409</td>\n",
       "      <td>111.0</td>\n",
       "      <td>150.0</td>\n",
       "      <td>visa</td>\n",
       "      <td>226.0</td>\n",
       "      <td>debit</td>\n",
       "      <td>...</td>\n",
       "      <td>NaN</td>\n",
       "      <td>NaN</td>\n",
       "      <td>NaN</td>\n",
       "      <td>NaN</td>\n",
       "      <td>NaN</td>\n",
       "      <td>NaN</td>\n",
       "      <td>NaN</td>\n",
       "      <td>NaN</td>\n",
       "      <td>NaN</td>\n",
       "      <td>NaN</td>\n",
       "    </tr>\n",
       "    <tr>\n",
       "      <th>1</th>\n",
       "      <td>3663550</td>\n",
       "      <td>18403263</td>\n",
       "      <td>49.00</td>\n",
       "      <td>W</td>\n",
       "      <td>4272</td>\n",
       "      <td>111.0</td>\n",
       "      <td>150.0</td>\n",
       "      <td>visa</td>\n",
       "      <td>226.0</td>\n",
       "      <td>debit</td>\n",
       "      <td>...</td>\n",
       "      <td>NaN</td>\n",
       "      <td>NaN</td>\n",
       "      <td>NaN</td>\n",
       "      <td>NaN</td>\n",
       "      <td>NaN</td>\n",
       "      <td>NaN</td>\n",
       "      <td>NaN</td>\n",
       "      <td>NaN</td>\n",
       "      <td>NaN</td>\n",
       "      <td>NaN</td>\n",
       "    </tr>\n",
       "  </tbody>\n",
       "</table>\n",
       "<p>2 rows × 433 columns</p>\n",
       "</div>"
      ],
      "text/plain": [
       "   TransactionID  TransactionDT  TransactionAmt ProductCD  card1  card2  \\\n",
       "0        3663549       18403224           31.95         W  10409  111.0   \n",
       "1        3663550       18403263           49.00         W   4272  111.0   \n",
       "\n",
       "   card3 card4  card5  card6     ...      id_31  id_32  id_33  id_34 id_35  \\\n",
       "0  150.0  visa  226.0  debit     ...        NaN    NaN    NaN    NaN   NaN   \n",
       "1  150.0  visa  226.0  debit     ...        NaN    NaN    NaN    NaN   NaN   \n",
       "\n",
       "  id_36  id_37  id_38  DeviceType  DeviceInfo  \n",
       "0   NaN    NaN    NaN         NaN         NaN  \n",
       "1   NaN    NaN    NaN         NaN         NaN  \n",
       "\n",
       "[2 rows x 433 columns]"
      ]
     },
     "execution_count": 43,
     "metadata": {},
     "output_type": "execute_result"
    }
   ],
   "source": [
    "test.head(2)"
   ]
  },
  {
   "cell_type": "code",
   "execution_count": null,
   "metadata": {},
   "outputs": [],
   "source": []
  },
  {
   "cell_type": "markdown",
   "metadata": {},
   "source": [
    "## Check data type and missing data"
   ]
  },
  {
   "cell_type": "code",
   "execution_count": 18,
   "metadata": {},
   "outputs": [],
   "source": [
    "def missing_data(data):\n",
    "    total = data.isnull().sum()\n",
    "    percent = (data.isnull().sum()/data.isnull().count()*100)\n",
    "    tt = pd.concat([total, percent], axis=1, keys=['Total', 'Percent'])\n",
    "    types = []\n",
    "    for col in data.columns:\n",
    "        dtype = str(data[col].dtype)\n",
    "        types.append(dtype)\n",
    "    tt['Types'] = types\n",
    "    return(np.transpose(tt))"
   ]
  },
  {
   "cell_type": "code",
   "execution_count": 19,
   "metadata": {
    "scrolled": true
   },
   "outputs": [],
   "source": [
    "df_missing_train = missing_data(train)"
   ]
  },
  {
   "cell_type": "code",
   "execution_count": 43,
   "metadata": {
    "scrolled": false
   },
   "outputs": [
    {
     "data": {
      "text/html": [
       "<div>\n",
       "<style scoped>\n",
       "    .dataframe tbody tr th:only-of-type {\n",
       "        vertical-align: middle;\n",
       "    }\n",
       "\n",
       "    .dataframe tbody tr th {\n",
       "        vertical-align: top;\n",
       "    }\n",
       "\n",
       "    .dataframe thead th {\n",
       "        text-align: right;\n",
       "    }\n",
       "</style>\n",
       "<table border=\"1\" class=\"dataframe\">\n",
       "  <thead>\n",
       "    <tr style=\"text-align: right;\">\n",
       "      <th></th>\n",
       "      <th>TransactionID</th>\n",
       "      <th>isFraud</th>\n",
       "      <th>TransactionDT</th>\n",
       "      <th>TransactionAmt</th>\n",
       "      <th>ProductCD</th>\n",
       "      <th>card1</th>\n",
       "      <th>card2</th>\n",
       "      <th>card3</th>\n",
       "      <th>card4</th>\n",
       "      <th>card5</th>\n",
       "      <th>...</th>\n",
       "      <th>id_31</th>\n",
       "      <th>id_32</th>\n",
       "      <th>id_33</th>\n",
       "      <th>id_34</th>\n",
       "      <th>id_35</th>\n",
       "      <th>id_36</th>\n",
       "      <th>id_37</th>\n",
       "      <th>id_38</th>\n",
       "      <th>DeviceType</th>\n",
       "      <th>DeviceInfo</th>\n",
       "    </tr>\n",
       "  </thead>\n",
       "  <tbody>\n",
       "    <tr>\n",
       "      <th>Total</th>\n",
       "      <td>0</td>\n",
       "      <td>0</td>\n",
       "      <td>0</td>\n",
       "      <td>0</td>\n",
       "      <td>0</td>\n",
       "      <td>0</td>\n",
       "      <td>8933</td>\n",
       "      <td>1565</td>\n",
       "      <td>1577</td>\n",
       "      <td>4259</td>\n",
       "      <td>...</td>\n",
       "      <td>450258</td>\n",
       "      <td>512954</td>\n",
       "      <td>517251</td>\n",
       "      <td>512735</td>\n",
       "      <td>449555</td>\n",
       "      <td>449555</td>\n",
       "      <td>449555</td>\n",
       "      <td>449555</td>\n",
       "      <td>449730</td>\n",
       "      <td>471874</td>\n",
       "    </tr>\n",
       "    <tr>\n",
       "      <th>Percent</th>\n",
       "      <td>0</td>\n",
       "      <td>0</td>\n",
       "      <td>0</td>\n",
       "      <td>0</td>\n",
       "      <td>0</td>\n",
       "      <td>0</td>\n",
       "      <td>1.51268</td>\n",
       "      <td>0.265012</td>\n",
       "      <td>0.267044</td>\n",
       "      <td>0.721204</td>\n",
       "      <td>...</td>\n",
       "      <td>76.2451</td>\n",
       "      <td>86.8619</td>\n",
       "      <td>87.5895</td>\n",
       "      <td>86.8248</td>\n",
       "      <td>76.1261</td>\n",
       "      <td>76.1261</td>\n",
       "      <td>76.1261</td>\n",
       "      <td>76.1261</td>\n",
       "      <td>76.1557</td>\n",
       "      <td>79.9055</td>\n",
       "    </tr>\n",
       "    <tr>\n",
       "      <th>Types</th>\n",
       "      <td>int64</td>\n",
       "      <td>int64</td>\n",
       "      <td>int64</td>\n",
       "      <td>float64</td>\n",
       "      <td>object</td>\n",
       "      <td>int64</td>\n",
       "      <td>float64</td>\n",
       "      <td>float64</td>\n",
       "      <td>object</td>\n",
       "      <td>float64</td>\n",
       "      <td>...</td>\n",
       "      <td>object</td>\n",
       "      <td>float64</td>\n",
       "      <td>object</td>\n",
       "      <td>object</td>\n",
       "      <td>object</td>\n",
       "      <td>object</td>\n",
       "      <td>object</td>\n",
       "      <td>object</td>\n",
       "      <td>object</td>\n",
       "      <td>object</td>\n",
       "    </tr>\n",
       "  </tbody>\n",
       "</table>\n",
       "<p>3 rows × 434 columns</p>\n",
       "</div>"
      ],
      "text/plain": [
       "        TransactionID isFraud TransactionDT TransactionAmt ProductCD  card1  \\\n",
       "Total               0       0             0              0         0      0   \n",
       "Percent             0       0             0              0         0      0   \n",
       "Types           int64   int64         int64        float64    object  int64   \n",
       "\n",
       "           card2     card3     card4     card5    ...        id_31    id_32  \\\n",
       "Total       8933      1565      1577      4259    ...       450258   512954   \n",
       "Percent  1.51268  0.265012  0.267044  0.721204    ...      76.2451  86.8619   \n",
       "Types    float64   float64    object   float64    ...       object  float64   \n",
       "\n",
       "           id_33    id_34    id_35    id_36    id_37    id_38 DeviceType  \\\n",
       "Total     517251   512735   449555   449555   449555   449555     449730   \n",
       "Percent  87.5895  86.8248  76.1261  76.1261  76.1261  76.1261    76.1557   \n",
       "Types     object   object   object   object   object   object     object   \n",
       "\n",
       "        DeviceInfo  \n",
       "Total       471874  \n",
       "Percent    79.9055  \n",
       "Types       object  \n",
       "\n",
       "[3 rows x 434 columns]"
      ]
     },
     "execution_count": 43,
     "metadata": {},
     "output_type": "execute_result"
    }
   ],
   "source": [
    "df_missing_train"
   ]
  },
  {
   "cell_type": "code",
   "execution_count": null,
   "metadata": {},
   "outputs": [],
   "source": []
  },
  {
   "cell_type": "markdown",
   "metadata": {},
   "source": [
    "### 等宽分箱"
   ]
  },
  {
   "cell_type": "code",
   "execution_count": 35,
   "metadata": {},
   "outputs": [],
   "source": [
    "df_missing_train_0 = df_missing_train.loc[:,df_missing_train.loc['Percent',:]==0]\n",
    "df_missing_train_0_25 = df_missing_train.loc[:,((df_missing_train.loc['Percent',:]>0) & (df_missing_train.loc['Percent',:]<=25))]\n",
    "df_missing_train_25_50 = df_missing_train.loc[:,((df_missing_train.loc['Percent',:]>25) & (df_missing_train.loc['Percent',:]<=50))]\n",
    "df_missing_train_50_75 = df_missing_train.loc[:,((df_missing_train.loc['Percent',:]>50) & (df_missing_train.loc['Percent',:]<=75))]\n",
    "df_missing_train_75 = df_missing_train.loc[:,(df_missing_train.loc['Percent',:]>75)]"
   ]
  },
  {
   "cell_type": "code",
   "execution_count": 41,
   "metadata": {
    "scrolled": true
   },
   "outputs": [
    {
     "name": "stdout",
     "output_type": "stream",
     "text": [
      "0% missing 20\n",
      "0-25% missing 162\n",
      "25-50% missing 38\n",
      "50-75% missing 6\n",
      "75_100% missing 208\n"
     ]
    }
   ],
   "source": [
    "print('0% missing {}'.format(df_missing_train_0.shape[1]))\n",
    "print('0-25% missing {}'.format(df_missing_train_0_25.shape[1]))\n",
    "print('25-50% missing {}'.format(df_missing_train_25_50.shape[1]))\n",
    "print('50-75% missing {}'.format(df_missing_train_50_75.shape[1]))\n",
    "print('75_100% missing {}'.format(df_missing_train_75.shape[1]))"
   ]
  },
  {
   "cell_type": "code",
   "execution_count": null,
   "metadata": {},
   "outputs": [],
   "source": []
  },
  {
   "cell_type": "code",
   "execution_count": 94,
   "metadata": {},
   "outputs": [],
   "source": [
    "cut_df = pd.cut(df_missing_train.loc['Percent',:],4)\n",
    "cut_count = collections.Counter(cut_df)\n",
    "cut_count_df = pd.DataFrame.from_dict(cut_count, orient='index').reset_index()\n",
    "cut_count_df = cut_count_df.rename(columns={'index':'event', 0:'count'})"
   ]
  },
  {
   "cell_type": "code",
   "execution_count": 95,
   "metadata": {},
   "outputs": [
    {
     "data": {
      "text/html": [
       "<div>\n",
       "<style scoped>\n",
       "    .dataframe tbody tr th:only-of-type {\n",
       "        vertical-align: middle;\n",
       "    }\n",
       "\n",
       "    .dataframe tbody tr th {\n",
       "        vertical-align: top;\n",
       "    }\n",
       "\n",
       "    .dataframe thead th {\n",
       "        text-align: right;\n",
       "    }\n",
       "</style>\n",
       "<table border=\"1\" class=\"dataframe\">\n",
       "  <thead>\n",
       "    <tr style=\"text-align: right;\">\n",
       "      <th></th>\n",
       "      <th>event</th>\n",
       "      <th>count</th>\n",
       "    </tr>\n",
       "  </thead>\n",
       "  <tbody>\n",
       "    <tr>\n",
       "      <th>0</th>\n",
       "      <td>(-0.0992, 24.799]</td>\n",
       "      <td>182</td>\n",
       "    </tr>\n",
       "    <tr>\n",
       "      <th>1</th>\n",
       "      <td>(49.598, 74.397]</td>\n",
       "      <td>6</td>\n",
       "    </tr>\n",
       "    <tr>\n",
       "      <th>2</th>\n",
       "      <td>(74.397, 99.196]</td>\n",
       "      <td>208</td>\n",
       "    </tr>\n",
       "    <tr>\n",
       "      <th>3</th>\n",
       "      <td>(24.799, 49.598]</td>\n",
       "      <td>38</td>\n",
       "    </tr>\n",
       "  </tbody>\n",
       "</table>\n",
       "</div>"
      ],
      "text/plain": [
       "               event  count\n",
       "0  (-0.0992, 24.799]    182\n",
       "1   (49.598, 74.397]      6\n",
       "2   (74.397, 99.196]    208\n",
       "3   (24.799, 49.598]     38"
      ]
     },
     "execution_count": 95,
     "metadata": {},
     "output_type": "execute_result"
    }
   ],
   "source": [
    "cut_count_df"
   ]
  },
  {
   "cell_type": "code",
   "execution_count": 96,
   "metadata": {},
   "outputs": [
    {
     "data": {
      "text/plain": [
       "<BarContainer object of 4 artists>"
      ]
     },
     "execution_count": 96,
     "metadata": {},
     "output_type": "execute_result"
    },
    {
     "data": {
      "image/png": "[encoded data removed]",
      "text/plain": [
       "<Figure size 432x288 with 1 Axes>"
      ]
     },
     "metadata": {
      "needs_background": "light"
     },
     "output_type": "display_data"
    }
   ],
   "source": [
    "cut_count_df['event'] = cut_count_df['event'].astype('str')\n",
    "plt.bar(x=qcut_count_df.iloc[:,0], height = cut_count_df.iloc[:,1])"
   ]
  },
  {
   "cell_type": "markdown",
   "metadata": {},
   "source": [
    "### 等频分箱"
   ]
  },
  {
   "cell_type": "code",
   "execution_count": 77,
   "metadata": {},
   "outputs": [],
   "source": [
    "qcut_df = pd.qcut(df_missing_train.loc['Percent',:],4)\n",
    "qcut_count = collections.Counter(qcut_df)\n",
    "qcut_count_df = pd.DataFrame.from_dict(qcut_count, orient='index').reset_index()\n",
    "qcut_count_df=qcut_count_df.rename(columns={'index':'event', 0:'count'})"
   ]
  },
  {
   "cell_type": "code",
   "execution_count": 88,
   "metadata": {
    "scrolled": true
   },
   "outputs": [
    {
     "data": {
      "text/html": [
       "<div>\n",
       "<style scoped>\n",
       "    .dataframe tbody tr th:only-of-type {\n",
       "        vertical-align: middle;\n",
       "    }\n",
       "\n",
       "    .dataframe tbody tr th {\n",
       "        vertical-align: top;\n",
       "    }\n",
       "\n",
       "    .dataframe thead th {\n",
       "        text-align: right;\n",
       "    }\n",
       "</style>\n",
       "<table border=\"1\" class=\"dataframe\">\n",
       "  <thead>\n",
       "    <tr style=\"text-align: right;\">\n",
       "      <th></th>\n",
       "      <th>event</th>\n",
       "      <th>count</th>\n",
       "    </tr>\n",
       "  </thead>\n",
       "  <tbody>\n",
       "    <tr>\n",
       "      <th>0</th>\n",
       "      <td>(-0.001, 0.266]</td>\n",
       "      <td>109</td>\n",
       "    </tr>\n",
       "    <tr>\n",
       "      <th>1</th>\n",
       "      <td>(0.266, 47.293]</td>\n",
       "      <td>109</td>\n",
       "    </tr>\n",
       "    <tr>\n",
       "      <th>2</th>\n",
       "      <td>(47.293, 77.913]</td>\n",
       "      <td>139</td>\n",
       "    </tr>\n",
       "    <tr>\n",
       "      <th>3</th>\n",
       "      <td>(77.913, 99.196]</td>\n",
       "      <td>77</td>\n",
       "    </tr>\n",
       "  </tbody>\n",
       "</table>\n",
       "</div>"
      ],
      "text/plain": [
       "              event  count\n",
       "0   (-0.001, 0.266]    109\n",
       "1   (0.266, 47.293]    109\n",
       "2  (47.293, 77.913]    139\n",
       "3  (77.913, 99.196]     77"
      ]
     },
     "execution_count": 88,
     "metadata": {},
     "output_type": "execute_result"
    }
   ],
   "source": [
    "qcut_count_df"
   ]
  },
  {
   "cell_type": "code",
   "execution_count": 89,
   "metadata": {
    "scrolled": false
   },
   "outputs": [
    {
     "data": {
      "text/plain": [
       "<BarContainer object of 4 artists>"
      ]
     },
     "execution_count": 89,
     "metadata": {},
     "output_type": "execute_result"
    },
    {
     "data": {
      "image/png": "[encoded data removed]",
      "text/plain": [
       "<Figure size 432x288 with 1 Axes>"
      ]
     },
     "metadata": {
      "needs_background": "light"
     },
     "output_type": "display_data"
    }
   ],
   "source": [
    "qcut_count_df['event'] = qcut_count_df['event'].astype('str')\n",
    "plt.bar(x=qcut_count_df.iloc[:,0], height=qcut_count_df.iloc[:,1])"
   ]
  },
  {
   "cell_type": "code",
   "execution_count": null,
   "metadata": {},
   "outputs": [],
   "source": []
  },
  {
   "cell_type": "markdown",
   "metadata": {},
   "source": [
    "### Check Specific Value of Missing"
   ]
  },
  {
   "cell_type": "markdown",
   "metadata": {},
   "source": [
    "Only 20 columns (18 features) are without missing values.\n",
    "\n",
    "The missing values will be a huge problem in this case, since there are some columns with more than 70~80% missing values."
   ]
  },
  {
   "cell_type": "markdown",
   "metadata": {},
   "source": [
    "get columns with more than 80% or 90% missing data"
   ]
  },
  {
   "cell_type": "code",
   "execution_count": 74,
   "metadata": {
    "scrolled": false
   },
   "outputs": [
    {
     "data": {
      "text/html": [
       "<div>\n",
       "<style scoped>\n",
       "    .dataframe tbody tr th:only-of-type {\n",
       "        vertical-align: middle;\n",
       "    }\n",
       "\n",
       "    .dataframe tbody tr th {\n",
       "        vertical-align: top;\n",
       "    }\n",
       "\n",
       "    .dataframe thead th {\n",
       "        text-align: right;\n",
       "    }\n",
       "</style>\n",
       "<table border=\"1\" class=\"dataframe\">\n",
       "  <thead>\n",
       "    <tr style=\"text-align: right;\">\n",
       "      <th></th>\n",
       "      <th>dist2</th>\n",
       "      <th>D6</th>\n",
       "      <th>D7</th>\n",
       "      <th>D8</th>\n",
       "      <th>D9</th>\n",
       "      <th>D12</th>\n",
       "      <th>D13</th>\n",
       "      <th>D14</th>\n",
       "      <th>V138</th>\n",
       "      <th>V139</th>\n",
       "      <th>...</th>\n",
       "      <th>id_22</th>\n",
       "      <th>id_23</th>\n",
       "      <th>id_24</th>\n",
       "      <th>id_25</th>\n",
       "      <th>id_26</th>\n",
       "      <th>id_27</th>\n",
       "      <th>id_30</th>\n",
       "      <th>id_32</th>\n",
       "      <th>id_33</th>\n",
       "      <th>id_34</th>\n",
       "    </tr>\n",
       "  </thead>\n",
       "  <tbody>\n",
       "    <tr>\n",
       "      <th>Total</th>\n",
       "      <td>552913</td>\n",
       "      <td>517353</td>\n",
       "      <td>551623</td>\n",
       "      <td>515614</td>\n",
       "      <td>515614</td>\n",
       "      <td>525823</td>\n",
       "      <td>528588</td>\n",
       "      <td>528353</td>\n",
       "      <td>508595</td>\n",
       "      <td>508595</td>\n",
       "      <td>...</td>\n",
       "      <td>585371</td>\n",
       "      <td>585371</td>\n",
       "      <td>585793</td>\n",
       "      <td>585408</td>\n",
       "      <td>585377</td>\n",
       "      <td>585371</td>\n",
       "      <td>512975</td>\n",
       "      <td>512954</td>\n",
       "      <td>517251</td>\n",
       "      <td>512735</td>\n",
       "    </tr>\n",
       "    <tr>\n",
       "      <th>Percent</th>\n",
       "      <td>93.6284</td>\n",
       "      <td>87.6068</td>\n",
       "      <td>93.4099</td>\n",
       "      <td>87.3123</td>\n",
       "      <td>87.3123</td>\n",
       "      <td>89.041</td>\n",
       "      <td>89.5093</td>\n",
       "      <td>89.4695</td>\n",
       "      <td>86.1237</td>\n",
       "      <td>86.1237</td>\n",
       "      <td>...</td>\n",
       "      <td>99.1247</td>\n",
       "      <td>99.1247</td>\n",
       "      <td>99.1962</td>\n",
       "      <td>99.131</td>\n",
       "      <td>99.1257</td>\n",
       "      <td>99.1247</td>\n",
       "      <td>86.8654</td>\n",
       "      <td>86.8619</td>\n",
       "      <td>87.5895</td>\n",
       "      <td>86.8248</td>\n",
       "    </tr>\n",
       "    <tr>\n",
       "      <th>Types</th>\n",
       "      <td>float64</td>\n",
       "      <td>float64</td>\n",
       "      <td>float64</td>\n",
       "      <td>float64</td>\n",
       "      <td>float64</td>\n",
       "      <td>float64</td>\n",
       "      <td>float64</td>\n",
       "      <td>float64</td>\n",
       "      <td>float64</td>\n",
       "      <td>float64</td>\n",
       "      <td>...</td>\n",
       "      <td>float64</td>\n",
       "      <td>object</td>\n",
       "      <td>float64</td>\n",
       "      <td>float64</td>\n",
       "      <td>float64</td>\n",
       "      <td>object</td>\n",
       "      <td>object</td>\n",
       "      <td>float64</td>\n",
       "      <td>object</td>\n",
       "      <td>object</td>\n",
       "    </tr>\n",
       "  </tbody>\n",
       "</table>\n",
       "<p>3 rows × 74 columns</p>\n",
       "</div>"
      ],
      "text/plain": [
       "           dist2       D6       D7       D8       D9      D12      D13  \\\n",
       "Total     552913   517353   551623   515614   515614   525823   528588   \n",
       "Percent  93.6284  87.6068  93.4099  87.3123  87.3123   89.041  89.5093   \n",
       "Types    float64  float64  float64  float64  float64  float64  float64   \n",
       "\n",
       "             D14     V138     V139   ...       id_22    id_23    id_24  \\\n",
       "Total     528353   508595   508595   ...      585371   585371   585793   \n",
       "Percent  89.4695  86.1237  86.1237   ...     99.1247  99.1247  99.1962   \n",
       "Types    float64  float64  float64   ...     float64   object  float64   \n",
       "\n",
       "           id_25    id_26    id_27    id_30    id_32    id_33    id_34  \n",
       "Total     585408   585377   585371   512975   512954   517251   512735  \n",
       "Percent   99.131  99.1257  99.1247  86.8654  86.8619  87.5895  86.8248  \n",
       "Types    float64  float64   object   object  float64   object   object  \n",
       "\n",
       "[3 rows x 74 columns]"
      ]
     },
     "execution_count": 74,
     "metadata": {},
     "output_type": "execute_result"
    }
   ],
   "source": [
    "df_missing_train.loc[:,df_missing_train.loc['Percent',:]>=80]"
   ]
  },
  {
   "cell_type": "markdown",
   "metadata": {},
   "source": [
    "There are 74 columns with more than 80%.... bad news"
   ]
  },
  {
   "cell_type": "code",
   "execution_count": 75,
   "metadata": {
    "scrolled": true
   },
   "outputs": [
    {
     "data": {
      "text/html": [
       "<div>\n",
       "<style scoped>\n",
       "    .dataframe tbody tr th:only-of-type {\n",
       "        vertical-align: middle;\n",
       "    }\n",
       "\n",
       "    .dataframe tbody tr th {\n",
       "        vertical-align: top;\n",
       "    }\n",
       "\n",
       "    .dataframe thead th {\n",
       "        text-align: right;\n",
       "    }\n",
       "</style>\n",
       "<table border=\"1\" class=\"dataframe\">\n",
       "  <thead>\n",
       "    <tr style=\"text-align: right;\">\n",
       "      <th></th>\n",
       "      <th>dist2</th>\n",
       "      <th>D7</th>\n",
       "      <th>id_07</th>\n",
       "      <th>id_08</th>\n",
       "      <th>id_18</th>\n",
       "      <th>id_21</th>\n",
       "      <th>id_22</th>\n",
       "      <th>id_23</th>\n",
       "      <th>id_24</th>\n",
       "      <th>id_25</th>\n",
       "      <th>id_26</th>\n",
       "      <th>id_27</th>\n",
       "    </tr>\n",
       "  </thead>\n",
       "  <tbody>\n",
       "    <tr>\n",
       "      <th>Total</th>\n",
       "      <td>552913</td>\n",
       "      <td>551623</td>\n",
       "      <td>585385</td>\n",
       "      <td>585385</td>\n",
       "      <td>545427</td>\n",
       "      <td>585381</td>\n",
       "      <td>585371</td>\n",
       "      <td>585371</td>\n",
       "      <td>585793</td>\n",
       "      <td>585408</td>\n",
       "      <td>585377</td>\n",
       "      <td>585371</td>\n",
       "    </tr>\n",
       "    <tr>\n",
       "      <th>Percent</th>\n",
       "      <td>93.6284</td>\n",
       "      <td>93.4099</td>\n",
       "      <td>99.1271</td>\n",
       "      <td>99.1271</td>\n",
       "      <td>92.3607</td>\n",
       "      <td>99.1264</td>\n",
       "      <td>99.1247</td>\n",
       "      <td>99.1247</td>\n",
       "      <td>99.1962</td>\n",
       "      <td>99.131</td>\n",
       "      <td>99.1257</td>\n",
       "      <td>99.1247</td>\n",
       "    </tr>\n",
       "    <tr>\n",
       "      <th>Types</th>\n",
       "      <td>float64</td>\n",
       "      <td>float64</td>\n",
       "      <td>float64</td>\n",
       "      <td>float64</td>\n",
       "      <td>float64</td>\n",
       "      <td>float64</td>\n",
       "      <td>float64</td>\n",
       "      <td>object</td>\n",
       "      <td>float64</td>\n",
       "      <td>float64</td>\n",
       "      <td>float64</td>\n",
       "      <td>object</td>\n",
       "    </tr>\n",
       "  </tbody>\n",
       "</table>\n",
       "</div>"
      ],
      "text/plain": [
       "           dist2       D7    id_07    id_08    id_18    id_21    id_22  \\\n",
       "Total     552913   551623   585385   585385   545427   585381   585371   \n",
       "Percent  93.6284  93.4099  99.1271  99.1271  92.3607  99.1264  99.1247   \n",
       "Types    float64  float64  float64  float64  float64  float64  float64   \n",
       "\n",
       "           id_23    id_24    id_25    id_26    id_27  \n",
       "Total     585371   585793   585408   585377   585371  \n",
       "Percent  99.1247  99.1962   99.131  99.1257  99.1247  \n",
       "Types     object  float64  float64  float64   object  "
      ]
     },
     "execution_count": 75,
     "metadata": {},
     "output_type": "execute_result"
    }
   ],
   "source": [
    "df_missing_train.loc[:,df_missing_train.loc['Percent',:]>=90]"
   ]
  },
  {
   "cell_type": "markdown",
   "metadata": {},
   "source": [
    "There are 12 columns with more than 90% mising data"
   ]
  },
  {
   "cell_type": "code",
   "execution_count": null,
   "metadata": {},
   "outputs": [],
   "source": []
  },
  {
   "cell_type": "code",
   "execution_count": 67,
   "metadata": {},
   "outputs": [],
   "source": [
    "# just take a look of test data to see if the situation is similar.\n",
    "df_missing_test = missing_data(test)"
   ]
  },
  {
   "cell_type": "code",
   "execution_count": 68,
   "metadata": {},
   "outputs": [
    {
     "data": {
      "text/html": [
       "<div>\n",
       "<style scoped>\n",
       "    .dataframe tbody tr th:only-of-type {\n",
       "        vertical-align: middle;\n",
       "    }\n",
       "\n",
       "    .dataframe tbody tr th {\n",
       "        vertical-align: top;\n",
       "    }\n",
       "\n",
       "    .dataframe thead th {\n",
       "        text-align: right;\n",
       "    }\n",
       "</style>\n",
       "<table border=\"1\" class=\"dataframe\">\n",
       "  <thead>\n",
       "    <tr style=\"text-align: right;\">\n",
       "      <th></th>\n",
       "      <th>TransactionID</th>\n",
       "      <th>TransactionDT</th>\n",
       "      <th>TransactionAmt</th>\n",
       "      <th>ProductCD</th>\n",
       "      <th>card1</th>\n",
       "      <th>card2</th>\n",
       "      <th>card3</th>\n",
       "      <th>card4</th>\n",
       "      <th>card5</th>\n",
       "      <th>card6</th>\n",
       "      <th>...</th>\n",
       "      <th>id_31</th>\n",
       "      <th>id_32</th>\n",
       "      <th>id_33</th>\n",
       "      <th>id_34</th>\n",
       "      <th>id_35</th>\n",
       "      <th>id_36</th>\n",
       "      <th>id_37</th>\n",
       "      <th>id_38</th>\n",
       "      <th>DeviceType</th>\n",
       "      <th>DeviceInfo</th>\n",
       "    </tr>\n",
       "  </thead>\n",
       "  <tbody>\n",
       "    <tr>\n",
       "      <th>Total</th>\n",
       "      <td>0</td>\n",
       "      <td>0</td>\n",
       "      <td>0</td>\n",
       "      <td>0</td>\n",
       "      <td>0</td>\n",
       "      <td>8654</td>\n",
       "      <td>3002</td>\n",
       "      <td>3086</td>\n",
       "      <td>4547</td>\n",
       "      <td>3007</td>\n",
       "      <td>...</td>\n",
       "      <td>370066</td>\n",
       "      <td>436020</td>\n",
       "      <td>436020</td>\n",
       "      <td>434516</td>\n",
       "      <td>369714</td>\n",
       "      <td>369714</td>\n",
       "      <td>369714</td>\n",
       "      <td>369714</td>\n",
       "      <td>369760</td>\n",
       "      <td>391634</td>\n",
       "    </tr>\n",
       "    <tr>\n",
       "      <th>Percent</th>\n",
       "      <td>0</td>\n",
       "      <td>0</td>\n",
       "      <td>0</td>\n",
       "      <td>0</td>\n",
       "      <td>0</td>\n",
       "      <td>1.70794</td>\n",
       "      <td>0.592472</td>\n",
       "      <td>0.60905</td>\n",
       "      <td>0.897391</td>\n",
       "      <td>0.593458</td>\n",
       "      <td>...</td>\n",
       "      <td>73.0358</td>\n",
       "      <td>86.0524</td>\n",
       "      <td>86.0524</td>\n",
       "      <td>85.7556</td>\n",
       "      <td>72.9664</td>\n",
       "      <td>72.9664</td>\n",
       "      <td>72.9664</td>\n",
       "      <td>72.9664</td>\n",
       "      <td>72.9754</td>\n",
       "      <td>77.2925</td>\n",
       "    </tr>\n",
       "    <tr>\n",
       "      <th>Types</th>\n",
       "      <td>int64</td>\n",
       "      <td>int64</td>\n",
       "      <td>float64</td>\n",
       "      <td>object</td>\n",
       "      <td>int64</td>\n",
       "      <td>float64</td>\n",
       "      <td>float64</td>\n",
       "      <td>object</td>\n",
       "      <td>float64</td>\n",
       "      <td>object</td>\n",
       "      <td>...</td>\n",
       "      <td>object</td>\n",
       "      <td>float64</td>\n",
       "      <td>object</td>\n",
       "      <td>object</td>\n",
       "      <td>object</td>\n",
       "      <td>object</td>\n",
       "      <td>object</td>\n",
       "      <td>object</td>\n",
       "      <td>object</td>\n",
       "      <td>object</td>\n",
       "    </tr>\n",
       "  </tbody>\n",
       "</table>\n",
       "<p>3 rows × 433 columns</p>\n",
       "</div>"
      ],
      "text/plain": [
       "        TransactionID TransactionDT TransactionAmt ProductCD  card1    card2  \\\n",
       "Total               0             0              0         0      0     8654   \n",
       "Percent             0             0              0         0      0  1.70794   \n",
       "Types           int64         int64        float64    object  int64  float64   \n",
       "\n",
       "            card3    card4     card5     card6    ...        id_31    id_32  \\\n",
       "Total        3002     3086      4547      3007    ...       370066   436020   \n",
       "Percent  0.592472  0.60905  0.897391  0.593458    ...      73.0358  86.0524   \n",
       "Types     float64   object   float64    object    ...       object  float64   \n",
       "\n",
       "           id_33    id_34    id_35    id_36    id_37    id_38 DeviceType  \\\n",
       "Total     436020   434516   369714   369714   369714   369714     369760   \n",
       "Percent  86.0524  85.7556  72.9664  72.9664  72.9664  72.9664    72.9754   \n",
       "Types     object   object   object   object   object   object     object   \n",
       "\n",
       "        DeviceInfo  \n",
       "Total       391634  \n",
       "Percent    77.2925  \n",
       "Types       object  \n",
       "\n",
       "[3 rows x 433 columns]"
      ]
     },
     "execution_count": 68,
     "metadata": {},
     "output_type": "execute_result"
    }
   ],
   "source": [
    "df_missing_test"
   ]
  },
  {
   "cell_type": "code",
   "execution_count": 72,
   "metadata": {
    "scrolled": true
   },
   "outputs": [
    {
     "data": {
      "text/html": [
       "<div>\n",
       "<style scoped>\n",
       "    .dataframe tbody tr th:only-of-type {\n",
       "        vertical-align: middle;\n",
       "    }\n",
       "\n",
       "    .dataframe tbody tr th {\n",
       "        vertical-align: top;\n",
       "    }\n",
       "\n",
       "    .dataframe thead th {\n",
       "        text-align: right;\n",
       "    }\n",
       "</style>\n",
       "<table border=\"1\" class=\"dataframe\">\n",
       "  <thead>\n",
       "    <tr style=\"text-align: right;\">\n",
       "      <th></th>\n",
       "      <th>TransactionID</th>\n",
       "      <th>TransactionDT</th>\n",
       "      <th>TransactionAmt</th>\n",
       "      <th>ProductCD</th>\n",
       "      <th>card1</th>\n",
       "      <th>V95</th>\n",
       "      <th>V96</th>\n",
       "      <th>V97</th>\n",
       "      <th>V98</th>\n",
       "      <th>V99</th>\n",
       "      <th>...</th>\n",
       "      <th>V128</th>\n",
       "      <th>V129</th>\n",
       "      <th>V130</th>\n",
       "      <th>V131</th>\n",
       "      <th>V132</th>\n",
       "      <th>V133</th>\n",
       "      <th>V134</th>\n",
       "      <th>V135</th>\n",
       "      <th>V136</th>\n",
       "      <th>V137</th>\n",
       "    </tr>\n",
       "  </thead>\n",
       "  <tbody>\n",
       "    <tr>\n",
       "      <th>Total</th>\n",
       "      <td>0</td>\n",
       "      <td>0</td>\n",
       "      <td>0</td>\n",
       "      <td>0</td>\n",
       "      <td>0</td>\n",
       "      <td>0</td>\n",
       "      <td>0</td>\n",
       "      <td>0</td>\n",
       "      <td>0</td>\n",
       "      <td>0</td>\n",
       "      <td>...</td>\n",
       "      <td>0</td>\n",
       "      <td>0</td>\n",
       "      <td>0</td>\n",
       "      <td>0</td>\n",
       "      <td>0</td>\n",
       "      <td>0</td>\n",
       "      <td>0</td>\n",
       "      <td>0</td>\n",
       "      <td>0</td>\n",
       "      <td>0</td>\n",
       "    </tr>\n",
       "    <tr>\n",
       "      <th>Percent</th>\n",
       "      <td>0</td>\n",
       "      <td>0</td>\n",
       "      <td>0</td>\n",
       "      <td>0</td>\n",
       "      <td>0</td>\n",
       "      <td>0</td>\n",
       "      <td>0</td>\n",
       "      <td>0</td>\n",
       "      <td>0</td>\n",
       "      <td>0</td>\n",
       "      <td>...</td>\n",
       "      <td>0</td>\n",
       "      <td>0</td>\n",
       "      <td>0</td>\n",
       "      <td>0</td>\n",
       "      <td>0</td>\n",
       "      <td>0</td>\n",
       "      <td>0</td>\n",
       "      <td>0</td>\n",
       "      <td>0</td>\n",
       "      <td>0</td>\n",
       "    </tr>\n",
       "    <tr>\n",
       "      <th>Types</th>\n",
       "      <td>int64</td>\n",
       "      <td>int64</td>\n",
       "      <td>float64</td>\n",
       "      <td>object</td>\n",
       "      <td>int64</td>\n",
       "      <td>float64</td>\n",
       "      <td>float64</td>\n",
       "      <td>float64</td>\n",
       "      <td>float64</td>\n",
       "      <td>float64</td>\n",
       "      <td>...</td>\n",
       "      <td>float64</td>\n",
       "      <td>float64</td>\n",
       "      <td>float64</td>\n",
       "      <td>float64</td>\n",
       "      <td>float64</td>\n",
       "      <td>float64</td>\n",
       "      <td>float64</td>\n",
       "      <td>float64</td>\n",
       "      <td>float64</td>\n",
       "      <td>float64</td>\n",
       "    </tr>\n",
       "  </tbody>\n",
       "</table>\n",
       "<p>3 rows × 48 columns</p>\n",
       "</div>"
      ],
      "text/plain": [
       "        TransactionID TransactionDT TransactionAmt ProductCD  card1      V95  \\\n",
       "Total               0             0              0         0      0        0   \n",
       "Percent             0             0              0         0      0        0   \n",
       "Types           int64         int64        float64    object  int64  float64   \n",
       "\n",
       "             V96      V97      V98      V99   ...        V128     V129  \\\n",
       "Total          0        0        0        0   ...           0        0   \n",
       "Percent        0        0        0        0   ...           0        0   \n",
       "Types    float64  float64  float64  float64   ...     float64  float64   \n",
       "\n",
       "            V130     V131     V132     V133     V134     V135     V136  \\\n",
       "Total          0        0        0        0        0        0        0   \n",
       "Percent        0        0        0        0        0        0        0   \n",
       "Types    float64  float64  float64  float64  float64  float64  float64   \n",
       "\n",
       "            V137  \n",
       "Total          0  \n",
       "Percent        0  \n",
       "Types    float64  \n",
       "\n",
       "[3 rows x 48 columns]"
      ]
     },
     "execution_count": 72,
     "metadata": {},
     "output_type": "execute_result"
    }
   ],
   "source": [
    "df_missing_test.loc[:,df_missing_test.loc['Total',:]==0]"
   ]
  },
  {
   "cell_type": "markdown",
   "metadata": {},
   "source": [
    "There are 48 columns (46 features) without missing values in test data. It seems to be better but still severe comparing to total 433 columns"
   ]
  },
  {
   "cell_type": "code",
   "execution_count": null,
   "metadata": {},
   "outputs": [],
   "source": []
  },
  {
   "cell_type": "markdown",
   "metadata": {},
   "source": [
    "## Check the imbalance of target variable"
   ]
  },
  {
   "cell_type": "code",
   "execution_count": 110,
   "metadata": {
    "scrolled": true
   },
   "outputs": [
    {
     "data": {
      "image/png": "[encoded data removed]",
      "text/plain": [
       "<Figure size 432x288 with 1 Axes>"
      ]
     },
     "metadata": {},
     "output_type": "display_data"
    }
   ],
   "source": [
    "sns.set(style=\"darkgrid\")\n",
    "matplotlib.rcParams.update({'font.size': 14})\n",
    "ax=sns.countplot(train['isFraud'], palette='Set3')\n",
    "\n",
    "total = float(len(train))\n",
    "for p in ax.patches:\n",
    "    height = p.get_height()\n",
    "    ax.text(p.get_x()+p.get_width()/2.,\n",
    "            height + 4,\n",
    "            '{:1.2f}%'.format((height/total)*100),\n",
    "            ha=\"center\") \n",
    "\n",
    "plt.xlabel('isFraud', fontdict={'weight': 'normal', 'size': 16})\n",
    "plt.ylabel('Number', fontdict={'weight': 'normal', 'size': 16})\n",
    "plt.title('Number of Not Fraud/Fraud', fontdict={'weight': 'normal', 'size': 18})\n",
    "\n",
    "plt.show()"
   ]
  },
  {
   "cell_type": "markdown",
   "metadata": {},
   "source": [
    "There is severe inbalance of target variables"
   ]
  },
  {
   "cell_type": "code",
   "execution_count": null,
   "metadata": {},
   "outputs": [],
   "source": []
  },
  {
   "cell_type": "markdown",
   "metadata": {},
   "source": [
    "## Check for multicolinarity"
   ]
  },
  {
   "cell_type": "markdown",
   "metadata": {},
   "source": [
    "### Corralation between columns"
   ]
  },
  {
   "cell_type": "code",
   "execution_count": 81,
   "metadata": {},
   "outputs": [],
   "source": [
    "features=train.columns.values[2:]"
   ]
  },
  {
   "cell_type": "code",
   "execution_count": 82,
   "metadata": {},
   "outputs": [
    {
     "data": {
      "text/html": [
       "<div>\n",
       "<style scoped>\n",
       "    .dataframe tbody tr th:only-of-type {\n",
       "        vertical-align: middle;\n",
       "    }\n",
       "\n",
       "    .dataframe tbody tr th {\n",
       "        vertical-align: top;\n",
       "    }\n",
       "\n",
       "    .dataframe thead th {\n",
       "        text-align: right;\n",
       "    }\n",
       "</style>\n",
       "<table border=\"1\" class=\"dataframe\">\n",
       "  <thead>\n",
       "    <tr style=\"text-align: right;\">\n",
       "      <th></th>\n",
       "      <th>level_0</th>\n",
       "      <th>level_1</th>\n",
       "      <th>0</th>\n",
       "    </tr>\n",
       "  </thead>\n",
       "  <tbody>\n",
       "    <tr>\n",
       "      <th>0</th>\n",
       "      <td>card1</td>\n",
       "      <td>V80</td>\n",
       "      <td>6.802607e-08</td>\n",
       "    </tr>\n",
       "    <tr>\n",
       "      <th>1</th>\n",
       "      <td>V80</td>\n",
       "      <td>card1</td>\n",
       "      <td>6.802607e-08</td>\n",
       "    </tr>\n",
       "    <tr>\n",
       "      <th>2</th>\n",
       "      <td>V294</td>\n",
       "      <td>V112</td>\n",
       "      <td>7.721540e-07</td>\n",
       "    </tr>\n",
       "    <tr>\n",
       "      <th>3</th>\n",
       "      <td>V112</td>\n",
       "      <td>V294</td>\n",
       "      <td>7.721540e-07</td>\n",
       "    </tr>\n",
       "    <tr>\n",
       "      <th>4</th>\n",
       "      <td>V88</td>\n",
       "      <td>card1</td>\n",
       "      <td>8.168735e-07</td>\n",
       "    </tr>\n",
       "    <tr>\n",
       "      <th>5</th>\n",
       "      <td>card1</td>\n",
       "      <td>V88</td>\n",
       "      <td>8.168735e-07</td>\n",
       "    </tr>\n",
       "    <tr>\n",
       "      <th>6</th>\n",
       "      <td>V300</td>\n",
       "      <td>V258</td>\n",
       "      <td>2.108870e-06</td>\n",
       "    </tr>\n",
       "    <tr>\n",
       "      <th>7</th>\n",
       "      <td>V258</td>\n",
       "      <td>V300</td>\n",
       "      <td>2.108870e-06</td>\n",
       "    </tr>\n",
       "    <tr>\n",
       "      <th>8</th>\n",
       "      <td>C7</td>\n",
       "      <td>V194</td>\n",
       "      <td>2.413776e-06</td>\n",
       "    </tr>\n",
       "    <tr>\n",
       "      <th>9</th>\n",
       "      <td>V194</td>\n",
       "      <td>C7</td>\n",
       "      <td>2.413776e-06</td>\n",
       "    </tr>\n",
       "  </tbody>\n",
       "</table>\n",
       "</div>"
      ],
      "text/plain": [
       "  level_0 level_1             0\n",
       "0   card1     V80  6.802607e-08\n",
       "1     V80   card1  6.802607e-08\n",
       "2    V294    V112  7.721540e-07\n",
       "3    V112    V294  7.721540e-07\n",
       "4     V88   card1  8.168735e-07\n",
       "5   card1     V88  8.168735e-07\n",
       "6    V300    V258  2.108870e-06\n",
       "7    V258    V300  2.108870e-06\n",
       "8      C7    V194  2.413776e-06\n",
       "9    V194      C7  2.413776e-06"
      ]
     },
     "execution_count": 82,
     "metadata": {},
     "output_type": "execute_result"
    }
   ],
   "source": [
    "correlations = train[features].corr().abs().unstack().sort_values(kind=\"quicksort\").reset_index()\n",
    "correlations = correlations[correlations['level_0'] != correlations['level_1']]\n",
    "correlations.head(10)"
   ]
  },
  {
   "cell_type": "code",
   "execution_count": 83,
   "metadata": {},
   "outputs": [
    {
     "data": {
      "text/html": [
       "<div>\n",
       "<style scoped>\n",
       "    .dataframe tbody tr th:only-of-type {\n",
       "        vertical-align: middle;\n",
       "    }\n",
       "\n",
       "    .dataframe tbody tr th {\n",
       "        vertical-align: top;\n",
       "    }\n",
       "\n",
       "    .dataframe thead th {\n",
       "        text-align: right;\n",
       "    }\n",
       "</style>\n",
       "<table border=\"1\" class=\"dataframe\">\n",
       "  <thead>\n",
       "    <tr style=\"text-align: right;\">\n",
       "      <th></th>\n",
       "      <th>level_0</th>\n",
       "      <th>level_1</th>\n",
       "      <th>0</th>\n",
       "    </tr>\n",
       "  </thead>\n",
       "  <tbody>\n",
       "    <tr>\n",
       "      <th>160791</th>\n",
       "      <td>id_32</td>\n",
       "      <td>V73</td>\n",
       "      <td>NaN</td>\n",
       "    </tr>\n",
       "    <tr>\n",
       "      <th>160792</th>\n",
       "      <td>id_32</td>\n",
       "      <td>V74</td>\n",
       "      <td>NaN</td>\n",
       "    </tr>\n",
       "    <tr>\n",
       "      <th>160793</th>\n",
       "      <td>id_32</td>\n",
       "      <td>V75</td>\n",
       "      <td>NaN</td>\n",
       "    </tr>\n",
       "    <tr>\n",
       "      <th>160794</th>\n",
       "      <td>id_32</td>\n",
       "      <td>V76</td>\n",
       "      <td>NaN</td>\n",
       "    </tr>\n",
       "    <tr>\n",
       "      <th>160795</th>\n",
       "      <td>id_32</td>\n",
       "      <td>V79</td>\n",
       "      <td>NaN</td>\n",
       "    </tr>\n",
       "    <tr>\n",
       "      <th>160796</th>\n",
       "      <td>id_32</td>\n",
       "      <td>V90</td>\n",
       "      <td>NaN</td>\n",
       "    </tr>\n",
       "    <tr>\n",
       "      <th>160797</th>\n",
       "      <td>id_32</td>\n",
       "      <td>V91</td>\n",
       "      <td>NaN</td>\n",
       "    </tr>\n",
       "    <tr>\n",
       "      <th>160798</th>\n",
       "      <td>id_32</td>\n",
       "      <td>V94</td>\n",
       "      <td>NaN</td>\n",
       "    </tr>\n",
       "    <tr>\n",
       "      <th>160799</th>\n",
       "      <td>id_32</td>\n",
       "      <td>V107</td>\n",
       "      <td>NaN</td>\n",
       "    </tr>\n",
       "    <tr>\n",
       "      <th>160800</th>\n",
       "      <td>id_32</td>\n",
       "      <td>V305</td>\n",
       "      <td>NaN</td>\n",
       "    </tr>\n",
       "  </tbody>\n",
       "</table>\n",
       "</div>"
      ],
      "text/plain": [
       "       level_0 level_1   0\n",
       "160791   id_32     V73 NaN\n",
       "160792   id_32     V74 NaN\n",
       "160793   id_32     V75 NaN\n",
       "160794   id_32     V76 NaN\n",
       "160795   id_32     V79 NaN\n",
       "160796   id_32     V90 NaN\n",
       "160797   id_32     V91 NaN\n",
       "160798   id_32     V94 NaN\n",
       "160799   id_32    V107 NaN\n",
       "160800   id_32    V305 NaN"
      ]
     },
     "execution_count": 83,
     "metadata": {},
     "output_type": "execute_result"
    }
   ],
   "source": [
    "correlations.tail(10)"
   ]
  },
  {
   "cell_type": "markdown",
   "metadata": {},
   "source": [
    "看结果感觉correlation都挺小的，但可以把空值去掉再看看，因为空值实在太多了"
   ]
  },
  {
   "cell_type": "code",
   "execution_count": null,
   "metadata": {},
   "outputs": [],
   "source": []
  },
  {
   "cell_type": "markdown",
   "metadata": {},
   "source": [
    "## Output the joined trainning data to do the visualization"
   ]
  },
  {
   "cell_type": "code",
   "execution_count": 81,
   "metadata": {},
   "outputs": [],
   "source": [
    "train.to_csv(path+'/joined_train.csv')"
   ]
  },
  {
   "cell_type": "code",
   "execution_count": 82,
   "metadata": {},
   "outputs": [],
   "source": [
    "test.to_csv(path+'/joined_test.csv')"
   ]
  },
  {
   "cell_type": "markdown",
   "metadata": {},
   "source": [
    "Some fancy plots will (plan to) to be drawn in tableau"
   ]
  },
  {
   "cell_type": "code",
   "execution_count": null,
   "metadata": {},
   "outputs": [],
   "source": []
  },
  {
   "cell_type": "markdown",
   "metadata": {},
   "source": [
    "## Data visualization for some interesting columns\n",
    "\n",
    "reference：\n",
    "\n",
    "https://www.kaggle.com/artgor/eda-and-models\n",
    "\n",
    "https://www.kaggle.com/robikscube/ieee-fraud-detection-first-look-and-eda\n"
   ]
  },
  {
   "cell_type": "code",
   "execution_count": 5,
   "metadata": {
    "scrolled": true
   },
   "outputs": [],
   "source": [
    "train = pd.read_csv(path+'/joined_train.csv')"
   ]
  },
  {
   "cell_type": "code",
   "execution_count": 8,
   "metadata": {},
   "outputs": [],
   "source": [
    "test = pd.read_csv(path+'/joined_test.csv')"
   ]
  },
  {
   "cell_type": "code",
   "execution_count": null,
   "metadata": {},
   "outputs": [],
   "source": []
  },
  {
   "cell_type": "markdown",
   "metadata": {},
   "source": [
    "## Data Exploration"
   ]
  },
  {
   "cell_type": "code",
   "execution_count": 13,
   "metadata": {},
   "outputs": [],
   "source": [
    "sns.set_style('darkgrid')\n",
    "%matplotlib inline"
   ]
  },
  {
   "cell_type": "markdown",
   "metadata": {},
   "source": [
    "### Exploration for null value"
   ]
  },
  {
   "cell_type": "markdown",
   "metadata": {},
   "source": [
    "id_01 - id_11 are continuous variables, id_12 - id_38 are categorical\n",
    "\n",
    "Just as a mentioned before, there are severe data quality problem with respect to missing data. \n",
    "\n",
    "For example the following are plots for id_30 (platform type), id_31 (browser type), DeviceInfo and DeviceType\n",
    "\n",
    "Please keep in mind that there is many other features like this with lots of missing value"
   ]
  },
  {
   "cell_type": "code",
   "execution_count": null,
   "metadata": {},
   "outputs": [],
   "source": []
  },
  {
   "cell_type": "code",
   "execution_count": 43,
   "metadata": {},
   "outputs": [
    {
     "data": {
      "image/png": "[encoded data removed]",
      "text/plain": [
       "<Figure size 1656x360 with 1 Axes>"
      ]
     },
     "metadata": {
      "needs_background": "light"
     },
     "output_type": "display_data"
    }
   ],
   "source": [
    "matplotlib.rcParams.update({'font.size': 14})\n",
    "counter=collections.Counter(train['id_30'])\n",
    "most_common_element = counter.most_common(10)\n",
    "most_common_platform = pd.DataFrame(most_common_element,columns=['platform','number'])\n",
    "most_common_platform['platform'] = most_common_platform['platform'].map(str)\n",
    "fig,ax = plt.subplots(1,1,figsize=(23,5))\n",
    "sns.barplot(x='platform',y='number', data = most_common_platform)\n",
    "plt.xlabel('Platform', fontdict={'weight': 'normal', 'size': 18})\n",
    "plt.ylabel('Number', fontdict={'weight': 'normal', 'size': 18})\n",
    "plt.title('Top 10 categories in id_30 (Platform)', fontdict={'weight': 'normal', 'size': 22})\n",
    "plt.show()"
   ]
  },
  {
   "cell_type": "code",
   "execution_count": 30,
   "metadata": {
    "scrolled": false
   },
   "outputs": [
    {
     "data": {
      "image/png": "[encoded data removed]",
      "text/plain": [
       "<Figure size 1656x360 with 1 Axes>"
      ]
     },
     "metadata": {
      "needs_background": "light"
     },
     "output_type": "display_data"
    }
   ],
   "source": [
    "matplotlib.rcParams.update({'font.size': 14})\n",
    "counter=collections.Counter(train['id_31'])\n",
    "most_common_element = counter.most_common(10)\n",
    "most_common_browser = pd.DataFrame(most_common_element,columns=['browser','number'])\n",
    "most_common_browser['browser'] = most_common_browser['browser'].map(str)\n",
    "fig,ax = plt.subplots(1,1,figsize=(23,5))\n",
    "sns.barplot(x='browser',y='number', data = most_common_browser)\n",
    "plt.xlabel('Browser', fontdict={'weight': 'normal', 'size': 18})\n",
    "plt.ylabel('Number', fontdict={'weight': 'normal', 'size': 18})\n",
    "plt.title('Top 10 categories in id_31 (Browser)', fontdict={'weight': 'normal', 'size': 22})\n",
    "plt.show()"
   ]
  },
  {
   "cell_type": "code",
   "execution_count": 48,
   "metadata": {},
   "outputs": [
    {
     "data": {
      "image/png": "[encoded data removed]",
      "text/plain": [
       "<Figure size 720x360 with 1 Axes>"
      ]
     },
     "metadata": {
      "needs_background": "light"
     },
     "output_type": "display_data"
    }
   ],
   "source": [
    "matplotlib.rcParams.update({'font.size': 14})\n",
    "counter=collections.Counter(train['DeviceInfo'])\n",
    "most_common_element = counter.most_common(5)\n",
    "most_common_DeviceInfo = pd.DataFrame(most_common_element,columns=['DeviceInfo','number'])\n",
    "most_common_DeviceInfo['DeviceInfo'] = most_common_DeviceInfo['DeviceInfo'].map(str)\n",
    "fig,ax = plt.subplots(1,1,figsize=(10,5))\n",
    "sns.barplot(x='DeviceInfo',y='number', data = most_common_DeviceInfo)\n",
    "plt.xlabel('DeviceInfo', fontdict={'weight': 'normal', 'size': 18})\n",
    "plt.ylabel('Number', fontdict={'weight': 'normal', 'size': 18})\n",
    "plt.title('Top 5 categories in DeviceInfo', fontdict={'weight': 'normal', 'size': 22})\n",
    "plt.show()"
   ]
  },
  {
   "cell_type": "code",
   "execution_count": 49,
   "metadata": {
    "scrolled": false
   },
   "outputs": [
    {
     "data": {
      "image/png": "[encoded data removed]",
      "text/plain": [
       "<Figure size 720x360 with 1 Axes>"
      ]
     },
     "metadata": {
      "needs_background": "light"
     },
     "output_type": "display_data"
    }
   ],
   "source": [
    "matplotlib.rcParams.update({'font.size': 14})\n",
    "counter=collections.Counter(train['DeviceType'])\n",
    "most_common_element = counter.most_common(10)\n",
    "most_common_DeviceType = pd.DataFrame(most_common_element,columns=['DeviceType','number'])\n",
    "most_common_DeviceType['DeviceType'] = most_common_DeviceType['DeviceType'].map(str)\n",
    "fig,ax = plt.subplots(1,1,figsize=(10,5))\n",
    "sns.barplot(x='DeviceType',y='number', data = most_common_DeviceType)\n",
    "plt.xlabel('DeviceType', fontdict={'weight': 'normal', 'size': 18})\n",
    "plt.ylabel('Number', fontdict={'weight': 'normal', 'size': 18})\n",
    "plt.title('3 categories in DeviceType', fontdict={'weight': 'normal', 'size': 22})\n",
    "plt.show()"
   ]
  },
  {
   "cell_type": "markdown",
   "metadata": {},
   "source": [
    "### Exploration for TransactionDT"
   ]
  },
  {
   "cell_type": "code",
   "execution_count": 51,
   "metadata": {
    "scrolled": false
   },
   "outputs": [
    {
     "data": {
      "image/png": "[encoded data removed]",
      "text/plain": [
       "<Figure size 720x360 with 1 Axes>"
      ]
     },
     "metadata": {
      "needs_background": "light"
     },
     "output_type": "display_data"
    }
   ],
   "source": [
    "matplotlib.rcParams.update({'font.size': 14})\n",
    "fig,ax = plt.subplots(1,1,figsize=(10,5))\n",
    "plt.hist(train['TransactionDT'], label='train')\n",
    "plt.hist(test['TransactionDT'], label='test')\n",
    "plt.legend()\n",
    "plt.xlabel('TransactionDT', fontdict={'weight': 'normal', 'size': 18})\n",
    "plt.ylabel('Number', fontdict={'weight': 'normal', 'size': 18})\n",
    "plt.title('Distribution of transaction date', fontdict={'weight': 'normal', 'size': 22})\n",
    "plt.show()"
   ]
  },
  {
   "cell_type": "markdown",
   "metadata": {},
   "source": [
    "The TransactionDT is the realtive time stamp of training and testing sets. Since they do not have overlap in two data sets, we can conclude that these two data sets are created based on the time. So, we should not use this feature in our model."
   ]
  },
  {
   "cell_type": "code",
   "execution_count": null,
   "metadata": {},
   "outputs": [],
   "source": []
  },
  {
   "cell_type": "markdown",
   "metadata": {},
   "source": [
    "### Exploration for meanful columns"
   ]
  },
  {
   "cell_type": "markdown",
   "metadata": {},
   "source": [
    "Since there are 434 columns and most of them don't have specific meaning, we have to build the model in the black box.\n",
    "\n",
    "However, luckly, there are some features with specific meanings given by IEEE-CIS. We try to find some interesting patterns from them.  \n",
    "\n",
    "https://www.kaggle.com/c/ieee-fraud-detection/discussion/101203"
   ]
  },
  {
   "cell_type": "markdown",
   "metadata": {},
   "source": [
    "#### TransactionAmt"
   ]
  },
  {
   "cell_type": "code",
   "execution_count": 54,
   "metadata": {
    "scrolled": false
   },
   "outputs": [
    {
     "data": {
      "image/png": "[encoded data removed]",
      "text/plain": [
       "<Figure size 720x360 with 1 Axes>"
      ]
     },
     "metadata": {
      "needs_background": "light"
     },
     "output_type": "display_data"
    }
   ],
   "source": [
    "train['TransactionAmt'].head()     # create displot\n",
    "\n",
    "fig,ax = plt.subplots(1,1,figsize=(10,5))\n",
    "sns.distplot(train['TransactionAmt'], bins=5)\n",
    "plt.xlabel('TransactionAMT', fontdict={'weight': 'normal', 'size': 18})\n",
    "plt.ylabel('Percentage', fontdict={'weight': 'normal', 'size': 18})\n",
    "plt.title('Distribution of transaction amt', fontdict={'weight': 'normal', 'size': 22})\n",
    "plt.show()"
   ]
  },
  {
   "cell_type": "markdown",
   "metadata": {},
   "source": [
    "It seems that most transaction amount are less than 2000."
   ]
  },
  {
   "cell_type": "code",
   "execution_count": 144,
   "metadata": {},
   "outputs": [
    {
     "name": "stdout",
     "output_type": "stream",
     "text": [
      "Number of amount smaller than 2000 is 588500; Number of amount larger than 2000 is 2040\n"
     ]
    }
   ],
   "source": [
    "# small vs. large\n",
    "\n",
    "small_amt_num = sum(train['TransactionAmt'] < 2000)\n",
    "large_amt_num = sum(train['TransactionAmt'] >= 2000)\n",
    "\n",
    "print('Number of amount smaller than 2000 is {}; Number of amount larger than 2000 is {}'.format(small_amt_num,large_amt_num))\n"
   ]
  },
  {
   "cell_type": "code",
   "execution_count": 55,
   "metadata": {},
   "outputs": [
    {
     "data": {
      "image/png": "[encoded data removed]",
      "text/plain": [
       "<Figure size 720x360 with 1 Axes>"
      ]
     },
     "metadata": {
      "needs_background": "light"
     },
     "output_type": "display_data"
    }
   ],
   "source": [
    "fig,ax = plt.subplots(1,1,figsize=(10,5))\n",
    "sns.distplot(train.loc[train['TransactionAmt']<2000,'TransactionAmt'], bins=5)\n",
    "plt.xlabel('TransactionAMT', fontdict={'weight': 'normal', 'size': 18})\n",
    "plt.ylabel('Percentage', fontdict={'weight': 'normal', 'size': 18})\n",
    "plt.title('Distribution of transaction amt', fontdict={'weight': 'normal', 'size': 22})\n",
    "plt.show()"
   ]
  },
  {
   "cell_type": "markdown",
   "metadata": {},
   "source": [
    "It seems that most transaction amount are less than 400."
   ]
  },
  {
   "cell_type": "code",
   "execution_count": 56,
   "metadata": {},
   "outputs": [
    {
     "name": "stdout",
     "output_type": "stream",
     "text": [
      "Number of amount smaller than 400 is 556759; Number of amount larger than 400 is 33781\n"
     ]
    }
   ],
   "source": [
    "small_amt_num = sum(train['TransactionAmt'] < 400)\n",
    "large_amt_num = sum(train['TransactionAmt'] >= 400)\n",
    "\n",
    "print('Number of amount smaller than 400 is {}; Number of amount larger than 400 is {}'.format(small_amt_num,large_amt_num))"
   ]
  },
  {
   "cell_type": "code",
   "execution_count": 57,
   "metadata": {},
   "outputs": [
    {
     "data": {
      "image/png": "[encoded data removed]",
      "text/plain": [
       "<Figure size 720x360 with 1 Axes>"
      ]
     },
     "metadata": {
      "needs_background": "light"
     },
     "output_type": "display_data"
    }
   ],
   "source": [
    "fig,ax = plt.subplots(1,1,figsize=(10,5))\n",
    "sns.distplot(train.loc[train['TransactionAmt']<300,'TransactionAmt'], bins=5)\n",
    "plt.xlabel('TransactionAMT', fontdict={'weight': 'normal', 'size': 18})\n",
    "plt.ylabel('Percentage', fontdict={'weight': 'normal', 'size': 18})\n",
    "plt.title('Distribution of transaction amt', fontdict={'weight': 'normal', 'size': 22})\n",
    "plt.show()"
   ]
  },
  {
   "cell_type": "markdown",
   "metadata": {},
   "source": [
    "It's very obvious that most transaction amount are very small."
   ]
  },
  {
   "cell_type": "markdown",
   "metadata": {},
   "source": [
    "#### card type"
   ]
  },
  {
   "cell_type": "code",
   "execution_count": 110,
   "metadata": {
    "scrolled": true
   },
   "outputs": [
    {
     "data": {
      "image/png": "[encoded data removed]",
      "text/plain": [
       "<Figure size 720x360 with 1 Axes>"
      ]
     },
     "metadata": {
      "needs_background": "light"
     },
     "output_type": "display_data"
    }
   ],
   "source": [
    "counter=collections.Counter(train['card4'])\n",
    "most_common_element = counter.most_common(10)\n",
    "most_common_card = pd.DataFrame(most_common_element,columns=['card','number'])\n",
    "most_common_card['card'] = most_common_card['card'].map(str)\n",
    "fig,ax = plt.subplots(1,1,figsize=(10,5))\n",
    "sns.barplot(x='card',y='number', data = most_common_card)\n",
    "plt.xlabel('Card Type', fontdict={'weight': 'normal', 'size': 16})\n",
    "plt.ylabel('Number', fontdict={'weight': 'normal', 'size': 16})\n",
    "plt.title('Distribution of Card Tpye', fontdict={'weight': 'normal', 'size': 22})\n",
    "plt.show()"
   ]
  },
  {
   "cell_type": "code",
   "execution_count": 111,
   "metadata": {},
   "outputs": [
    {
     "data": {
      "image/png": "[encoded data removed]",
      "text/plain": [
       "<Figure size 360x360 with 1 Axes>"
      ]
     },
     "metadata": {},
     "output_type": "display_data"
    }
   ],
   "source": [
    "# fig1, ax1 = plt.subplots()\n",
    "# explode = (0.1, 0,0,0,0)\n",
    "# ax1.pie(x='number', labels='card', data=most_common_card, shadow =True, explode= explode, autopct='%1.1f%%')\n",
    "# plt.title('Pie Chart of Card Tpye', fontdict={'weight': 'normal', 'size': 16})\n",
    "# ax1.axis('equal')\n",
    "# plt.tight_layout()\n",
    "# plt.show()\n",
    "\n",
    "explode = (0.1, 0,0,0,0)\n",
    "fig,ax = plt.subplots(1,1,figsize=(5,5))\n",
    "x = np.array(most_common_card['card'])\n",
    "y = np.array(most_common_card['number'])\n",
    "percent = 100.*y/y.sum()\n",
    "\n",
    "patches, texts = ax.pie(y,shadow =True, explode= explode)\n",
    "labels = ['{0} - {1:1.2f} %'.format(i,j) for i,j in zip(x, percent)]\n",
    "\n",
    "plt.legend(patches, labels, bbox_to_anchor=(-0.1,0.8), loc=\"center left\", fontsize=13)\n",
    "plt.show()"
   ]
  },
  {
   "cell_type": "code",
   "execution_count": null,
   "metadata": {},
   "outputs": [],
   "source": []
  },
  {
   "cell_type": "markdown",
   "metadata": {},
   "source": [
    "#### broad card type"
   ]
  },
  {
   "cell_type": "code",
   "execution_count": 112,
   "metadata": {
    "scrolled": false
   },
   "outputs": [
    {
     "data": {
      "image/png": "[encoded data removed]",
      "text/plain": [
       "<Figure size 720x360 with 1 Axes>"
      ]
     },
     "metadata": {
      "needs_background": "light"
     },
     "output_type": "display_data"
    }
   ],
   "source": [
    "counter=collections.Counter(train['card6'])\n",
    "most_common_element = counter.most_common(10)\n",
    "most_common_card = pd.DataFrame(most_common_element,columns=['card','number'])\n",
    "most_common_card['card'] = most_common_card['card'].map(str)\n",
    "fig,ax = plt.subplots(1,1,figsize=(10,5))\n",
    "sns.barplot(x='card',y='number', data = most_common_card)\n",
    "plt.xlabel('Broad Card Type', fontdict={'weight': 'normal', 'size': 16})\n",
    "plt.ylabel('Number', fontdict={'weight': 'normal', 'size': 16})\n",
    "plt.title('Distribution of Broad Card Tpye', fontdict={'weight': 'normal', 'size': 22})\n",
    "plt.show()"
   ]
  },
  {
   "cell_type": "code",
   "execution_count": 113,
   "metadata": {},
   "outputs": [
    {
     "data": {
      "image/png": "[encoded data removed]",
      "text/plain": [
       "<Figure size 360x360 with 1 Axes>"
      ]
     },
     "metadata": {},
     "output_type": "display_data"
    }
   ],
   "source": [
    "# fig1, ax1 = plt.subplots()\n",
    "# explode = (0.1, 0,0,0,0)\n",
    "# ax1.pie(x='number', labels='card', data=most_common_card, shadow =True, explode= explode, autopct='%1.1f%%')\n",
    "# ax1.axis('equal')\n",
    "# plt.show()\n",
    "\n",
    "\n",
    "explode = (0.1, 0,0,0,0)\n",
    "fig,ax = plt.subplots(1,1,figsize=(5,5))\n",
    "x = np.array(most_common_card['card'])\n",
    "y = np.array(most_common_card['number'])\n",
    "percent = 100.*y/y.sum()\n",
    "\n",
    "patches, texts = ax.pie(y,shadow =True, explode= explode)\n",
    "labels = ['{0} - {1:1.3f} %'.format(i,j) for i,j in zip(x, percent)]\n",
    "\n",
    "plt.legend(patches, labels, bbox_to_anchor=(-0.1,0.8), loc=\"center left\", fontsize=13)\n",
    "plt.show()"
   ]
  },
  {
   "cell_type": "markdown",
   "metadata": {},
   "source": [
    "#### purchaser email domain"
   ]
  },
  {
   "cell_type": "code",
   "execution_count": 130,
   "metadata": {
    "scrolled": true
   },
   "outputs": [
    {
     "name": "stdout",
     "output_type": "stream",
     "text": [
      "534282\n",
      "0.9047346496426999\n"
     ]
    }
   ],
   "source": [
    "# purchaser email domain\n",
    "train['P_emaildomain'].unique()\n",
    "\n",
    "counter=collections.Counter(train['P_emaildomain'])\n",
    "most_common_element = counter.most_common(6)\n",
    "print(sum(list(map(lambda x: x[1], most_common_element))))\n",
    "print(sum(list(map(lambda x: x[1], most_common_element)))/train['P_emaildomain'].shape[0])"
   ]
  },
  {
   "cell_type": "markdown",
   "metadata": {},
   "source": [
    "We choose top 6 purchaser email domain which contributes of more than 90%"
   ]
  },
  {
   "cell_type": "code",
   "execution_count": 131,
   "metadata": {},
   "outputs": [
    {
     "data": {
      "image/png": "[encoded data removed]",
      "text/plain": [
       "<Figure size 720x360 with 1 Axes>"
      ]
     },
     "metadata": {
      "needs_background": "light"
     },
     "output_type": "display_data"
    }
   ],
   "source": [
    "most_common_card = pd.DataFrame(most_common_element,columns=['card','number'])\n",
    "most_common_card['card'] = most_common_card['card'].map(str)\n",
    "fig,ax = plt.subplots(1,1,figsize=(10,5))\n",
    "sns.barplot(x='card',y='number', data = most_common_card)\n",
    "plt.xlabel('Perchase Email Domain', fontdict={'weight': 'normal', 'size': 16})\n",
    "plt.ylabel('Number', fontdict={'weight': 'normal', 'size': 16})\n",
    "plt.title('Distribution of Top 6 Perchase Email Domain', fontdict={'weight': 'normal', 'size': 22})\n",
    "plt.show()"
   ]
  },
  {
   "cell_type": "code",
   "execution_count": 136,
   "metadata": {},
   "outputs": [
    {
     "data": {
      "image/png": "[encoded data removed]",
      "text/plain": [
       "<Figure size 360x360 with 1 Axes>"
      ]
     },
     "metadata": {},
     "output_type": "display_data"
    }
   ],
   "source": [
    "# fig1, ax1 = plt.subplots()\n",
    "# explode = (0.1, 0,0,0,0,0)\n",
    "# ax1.pie(x='number', labels='card', data=most_common_card, shadow =True, explode= explode, autopct='%1.1f%%')\n",
    "# ax1.axis('equal')\n",
    "# plt.show()\n",
    "\n",
    "explode = (0.1, 0,0,0,0,0)\n",
    "fig,ax = plt.subplots(1,1,figsize=(5,5))\n",
    "x = np.array(most_common_card['card'])\n",
    "y = np.array(most_common_card['number'])\n",
    "percent = 100.*y/y.sum()\n",
    "\n",
    "patches, texts = ax.pie(y,shadow =True,startangle=30, explode= explode)\n",
    "labels = ['{0} - {1:1.3f} %'.format(i,j) for i,j in zip(x, percent)]\n",
    "\n",
    "plt.legend(patches, labels, bbox_to_anchor=(-0.2,0.8), loc=\"center left\", fontsize=13)\n",
    "plt.show()"
   ]
  },
  {
   "cell_type": "markdown",
   "metadata": {},
   "source": [
    "#### recipient email domain"
   ]
  },
  {
   "cell_type": "code",
   "execution_count": 124,
   "metadata": {},
   "outputs": [
    {
     "name": "stdout",
     "output_type": "stream",
     "text": [
      "573977\n",
      "0.9719527889728046\n"
     ]
    }
   ],
   "source": [
    "# recipient email domain\n",
    "train['R_emaildomain'].unique()\n",
    "\n",
    "counter=collections.Counter(train['R_emaildomain'])\n",
    "most_common_element = counter.most_common(6)\n",
    "print(sum(list(map(lambda x: x[1], most_common_element))))\n",
    "print(sum(list(map(lambda x: x[1], most_common_element)))/train['P_emaildomain'].shape[0])"
   ]
  },
  {
   "cell_type": "markdown",
   "metadata": {},
   "source": [
    "We choose top 6 purchaser email domain which contributes of more than 97%"
   ]
  },
  {
   "cell_type": "code",
   "execution_count": 126,
   "metadata": {
    "scrolled": true
   },
   "outputs": [
    {
     "data": {
      "image/png": "[encoded data removed]",
      "text/plain": [
       "<Figure size 720x360 with 1 Axes>"
      ]
     },
     "metadata": {
      "needs_background": "light"
     },
     "output_type": "display_data"
    }
   ],
   "source": [
    "matplotlib.rcParams.update({'font.size': 14})\n",
    "most_common_card = pd.DataFrame(most_common_element,columns=['card','number'])\n",
    "most_common_card['card'] = most_common_card['card'].map(str)\n",
    "fig,ax = plt.subplots(1,1,figsize=(10,5))\n",
    "sns.barplot(x='card',y='number', data = most_common_card)\n",
    "plt.xlabel('Recipient Email Domain', fontdict={'weight': 'normal', 'size': 16})\n",
    "plt.ylabel('Number', fontdict={'weight': 'normal', 'size': 16})\n",
    "plt.title('Distribution of Top 6 Recipient Email Domain', fontdict={'weight': 'normal', 'size': 22})\n",
    "plt.show()"
   ]
  },
  {
   "cell_type": "code",
   "execution_count": 128,
   "metadata": {},
   "outputs": [
    {
     "data": {
      "image/png": "[encoded data removed]",
      "text/plain": [
       "<Figure size 360x360 with 1 Axes>"
      ]
     },
     "metadata": {},
     "output_type": "display_data"
    }
   ],
   "source": [
    "\n",
    "# fig1, ax1 = plt.subplots()\n",
    "# explode = (0.1, 0,0,0,0,0)\n",
    "# ax1.pie(x='number', labels='card', data=most_common_card, shadow =True, explode= explode, autopct='%1.1f%%')\n",
    "# ax1.axis('equal')\n",
    "# plt.show()\n",
    "\n",
    "explode = (0.1, 0,0,0,0,0)\n",
    "fig,ax = plt.subplots(1,1,figsize=(5,5))\n",
    "x = np.array(most_common_card['card'])\n",
    "y = np.array(most_common_card['number'])\n",
    "percent = 100.*y/y.sum()\n",
    "\n",
    "patches, texts = ax.pie(y,shadow =True, explode= explode)\n",
    "labels = ['{0} - {1:1.3f} %'.format(i,j) for i,j in zip(x, percent)]\n",
    "\n",
    "plt.legend(patches, labels, bbox_to_anchor=(-0.1,0.8), loc=\"center left\", fontsize=13)\n",
    "plt.show()"
   ]
  },
  {
   "cell_type": "code",
   "execution_count": null,
   "metadata": {},
   "outputs": [],
   "source": []
  },
  {
   "cell_type": "markdown",
   "metadata": {},
   "source": [
    "## Baseline with sklearn"
   ]
  },
  {
   "cell_type": "code",
   "execution_count": 7,
   "metadata": {},
   "outputs": [
    {
     "data": {
      "text/html": [
       "<div>\n",
       "<style scoped>\n",
       "    .dataframe tbody tr th:only-of-type {\n",
       "        vertical-align: middle;\n",
       "    }\n",
       "\n",
       "    .dataframe tbody tr th {\n",
       "        vertical-align: top;\n",
       "    }\n",
       "\n",
       "    .dataframe thead th {\n",
       "        text-align: right;\n",
       "    }\n",
       "</style>\n",
       "<table border=\"1\" class=\"dataframe\">\n",
       "  <thead>\n",
       "    <tr style=\"text-align: right;\">\n",
       "      <th></th>\n",
       "      <th>TransactionID</th>\n",
       "      <th>isFraud</th>\n",
       "      <th>TransactionDT</th>\n",
       "      <th>TransactionAmt</th>\n",
       "      <th>ProductCD</th>\n",
       "      <th>card1</th>\n",
       "      <th>card2</th>\n",
       "      <th>card3</th>\n",
       "      <th>card4</th>\n",
       "      <th>card5</th>\n",
       "      <th>...</th>\n",
       "      <th>id_31</th>\n",
       "      <th>id_32</th>\n",
       "      <th>id_33</th>\n",
       "      <th>id_34</th>\n",
       "      <th>id_35</th>\n",
       "      <th>id_36</th>\n",
       "      <th>id_37</th>\n",
       "      <th>id_38</th>\n",
       "      <th>DeviceType</th>\n",
       "      <th>DeviceInfo</th>\n",
       "    </tr>\n",
       "  </thead>\n",
       "  <tbody>\n",
       "    <tr>\n",
       "      <th>0</th>\n",
       "      <td>2987000</td>\n",
       "      <td>0</td>\n",
       "      <td>86400</td>\n",
       "      <td>68.5</td>\n",
       "      <td>W</td>\n",
       "      <td>13926</td>\n",
       "      <td>NaN</td>\n",
       "      <td>150.0</td>\n",
       "      <td>discover</td>\n",
       "      <td>142.0</td>\n",
       "      <td>...</td>\n",
       "      <td>NaN</td>\n",
       "      <td>NaN</td>\n",
       "      <td>NaN</td>\n",
       "      <td>NaN</td>\n",
       "      <td>NaN</td>\n",
       "      <td>NaN</td>\n",
       "      <td>NaN</td>\n",
       "      <td>NaN</td>\n",
       "      <td>NaN</td>\n",
       "      <td>NaN</td>\n",
       "    </tr>\n",
       "    <tr>\n",
       "      <th>1</th>\n",
       "      <td>2987001</td>\n",
       "      <td>0</td>\n",
       "      <td>86401</td>\n",
       "      <td>29.0</td>\n",
       "      <td>W</td>\n",
       "      <td>2755</td>\n",
       "      <td>404.0</td>\n",
       "      <td>150.0</td>\n",
       "      <td>mastercard</td>\n",
       "      <td>102.0</td>\n",
       "      <td>...</td>\n",
       "      <td>NaN</td>\n",
       "      <td>NaN</td>\n",
       "      <td>NaN</td>\n",
       "      <td>NaN</td>\n",
       "      <td>NaN</td>\n",
       "      <td>NaN</td>\n",
       "      <td>NaN</td>\n",
       "      <td>NaN</td>\n",
       "      <td>NaN</td>\n",
       "      <td>NaN</td>\n",
       "    </tr>\n",
       "    <tr>\n",
       "      <th>2</th>\n",
       "      <td>2987002</td>\n",
       "      <td>0</td>\n",
       "      <td>86469</td>\n",
       "      <td>59.0</td>\n",
       "      <td>W</td>\n",
       "      <td>4663</td>\n",
       "      <td>490.0</td>\n",
       "      <td>150.0</td>\n",
       "      <td>visa</td>\n",
       "      <td>166.0</td>\n",
       "      <td>...</td>\n",
       "      <td>NaN</td>\n",
       "      <td>NaN</td>\n",
       "      <td>NaN</td>\n",
       "      <td>NaN</td>\n",
       "      <td>NaN</td>\n",
       "      <td>NaN</td>\n",
       "      <td>NaN</td>\n",
       "      <td>NaN</td>\n",
       "      <td>NaN</td>\n",
       "      <td>NaN</td>\n",
       "    </tr>\n",
       "    <tr>\n",
       "      <th>3</th>\n",
       "      <td>2987003</td>\n",
       "      <td>0</td>\n",
       "      <td>86499</td>\n",
       "      <td>50.0</td>\n",
       "      <td>W</td>\n",
       "      <td>18132</td>\n",
       "      <td>567.0</td>\n",
       "      <td>150.0</td>\n",
       "      <td>mastercard</td>\n",
       "      <td>117.0</td>\n",
       "      <td>...</td>\n",
       "      <td>NaN</td>\n",
       "      <td>NaN</td>\n",
       "      <td>NaN</td>\n",
       "      <td>NaN</td>\n",
       "      <td>NaN</td>\n",
       "      <td>NaN</td>\n",
       "      <td>NaN</td>\n",
       "      <td>NaN</td>\n",
       "      <td>NaN</td>\n",
       "      <td>NaN</td>\n",
       "    </tr>\n",
       "    <tr>\n",
       "      <th>4</th>\n",
       "      <td>2987004</td>\n",
       "      <td>0</td>\n",
       "      <td>86506</td>\n",
       "      <td>50.0</td>\n",
       "      <td>H</td>\n",
       "      <td>4497</td>\n",
       "      <td>514.0</td>\n",
       "      <td>150.0</td>\n",
       "      <td>mastercard</td>\n",
       "      <td>102.0</td>\n",
       "      <td>...</td>\n",
       "      <td>samsung browser 6.2</td>\n",
       "      <td>32.0</td>\n",
       "      <td>2220x1080</td>\n",
       "      <td>match_status:2</td>\n",
       "      <td>T</td>\n",
       "      <td>F</td>\n",
       "      <td>T</td>\n",
       "      <td>T</td>\n",
       "      <td>mobile</td>\n",
       "      <td>SAMSUNG SM-G892A Build/NRD90M</td>\n",
       "    </tr>\n",
       "  </tbody>\n",
       "</table>\n",
       "<p>5 rows × 434 columns</p>\n",
       "</div>"
      ],
      "text/plain": [
       "   TransactionID  isFraud  TransactionDT  TransactionAmt ProductCD  card1  \\\n",
       "0        2987000        0          86400            68.5         W  13926   \n",
       "1        2987001        0          86401            29.0         W   2755   \n",
       "2        2987002        0          86469            59.0         W   4663   \n",
       "3        2987003        0          86499            50.0         W  18132   \n",
       "4        2987004        0          86506            50.0         H   4497   \n",
       "\n",
       "   card2  card3       card4  card5              ...                \\\n",
       "0    NaN  150.0    discover  142.0              ...                 \n",
       "1  404.0  150.0  mastercard  102.0              ...                 \n",
       "2  490.0  150.0        visa  166.0              ...                 \n",
       "3  567.0  150.0  mastercard  117.0              ...                 \n",
       "4  514.0  150.0  mastercard  102.0              ...                 \n",
       "\n",
       "                 id_31  id_32      id_33           id_34  id_35 id_36 id_37  \\\n",
       "0                  NaN    NaN        NaN             NaN    NaN   NaN   NaN   \n",
       "1                  NaN    NaN        NaN             NaN    NaN   NaN   NaN   \n",
       "2                  NaN    NaN        NaN             NaN    NaN   NaN   NaN   \n",
       "3                  NaN    NaN        NaN             NaN    NaN   NaN   NaN   \n",
       "4  samsung browser 6.2   32.0  2220x1080  match_status:2      T     F     T   \n",
       "\n",
       "   id_38  DeviceType                     DeviceInfo  \n",
       "0    NaN         NaN                            NaN  \n",
       "1    NaN         NaN                            NaN  \n",
       "2    NaN         NaN                            NaN  \n",
       "3    NaN         NaN                            NaN  \n",
       "4      T      mobile  SAMSUNG SM-G892A Build/NRD90M  \n",
       "\n",
       "[5 rows x 434 columns]"
      ]
     },
     "execution_count": 7,
     "metadata": {},
     "output_type": "execute_result"
    }
   ],
   "source": [
    "train = train.iloc[:,1:]\n",
    "train.head()"
   ]
  },
  {
   "cell_type": "code",
   "execution_count": 27,
   "metadata": {},
   "outputs": [],
   "source": [
    "y = train['isFraud']\n",
    "X = train.iloc[:,2:]"
   ]
  },
  {
   "cell_type": "code",
   "execution_count": 32,
   "metadata": {},
   "outputs": [],
   "source": [
    "from sklearn.model_selection import train_test_split\n",
    "X_train,X_test,y_train,y_test = train_test_split(X,y,test_size=0.3,random_state=123)"
   ]
  },
  {
   "cell_type": "code",
   "execution_count": 33,
   "metadata": {},
   "outputs": [
    {
     "data": {
      "text/html": [
       "<div>\n",
       "<style scoped>\n",
       "    .dataframe tbody tr th:only-of-type {\n",
       "        vertical-align: middle;\n",
       "    }\n",
       "\n",
       "    .dataframe tbody tr th {\n",
       "        vertical-align: top;\n",
       "    }\n",
       "\n",
       "    .dataframe thead th {\n",
       "        text-align: right;\n",
       "    }\n",
       "</style>\n",
       "<table border=\"1\" class=\"dataframe\">\n",
       "  <thead>\n",
       "    <tr style=\"text-align: right;\">\n",
       "      <th></th>\n",
       "      <th>TransactionDT</th>\n",
       "      <th>TransactionAmt</th>\n",
       "      <th>ProductCD</th>\n",
       "      <th>card1</th>\n",
       "      <th>card2</th>\n",
       "      <th>card3</th>\n",
       "      <th>card4</th>\n",
       "      <th>card5</th>\n",
       "      <th>card6</th>\n",
       "      <th>addr1</th>\n",
       "      <th>...</th>\n",
       "      <th>id_31</th>\n",
       "      <th>id_32</th>\n",
       "      <th>id_33</th>\n",
       "      <th>id_34</th>\n",
       "      <th>id_35</th>\n",
       "      <th>id_36</th>\n",
       "      <th>id_37</th>\n",
       "      <th>id_38</th>\n",
       "      <th>DeviceType</th>\n",
       "      <th>DeviceInfo</th>\n",
       "    </tr>\n",
       "  </thead>\n",
       "  <tbody>\n",
       "    <tr>\n",
       "      <th>378585</th>\n",
       "      <td>9479836</td>\n",
       "      <td>59.00</td>\n",
       "      <td>W</td>\n",
       "      <td>6470</td>\n",
       "      <td>111.0</td>\n",
       "      <td>150.0</td>\n",
       "      <td>visa</td>\n",
       "      <td>226.0</td>\n",
       "      <td>debit</td>\n",
       "      <td>299.0</td>\n",
       "      <td>...</td>\n",
       "      <td>NaN</td>\n",
       "      <td>NaN</td>\n",
       "      <td>NaN</td>\n",
       "      <td>NaN</td>\n",
       "      <td>NaN</td>\n",
       "      <td>NaN</td>\n",
       "      <td>NaN</td>\n",
       "      <td>NaN</td>\n",
       "      <td>NaN</td>\n",
       "      <td>NaN</td>\n",
       "    </tr>\n",
       "    <tr>\n",
       "      <th>85054</th>\n",
       "      <td>1804670</td>\n",
       "      <td>39.00</td>\n",
       "      <td>W</td>\n",
       "      <td>7826</td>\n",
       "      <td>481.0</td>\n",
       "      <td>150.0</td>\n",
       "      <td>mastercard</td>\n",
       "      <td>224.0</td>\n",
       "      <td>debit</td>\n",
       "      <td>184.0</td>\n",
       "      <td>...</td>\n",
       "      <td>NaN</td>\n",
       "      <td>NaN</td>\n",
       "      <td>NaN</td>\n",
       "      <td>NaN</td>\n",
       "      <td>NaN</td>\n",
       "      <td>NaN</td>\n",
       "      <td>NaN</td>\n",
       "      <td>NaN</td>\n",
       "      <td>NaN</td>\n",
       "      <td>NaN</td>\n",
       "    </tr>\n",
       "    <tr>\n",
       "      <th>442830</th>\n",
       "      <td>11242829</td>\n",
       "      <td>48.95</td>\n",
       "      <td>W</td>\n",
       "      <td>3070</td>\n",
       "      <td>537.0</td>\n",
       "      <td>150.0</td>\n",
       "      <td>visa</td>\n",
       "      <td>226.0</td>\n",
       "      <td>debit</td>\n",
       "      <td>315.0</td>\n",
       "      <td>...</td>\n",
       "      <td>NaN</td>\n",
       "      <td>NaN</td>\n",
       "      <td>NaN</td>\n",
       "      <td>NaN</td>\n",
       "      <td>NaN</td>\n",
       "      <td>NaN</td>\n",
       "      <td>NaN</td>\n",
       "      <td>NaN</td>\n",
       "      <td>NaN</td>\n",
       "      <td>NaN</td>\n",
       "    </tr>\n",
       "    <tr>\n",
       "      <th>448182</th>\n",
       "      <td>11408417</td>\n",
       "      <td>3224.45</td>\n",
       "      <td>W</td>\n",
       "      <td>9803</td>\n",
       "      <td>583.0</td>\n",
       "      <td>150.0</td>\n",
       "      <td>visa</td>\n",
       "      <td>226.0</td>\n",
       "      <td>credit</td>\n",
       "      <td>264.0</td>\n",
       "      <td>...</td>\n",
       "      <td>NaN</td>\n",
       "      <td>NaN</td>\n",
       "      <td>NaN</td>\n",
       "      <td>NaN</td>\n",
       "      <td>NaN</td>\n",
       "      <td>NaN</td>\n",
       "      <td>NaN</td>\n",
       "      <td>NaN</td>\n",
       "      <td>NaN</td>\n",
       "      <td>NaN</td>\n",
       "    </tr>\n",
       "    <tr>\n",
       "      <th>390346</th>\n",
       "      <td>9805501</td>\n",
       "      <td>34.00</td>\n",
       "      <td>W</td>\n",
       "      <td>13139</td>\n",
       "      <td>512.0</td>\n",
       "      <td>150.0</td>\n",
       "      <td>mastercard</td>\n",
       "      <td>224.0</td>\n",
       "      <td>debit</td>\n",
       "      <td>143.0</td>\n",
       "      <td>...</td>\n",
       "      <td>NaN</td>\n",
       "      <td>NaN</td>\n",
       "      <td>NaN</td>\n",
       "      <td>NaN</td>\n",
       "      <td>NaN</td>\n",
       "      <td>NaN</td>\n",
       "      <td>NaN</td>\n",
       "      <td>NaN</td>\n",
       "      <td>NaN</td>\n",
       "      <td>NaN</td>\n",
       "    </tr>\n",
       "  </tbody>\n",
       "</table>\n",
       "<p>5 rows × 432 columns</p>\n",
       "</div>"
      ],
      "text/plain": [
       "        TransactionDT  TransactionAmt ProductCD  card1  card2  card3  \\\n",
       "378585        9479836           59.00         W   6470  111.0  150.0   \n",
       "85054         1804670           39.00         W   7826  481.0  150.0   \n",
       "442830       11242829           48.95         W   3070  537.0  150.0   \n",
       "448182       11408417         3224.45         W   9803  583.0  150.0   \n",
       "390346        9805501           34.00         W  13139  512.0  150.0   \n",
       "\n",
       "             card4  card5   card6  addr1     ...      id_31  id_32  id_33  \\\n",
       "378585        visa  226.0   debit  299.0     ...        NaN    NaN    NaN   \n",
       "85054   mastercard  224.0   debit  184.0     ...        NaN    NaN    NaN   \n",
       "442830        visa  226.0   debit  315.0     ...        NaN    NaN    NaN   \n",
       "448182        visa  226.0  credit  264.0     ...        NaN    NaN    NaN   \n",
       "390346  mastercard  224.0   debit  143.0     ...        NaN    NaN    NaN   \n",
       "\n",
       "       id_34 id_35  id_36  id_37  id_38  DeviceType  DeviceInfo  \n",
       "378585   NaN   NaN    NaN    NaN    NaN         NaN         NaN  \n",
       "85054    NaN   NaN    NaN    NaN    NaN         NaN         NaN  \n",
       "442830   NaN   NaN    NaN    NaN    NaN         NaN         NaN  \n",
       "448182   NaN   NaN    NaN    NaN    NaN         NaN         NaN  \n",
       "390346   NaN   NaN    NaN    NaN    NaN         NaN         NaN  \n",
       "\n",
       "[5 rows x 432 columns]"
      ]
     },
     "execution_count": 33,
     "metadata": {},
     "output_type": "execute_result"
    }
   ],
   "source": [
    "X_train.head()"
   ]
  },
  {
   "cell_type": "code",
   "execution_count": 34,
   "metadata": {},
   "outputs": [
    {
     "data": {
      "text/plain": [
       "378585    0\n",
       "85054     0\n",
       "442830    0\n",
       "448182    0\n",
       "390346    0\n",
       "Name: isFraud, dtype: int64"
      ]
     },
     "execution_count": 34,
     "metadata": {},
     "output_type": "execute_result"
    }
   ],
   "source": [
    "y_train.head()"
   ]
  },
  {
   "cell_type": "code",
   "execution_count": 39,
   "metadata": {},
   "outputs": [
    {
     "data": {
      "text/plain": [
       "DummyClassifier(constant=None, random_state=None, strategy='stratified')"
      ]
     },
     "execution_count": 39,
     "metadata": {},
     "output_type": "execute_result"
    }
   ],
   "source": [
    "from sklearn.dummy import DummyClassifier\n",
    "dummy_cl = DummyClassifier()\n",
    "dummy_cl.fit(X_train,y_train)"
   ]
  },
  {
   "cell_type": "code",
   "execution_count": 40,
   "metadata": {},
   "outputs": [],
   "source": [
    "y_pred = dummy_cl.predict(X_test)"
   ]
  },
  {
   "cell_type": "code",
   "execution_count": 45,
   "metadata": {},
   "outputs": [],
   "source": [
    "from sklearn.metrics import precision_score\n",
    "from sklearn.metrics import f1_score\n",
    "from sklearn.metrics import recall_score\n",
    "from sklearn.metrics import roc_auc_score"
   ]
  },
  {
   "cell_type": "code",
   "execution_count": 46,
   "metadata": {},
   "outputs": [
    {
     "name": "stdout",
     "output_type": "stream",
     "text": [
      "0.032176256142019334\n",
      "0.032469609724888035\n",
      "0.03232226733540323\n",
      "0.49837160200714004\n"
     ]
    }
   ],
   "source": [
    "print(precision_score(y_test,y_pred))\n",
    "print(recall_score(y_test,y_pred))\n",
    "print(f1_score(y_test,y_pred))\n",
    "print(roc_auc_score(y_test,y_pred))"
   ]
  }
 ],
 "metadata": {
  "kernelspec": {
   "display_name": "Python 3",
   "language": "python",
   "name": "python3"
  },
  "language_info": {
   "codemirror_mode": {
    "name": "ipython",
    "version": 3
   },
   "file_extension": ".py",
   "mimetype": "text/x-python",
   "name": "python",
   "nbconvert_exporter": "python",
   "pygments_lexer": "ipython3",
   "version": "3.7.3"
  },
  "toc": {
   "base_numbering": 1,
   "nav_menu": {},
   "number_sections": true,
   "sideBar": true,
   "skip_h1_title": false,
   "title_cell": "Table of Contents",
   "title_sidebar": "Contents",
   "toc_cell": false,
   "toc_position": {},
   "toc_section_display": true,
   "toc_window_display": false
  }
 },
 "nbformat": 4,
 "nbformat_minor": 2
}
